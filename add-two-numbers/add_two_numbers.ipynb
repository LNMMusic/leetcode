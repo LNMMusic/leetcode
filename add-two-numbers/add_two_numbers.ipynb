{
 "cells": [
  {
   "cell_type": "code",
   "execution_count": 13,
   "metadata": {},
   "outputs": [],
   "source": [
    "class ListNode:\n",
    "    def __init__(self, val=0, next=None):\n",
    "        self.val = val\n",
    "        self.next = next\n",
    "\n",
    "class Solution:\n",
    "    def addTwoNumbers(self, l1: ListNode, l2: ListNode) -> ListNode:\n",
    "        dummy = ListNode(val=None)\n",
    "\n",
    "        # default case\n",
    "        ref = dummy\n",
    "        r = 0\n",
    "        while l1 or l2:\n",
    "            # fetch values and update\n",
    "            add = r\n",
    "            if l1:\n",
    "                add += l1.val\n",
    "                l1 = l1.next\n",
    "            if l2:\n",
    "                add += l2.val\n",
    "                l2 = l2.next\n",
    "\n",
    "            # digit sum\n",
    "            r = add // 10 # the division gives as how many units must be sum on the next iteration\n",
    "            v = add % 10  # the number that goes into the current node\n",
    "            # update ref\n",
    "            ref.next = ListNode(val=v)\n",
    "            ref = ref.next\n",
    "        if r:\n",
    "            ref.next = ListNode(val=r)\n",
    "\n",
    "        return dummy.next"
   ]
  },
  {
   "cell_type": "code",
   "execution_count": 14,
   "metadata": {},
   "outputs": [],
   "source": [
    "s = Solution()\n",
    "result = s.addTwoNumbers(\n",
    "    l1=ListNode(val=2, next=ListNode(val=4, next=ListNode(val=3))),\n",
    "    l2=ListNode(val=5, next=ListNode(val=6, next=ListNode(val=4)))\n",
    ")"
   ]
  },
  {
   "cell_type": "code",
   "execution_count": 17,
   "metadata": {},
   "outputs": [
    {
     "data": {
      "text/plain": [
       "8"
      ]
     },
     "execution_count": 17,
     "metadata": {},
     "output_type": "execute_result"
    }
   ],
   "source": [
    "result.next.next.val"
   ]
  },
  {
   "cell_type": "code",
   "execution_count": null,
   "metadata": {},
   "outputs": [],
   "source": []
  }
 ],
 "metadata": {
  "kernelspec": {
   "display_name": "Python 3",
   "language": "python",
   "name": "python3"
  },
  "language_info": {
   "codemirror_mode": {
    "name": "ipython",
    "version": 3
   },
   "file_extension": ".py",
   "mimetype": "text/x-python",
   "name": "python",
   "nbconvert_exporter": "python",
   "pygments_lexer": "ipython3",
   "version": "3.12.2"
  }
 },
 "nbformat": 4,
 "nbformat_minor": 2
}
