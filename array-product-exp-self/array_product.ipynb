{
 "cells": [
  {
   "cell_type": "code",
   "execution_count": 1,
   "metadata": {},
   "outputs": [],
   "source": [
    "from typing import List"
   ]
  },
  {
   "cell_type": "code",
   "execution_count": null,
   "metadata": {},
   "outputs": [],
   "source": [
    "class Solution:\n",
    "    def productExceptSelf(self, nums: List[int]) -> List[int]:\n",
    "        length = len(nums)\n",
    "        results = [1]*length\n",
    "\n",
    "        # left results\n",
    "        acc = 1\n",
    "        for i in range(length):\n",
    "            # set results\n",
    "            results[i] *= acc\n",
    "            # update results with nums[ith] for next\n",
    "            acc *= nums[i]\n",
    "\n",
    "        # right results\n",
    "        acc = 1\n",
    "        for i in range(length-1, -1, -1):\n",
    "            # set results without nums[ith]\n",
    "            results[i] *= acc\n",
    "            # update results with nums[ith] for next\n",
    "            acc *= nums[i]\n",
    "\n",
    "        return results"
   ]
  }
 ],
 "metadata": {
  "kernelspec": {
   "display_name": "Python 3",
   "language": "python",
   "name": "python3"
  },
  "language_info": {
   "codemirror_mode": {
    "name": "ipython",
    "version": 3
   },
   "file_extension": ".py",
   "mimetype": "text/x-python",
   "name": "python",
   "nbconvert_exporter": "python",
   "pygments_lexer": "ipython3",
   "version": "3.12.2"
  }
 },
 "nbformat": 4,
 "nbformat_minor": 2
}
