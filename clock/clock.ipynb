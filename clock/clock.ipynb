{
 "cells": [
  {
   "cell_type": "code",
   "execution_count": 3,
   "metadata": {},
   "outputs": [],
   "source": [
    "import time\n",
    "from typing import List\n",
    "\n",
    "def multicounter(counters:List[int], current:List[int]):\n",
    "    # base case\n",
    "    if not counters:\n",
    "        time.sleep(1)\n",
    "        print(current)\n",
    "        return\n",
    "    \n",
    "    # default case\n",
    "    for i in range(0, counters[0]+1):\n",
    "        c = current + [i]\n",
    "        multicounter(counters=counters[1:], current=c)"
   ]
  },
  {
   "cell_type": "code",
   "execution_count": 4,
   "metadata": {},
   "outputs": [
    {
     "name": "stdout",
     "output_type": "stream",
     "text": [
      "[0, 0, 0]\n",
      "[0, 0, 1]\n",
      "[0, 0, 2]\n",
      "[0, 1, 0]\n",
      "[0, 1, 1]\n",
      "[0, 1, 2]\n",
      "[0, 2, 0]\n",
      "[0, 2, 1]\n",
      "[0, 2, 2]\n",
      "[0, 3, 0]\n",
      "[0, 3, 1]\n",
      "[0, 3, 2]\n",
      "[1, 0, 0]\n",
      "[1, 0, 1]\n",
      "[1, 0, 2]\n",
      "[1, 1, 0]\n",
      "[1, 1, 1]\n",
      "[1, 1, 2]\n",
      "[1, 2, 0]\n",
      "[1, 2, 1]\n",
      "[1, 2, 2]\n",
      "[1, 3, 0]\n",
      "[1, 3, 1]\n",
      "[1, 3, 2]\n",
      "[2, 0, 0]\n",
      "[2, 0, 1]\n",
      "[2, 0, 2]\n",
      "[2, 1, 0]\n",
      "[2, 1, 1]\n",
      "[2, 1, 2]\n",
      "[2, 2, 0]\n",
      "[2, 2, 1]\n",
      "[2, 2, 2]\n",
      "[2, 3, 0]\n",
      "[2, 3, 1]\n",
      "[2, 3, 2]\n",
      "[3, 0, 0]\n",
      "[3, 0, 1]\n",
      "[3, 0, 2]\n",
      "[3, 1, 0]\n",
      "[3, 1, 1]\n",
      "[3, 1, 2]\n",
      "[3, 2, 0]\n",
      "[3, 2, 1]\n",
      "[3, 2, 2]\n",
      "[3, 3, 0]\n",
      "[3, 3, 1]\n",
      "[3, 3, 2]\n",
      "[4, 0, 0]\n",
      "[4, 0, 1]\n",
      "[4, 0, 2]\n",
      "[4, 1, 0]\n",
      "[4, 1, 1]\n",
      "[4, 1, 2]\n",
      "[4, 2, 0]\n",
      "[4, 2, 1]\n",
      "[4, 2, 2]\n",
      "[4, 3, 0]\n",
      "[4, 3, 1]\n",
      "[4, 3, 2]\n",
      "[5, 0, 0]\n",
      "[5, 0, 1]\n",
      "[5, 0, 2]\n",
      "[5, 1, 0]\n",
      "[5, 1, 1]\n",
      "[5, 1, 2]\n",
      "[5, 2, 0]\n",
      "[5, 2, 1]\n",
      "[5, 2, 2]\n",
      "[5, 3, 0]\n",
      "[5, 3, 1]\n",
      "[5, 3, 2]\n"
     ]
    }
   ],
   "source": [
    "multicounter(counters=[5,3,2], current=[])"
   ]
  }
 ],
 "metadata": {
  "kernelspec": {
   "display_name": "Python 3",
   "language": "python",
   "name": "python3"
  },
  "language_info": {
   "codemirror_mode": {
    "name": "ipython",
    "version": 3
   },
   "file_extension": ".py",
   "mimetype": "text/x-python",
   "name": "python",
   "nbconvert_exporter": "python",
   "pygments_lexer": "ipython3",
   "version": "3.12.2"
  }
 },
 "nbformat": 4,
 "nbformat_minor": 2
}
