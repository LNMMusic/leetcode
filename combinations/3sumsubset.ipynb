{
 "cells": [
  {
   "cell_type": "code",
   "execution_count": 9,
   "metadata": {},
   "outputs": [],
   "source": [
    "def closest(nums:list, target:int) -> int:\n",
    "    '''\n",
    "    nums length must be 3\n",
    "    '''\n",
    "    k = 3\n",
    "    closestSum = sum(nums[0:k])\n",
    "    closestDist= abs(closestSum - target)\n",
    "\n",
    "    # subset is 3 so we can statically code the spaces for each i,j,k(k=3) spaces\n",
    "    # i := we iterate over elements freezing, but leaving 2 spaces\n",
    "    for i in range(0, len(nums)-(2)):\n",
    "        for j in range(i+1, len(nums)-1):\n",
    "            for k in range(j+1, len(nums)):\n",
    "                # all possible combinations\n",
    "                currentSum = nums[i] + nums[j] + nums[k]\n",
    "                currentDist= abs(currentSum - target)\n",
    "\n",
    "                if currentDist < closestDist:\n",
    "                    closestSum = currentSum\n",
    "                    closestDist= currentDist\n",
    "                \n",
    "                if currentSum == target:\n",
    "                    return closestSum\n",
    "\n",
    "    return closestSum"
   ]
  },
  {
   "cell_type": "code",
   "execution_count": null,
   "metadata": {},
   "outputs": [],
   "source": [
    "def closest2pointers(nums:list, target:int) -> int:\n",
    "    '''\n",
    "    closest2pointers\n",
    "    - nums: list of integers of length >= 3\n",
    "    - target: sum to get closer\n",
    "    '''\n",
    "    # sorting\n",
    "    nums = sorted(nums)\n",
    "\n",
    "    # 2 pointers technique\n",
    "    k = 3\n",
    "    closestSum = sum(nums[:k])\n",
    "    closestAbs = abs(closestSum - target)\n",
    "\n",
    "    # iterate up to k-1 spaces to let the inner loop or processes work with\n",
    "    for i in range(0, len(nums)-(k-1)):\n",
    "        left = i+1\n",
    "        right= len(nums)-1\n",
    "        \n",
    "        while left<right:\n",
    "            # fetch current\n",
    "            currentSum = nums[i] + nums[left] + nums[right]\n",
    "            currentAbs = abs(currentSum - target)\n",
    "\n",
    "            # check match\n",
    "            if currentSum == target:\n",
    "                return currentSum\n",
    "            elif currentSum < target:\n",
    "                left += 1\n",
    "            else:\n",
    "                right-= 1\n",
    "\n",
    "            # update closest in case it never matches\n",
    "            if currentAbs < closestAbs:\n",
    "                closestSum = currentSum\n",
    "                closestAbs = currentAbs\n",
    "    \n",
    "    return closestSum"
   ]
  },
  {
   "cell_type": "code",
   "execution_count": 13,
   "metadata": {},
   "outputs": [
    {
     "data": {
      "text/plain": [
       "0"
      ]
     },
     "execution_count": 13,
     "metadata": {},
     "output_type": "execute_result"
    }
   ],
   "source": [
    "closest([0,0,0], 1)"
   ]
  }
 ],
 "metadata": {
  "kernelspec": {
   "display_name": "Python 3",
   "language": "python",
   "name": "python3"
  },
  "language_info": {
   "codemirror_mode": {
    "name": "ipython",
    "version": 3
   },
   "file_extension": ".py",
   "mimetype": "text/x-python",
   "name": "python",
   "nbconvert_exporter": "python",
   "pygments_lexer": "ipython3",
   "version": "3.12.2"
  }
 },
 "nbformat": 4,
 "nbformat_minor": 2
}
