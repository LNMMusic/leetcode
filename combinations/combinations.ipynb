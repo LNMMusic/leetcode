{
 "cells": [
  {
   "cell_type": "markdown",
   "metadata": {},
   "source": [
    "## Combinations"
   ]
  },
  {
   "cell_type": "code",
   "execution_count": 1,
   "metadata": {},
   "outputs": [],
   "source": [
    "def combinations(data:list, k:int) -> list:\n",
    "    # base case\n",
    "    if k == 0:\n",
    "        return [[]]\n",
    "    \n",
    "    results = []\n",
    "    # from total length we just leave k-1 space to let other possible combinations\n",
    "    for i in range(0, len(data)-(k-1)):\n",
    "        # freeze element\n",
    "        element = data[i]\n",
    "\n",
    "        # we ask for combinations on smaller levels\n",
    "        # - data is reduced to the visible combinations\n",
    "        # - k space is reduced\n",
    "        combs = combinations(data[i+1:], k-1)\n",
    "\n",
    "        # agregate element with each comb of k-1 and append it to the results of k\n",
    "        for c in combs:\n",
    "            results.append([element]+c)\n",
    "    \n",
    "    return results"
   ]
  },
  {
   "cell_type": "code",
   "execution_count": 2,
   "metadata": {},
   "outputs": [
    {
     "data": {
      "text/plain": [
       "[['A', 'B', 'C'],\n",
       " ['A', 'B', 'D'],\n",
       " ['A', 'B', 'E'],\n",
       " ['A', 'C', 'D'],\n",
       " ['A', 'C', 'E'],\n",
       " ['A', 'D', 'E'],\n",
       " ['B', 'C', 'D'],\n",
       " ['B', 'C', 'E'],\n",
       " ['B', 'D', 'E'],\n",
       " ['C', 'D', 'E']]"
      ]
     },
     "execution_count": 2,
     "metadata": {},
     "output_type": "execute_result"
    }
   ],
   "source": [
    "combinations([\"A\",\"B\",\"C\",\"D\",\"E\"], 3)"
   ]
  },
  {
   "cell_type": "code",
   "execution_count": 4,
   "metadata": {},
   "outputs": [
    {
     "data": {
      "text/plain": [
       "[['A', 'B'], ['A', 'C'], ['B', 'C']]"
      ]
     },
     "execution_count": 4,
     "metadata": {},
     "output_type": "execute_result"
    }
   ],
   "source": [
    "combinations([\"A\",\"B\",\"C\"], 2)"
   ]
  },
  {
   "cell_type": "markdown",
   "metadata": {},
   "source": [
    "---"
   ]
  },
  {
   "cell_type": "markdown",
   "metadata": {},
   "source": [
    "### Detailed Explanation:\n",
    "\n",
    "#### Function Definition and Parameters\n",
    "- `data`: The list of elements to generate combinations from.\n",
    "- `k`: The size of each combination.\n",
    "\n",
    "#### Base Case\n",
    "- If `k` is 0, return `[[]]`. This signifies that there's exactly one way to choose 0 elements: to choose none.\n",
    "\n",
    "#### Recursive Case\n",
    "- **Iterate over the data:** For each element in the list up to the point where there are enough remaining elements to form a combination of size `k` (`len(data) - (k - 1)`):\n",
    "  - **Freeze the current element:** Select the current element (`element = data[i]`).\n",
    "  - **Recursive call:** Generate combinations of size `k-1` from the remaining elements (`data[i+1:]`).\n",
    "  - **Aggregate combinations:** Prepend the frozen element to each combination returned by the recursive call and add this new combination to the results list.\n",
    "\n",
    "### Example Execution\n",
    "\n",
    "1. **Initial Call**: `combinations(['A', 'B', 'C', 'D', 'E'], 3)`\n",
    "   - Iterate over elements `A`, `B`, `C` (up to index 2).\n",
    "\n",
    "2. **First Iteration (Freezing A)**: `combinations(['B', 'C', 'D', 'E'], 2)`\n",
    "   - Iterate over elements `B`, `C`, `D`.\n",
    "\n",
    "3. **Second Iteration (Freezing A, B)**: `combinations(['C', 'D', 'E'], 1)`\n",
    "   - Iterate over elements `C`, `D`, `E`.\n",
    "\n",
    "4. **Base Case Reached**: `combinations(['D', 'E'], 0)`\n",
    "   - Returns `[[]]`.\n",
    "\n",
    "5. **Building Combinations**:\n",
    "   - `combinations(['C', 'D', 'E'], 1)` returns `[['C'], ['D'], ['E']]`.\n",
    "   - Combine `B` with each of these: `[['B', 'C'], ['B', 'D'], ['B', 'E']]`.\n",
    "   - Combine `A` with each of these: `[['A', 'B', 'C'], ['A', 'B', 'D'], ['A', 'B', 'E']]`.\n",
    "\n",
    "6. **Continue for Remaining Elements**:\n",
    "   - Repeat the process for each `i` to build the full set of combinations."
   ]
  },
  {
   "cell_type": "code",
   "execution_count": null,
   "metadata": {},
   "outputs": [],
   "source": [
    "# combinations.ipynb\n",
    "\n",
    "def combinations(data, k):\n",
    "    \"\"\"\n",
    "    Generate all unique combinations of k elements from the given data.\n",
    "\n",
    "    Parameters:\n",
    "    data (list): A list of elements to combine.\n",
    "    k (int): The number of elements in each combination.\n",
    "\n",
    "    Returns:\n",
    "    list: A list of lists, each containing a unique combination of k elements from the data.\n",
    "    \"\"\"\n",
    "    # Base case: If k is 0, return a list containing an empty list\n",
    "    if k == 0:\n",
    "        return [[]]\n",
    "    \n",
    "    results = []\n",
    "    # Iterate over the data, ensuring there are enough elements remaining to form a combination\n",
    "    # Leave space for k-1 elements to form the complete combination\n",
    "    for i in range(0, len(data) - (k - 1)):\n",
    "        # Freeze the current element\n",
    "        element = data[i]\n",
    "        \n",
    "        # Recursive call to get combinations of the remaining elements\n",
    "        # We reduce k by 1 and pass the remaining data starting from the next element\n",
    "        combs = combinations(data[i + 1:], k - 1)\n",
    "\n",
    "        # Aggregate the frozen element with each combination from the recursive call\n",
    "        # Append these new combinations to the results list\n",
    "        for c in combs:\n",
    "            results.append([element] + c)\n",
    "    \n",
    "    return results\n",
    "\n",
    "# Example usage\n",
    "data = ['A', 'B', 'C', 'D', 'E']\n",
    "k = 3\n",
    "combinations_result = combinations(data, k)\n",
    "\n",
    "# Print the combinations\n",
    "print(\"Combinations of size 3 from ['A', 'B', 'C', 'D', 'E']:\")\n",
    "for comb in combinations_result:\n",
    "    print(comb)\n",
    "\n",
    "# Using itertools for verification\n",
    "import itertools\n",
    "itertools_combinations = list(itertools.combinations(data, k))\n",
    "print(\"\\nVerification with itertools:\")\n",
    "for comb in itertools_combinations:\n",
    "    print(comb)"
   ]
  },
  {
   "cell_type": "markdown",
   "metadata": {},
   "source": [
    "### Final Output\n",
    "The final output for `combinations(['A', 'B', 'C', 'D', 'E'], 3)` is:"
   ]
  },
  {
   "cell_type": "code",
   "execution_count": 5,
   "metadata": {},
   "outputs": [
    {
     "data": {
      "text/plain": [
       "[['A', 'B', 'C'],\n",
       " ['A', 'B', 'D'],\n",
       " ['A', 'B', 'E'],\n",
       " ['A', 'C', 'D'],\n",
       " ['A', 'C', 'E'],\n",
       " ['A', 'D', 'E'],\n",
       " ['B', 'C', 'D'],\n",
       " ['B', 'C', 'E'],\n",
       " ['B', 'D', 'E'],\n",
       " ['C', 'D', 'E']]"
      ]
     },
     "execution_count": 5,
     "metadata": {},
     "output_type": "execute_result"
    }
   ],
   "source": [
    "[['A', 'B', 'C'], ['A', 'B', 'D'], ['A', 'B', 'E'], ['A', 'C', 'D'], ['A', 'C', 'E'], ['A', 'D', 'E'], ['B', 'C', 'D'], ['B', 'C', 'E'], ['B', 'D', 'E'], ['C', 'D', 'E']]"
   ]
  },
  {
   "cell_type": "markdown",
   "metadata": {},
   "source": [
    "---"
   ]
  },
  {
   "cell_type": "markdown",
   "metadata": {},
   "source": [
    "## Combination Algorithm - Acumulative"
   ]
  },
  {
   "cell_type": "code",
   "execution_count": 5,
   "metadata": {},
   "outputs": [],
   "source": [
    "def combinations(current:list, data:list, k:int):\n",
    "    # base case\n",
    "    if k == 0:\n",
    "        print(current)\n",
    "        return\n",
    "\n",
    "    # default process\n",
    "    for i in range(0, len(data)-(k-1)):\n",
    "        combinations(current=current+[data[i]], data=data[i+1:], k=k-1)"
   ]
  },
  {
   "cell_type": "code",
   "execution_count": 15,
   "metadata": {},
   "outputs": [],
   "source": [
    "def combinations_accumulative(current:list, data:list, k:int, result:list):\n",
    "    # base case\n",
    "    if k == 0:\n",
    "        result.append(current)\n",
    "        return\n",
    "\n",
    "    # default process\n",
    "    for i in range(0, len(data)-(k-1)):\n",
    "        combinations_accumulative(current=current+[data[i]], data=data[i+1:], k=k-1, result=result)"
   ]
  },
  {
   "cell_type": "code",
   "execution_count": 16,
   "metadata": {},
   "outputs": [
    {
     "name": "stdout",
     "output_type": "stream",
     "text": [
      "[['A', 'B', 'C'], ['A', 'B', 'D'], ['A', 'B', 'E'], ['A', 'C', 'D'], ['A', 'C', 'E'], ['A', 'D', 'E'], ['B', 'C', 'D'], ['B', 'C', 'E'], ['B', 'D', 'E'], ['C', 'D', 'E']]\n"
     ]
    }
   ],
   "source": [
    "result = []\n",
    "combinations_accumulative(current=[], data=['A','B','C','D','E'], k=3, result=result)\n",
    "print(result)"
   ]
  },
  {
   "cell_type": "markdown",
   "metadata": {},
   "source": [
    "---"
   ]
  },
  {
   "cell_type": "markdown",
   "metadata": {},
   "source": [
    "## Permutations"
   ]
  },
  {
   "cell_type": "code",
   "execution_count": 17,
   "metadata": {},
   "outputs": [],
   "source": [
    "def permutations(current:list, data:list):\n",
    "    # base case\n",
    "    if not data:\n",
    "        print(current)\n",
    "        return\n",
    "\n",
    "    # default process\n",
    "    for i in range(0, len(data)):\n",
    "        permutations(current=current+[data[i]], data=data[:i]+data[i+1:])"
   ]
  },
  {
   "cell_type": "code",
   "execution_count": 18,
   "metadata": {},
   "outputs": [
    {
     "name": "stdout",
     "output_type": "stream",
     "text": [
      "['a', 'b', 'c']\n",
      "['a', 'c', 'b']\n",
      "['b', 'a', 'c']\n",
      "['b', 'c', 'a']\n",
      "['c', 'a', 'b']\n",
      "['c', 'b', 'a']\n"
     ]
    }
   ],
   "source": [
    "permutations([], ['a','b','c'])"
   ]
  },
  {
   "cell_type": "code",
   "execution_count": 22,
   "metadata": {},
   "outputs": [],
   "source": [
    "def permutations_accumulative(current:list, data:list, result:list):\n",
    "    # base case\n",
    "    if not data:\n",
    "        result.append(current)\n",
    "        return\n",
    "\n",
    "    # default process\n",
    "    for i in range(0, len(data)):\n",
    "        permutations_accumulative(current=current+[data[i]], data=data[:i]+data[i+1:], result=result)"
   ]
  },
  {
   "cell_type": "code",
   "execution_count": 23,
   "metadata": {},
   "outputs": [],
   "source": [
    "# since in perms order matters on the dataset, we can have multiple perms, meaning we can first fetch all possible unique combinations\n",
    "# and later generate all possible perms\n",
    "def permutations_k_space(data:list, k:int, result:list):\n",
    "    # calculate combs\n",
    "    combs = []\n",
    "    combinations_accumulative(current=[], data=data, k=k, result=combs)\n",
    "\n",
    "    # calculate perms for each unique comb on k space\n",
    "    for c in combs:\n",
    "        permutations_accumulative(current=[], data=c, result=result)"
   ]
  },
  {
   "cell_type": "code",
   "execution_count": 25,
   "metadata": {},
   "outputs": [
    {
     "name": "stdout",
     "output_type": "stream",
     "text": [
      "24\n"
     ]
    }
   ],
   "source": [
    "data = ['a','b','c','d']\n",
    "k_space = 3\n",
    "result = []\n",
    "permutations_k_space(data, k_space, result)\n",
    "print(len(result))"
   ]
  },
  {
   "cell_type": "code",
   "execution_count": 26,
   "metadata": {},
   "outputs": [
    {
     "name": "stdout",
     "output_type": "stream",
     "text": [
      "24\n",
      "[['a', 'b', 'c'], ['a', 'b', 'd'], ['a', 'c', 'b'], ['a', 'c', 'd'], ['a', 'd', 'b'], ['a', 'd', 'c'], ['b', 'a', 'c'], ['b', 'a', 'd'], ['b', 'c', 'a'], ['b', 'c', 'd'], ['b', 'd', 'a'], ['b', 'd', 'c'], ['c', 'a', 'b'], ['c', 'a', 'd'], ['c', 'b', 'a'], ['c', 'b', 'd'], ['c', 'd', 'a'], ['c', 'd', 'b'], ['d', 'a', 'b'], ['d', 'a', 'c'], ['d', 'b', 'a'], ['d', 'b', 'c'], ['d', 'c', 'a'], ['d', 'c', 'b']]\n"
     ]
    }
   ],
   "source": [
    "def permutations_k_space_direct(current, data, k, results):\n",
    "    # Base case: if the current permutation's length is k, add it to results\n",
    "    if len(current) == k:\n",
    "        results.append(current)\n",
    "        return\n",
    "    \n",
    "    # Default process: iterate through all elements, picking each one as the next element\n",
    "    for i in range(len(data)):\n",
    "        # Avoid duplicating elements within the same permutation\n",
    "        if data[i] not in current:\n",
    "            permutations_k_space_direct(current + [data[i]], data, k, results)\n",
    "\n",
    "# Usage\n",
    "data = ['a', 'b', 'c', 'd']\n",
    "k_space = 3\n",
    "results = []\n",
    "permutations_k_space_direct([], data, k_space, results)\n",
    "print(len(results))  # Output should match the number of permutations of k elements\n",
    "print(results)  # To see the generated permutations"
   ]
  },
  {
   "cell_type": "markdown",
   "metadata": {},
   "source": [
    "---"
   ]
  },
  {
   "cell_type": "code",
   "execution_count": 27,
   "metadata": {},
   "outputs": [],
   "source": [
    "def perms_k_space(current:list, data:list, k:int):\n",
    "    # base case\n",
    "    if k == 0:\n",
    "        print(current)\n",
    "        return\n",
    "    \n",
    "    # default case\n",
    "    for i in range(0, len(data)):\n",
    "        perms_k_space(current=current+[data[i]], data=data[:i]+data[i+1:], k=k-1)"
   ]
  },
  {
   "cell_type": "code",
   "execution_count": 28,
   "metadata": {},
   "outputs": [
    {
     "name": "stdout",
     "output_type": "stream",
     "text": [
      "['a', 'b', 'c']\n",
      "['a', 'c', 'b']\n",
      "['b', 'a', 'c']\n",
      "['b', 'c', 'a']\n",
      "['c', 'a', 'b']\n",
      "['c', 'b', 'a']\n"
     ]
    }
   ],
   "source": [
    "perms_k_space(current=[], data=['a','b','c'], k=3)"
   ]
  },
  {
   "cell_type": "code",
   "execution_count": 30,
   "metadata": {},
   "outputs": [],
   "source": [
    "def perm_k_space_repetition(current:list, data:list, k:int):\n",
    "    # base case\n",
    "    if k == 0:\n",
    "        print(current)\n",
    "        return\n",
    "    \n",
    "    # default case\n",
    "    for i in range(0, len(data)):\n",
    "        perm_k_space_repetition(current=current+[data[i]], data=data, k=k-1)"
   ]
  },
  {
   "cell_type": "code",
   "execution_count": 32,
   "metadata": {},
   "outputs": [
    {
     "name": "stdout",
     "output_type": "stream",
     "text": [
      "['a', 'a']\n",
      "['a', 'b']\n",
      "['a', 'c']\n",
      "['b', 'a']\n",
      "['b', 'b']\n",
      "['b', 'c']\n",
      "['c', 'a']\n",
      "['c', 'b']\n",
      "['c', 'c']\n"
     ]
    }
   ],
   "source": [
    "perm_k_space_repetition([], ['a','b','c'], 2)"
   ]
  },
  {
   "cell_type": "code",
   "execution_count": 36,
   "metadata": {},
   "outputs": [],
   "source": [
    "def comb_k_space_repetition(current:list, data:list, k:int):\n",
    "    # base case\n",
    "    if k == 0:\n",
    "        print(current)\n",
    "        return\n",
    "    \n",
    "    # default case\n",
    "    for i in range(0, len(data)):\n",
    "        # since we allow repetition the previous token can be included into the comb | from [ith+1:] to [ith:]\n",
    "        # - the k space now should not be a restriction, now the first element can also be latest positions\n",
    "        # and it won't affect the recursive calls since we start from [ith], meaning it will always left place for this remaining space even len is < k space, to be completed in the following [i:] iterations\n",
    "        comb_k_space_repetition(current=current+[data[i]], data=data[i:], k=k-1)\n"
   ]
  },
  {
   "cell_type": "code",
   "execution_count": 37,
   "metadata": {},
   "outputs": [
    {
     "name": "stdout",
     "output_type": "stream",
     "text": [
      "['a', 'a', 'a']\n",
      "['a', 'a', 'b,']\n",
      "['a', 'a', 'c']\n",
      "['a', 'b,', 'b,']\n",
      "['a', 'b,', 'c']\n",
      "['a', 'c', 'c']\n",
      "['b,', 'b,', 'b,']\n",
      "['b,', 'b,', 'c']\n",
      "['b,', 'c', 'c']\n",
      "['c', 'c', 'c']\n"
     ]
    }
   ],
   "source": [
    "comb_k_space_repetition([], ['a','b,','c'], 3)"
   ]
  },
  {
   "cell_type": "code",
   "execution_count": null,
   "metadata": {},
   "outputs": [],
   "source": []
  }
 ],
 "metadata": {
  "kernelspec": {
   "display_name": "Python 3",
   "language": "python",
   "name": "python3"
  },
  "language_info": {
   "codemirror_mode": {
    "name": "ipython",
    "version": 3
   },
   "file_extension": ".py",
   "mimetype": "text/x-python",
   "name": "python",
   "nbconvert_exporter": "python",
   "pygments_lexer": "ipython3",
   "version": "3.12.2"
  }
 },
 "nbformat": 4,
 "nbformat_minor": 2
}
