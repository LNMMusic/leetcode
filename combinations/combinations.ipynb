{
 "cells": [
  {
   "cell_type": "markdown",
   "metadata": {},
   "source": [
    "## Combinations"
   ]
  },
  {
   "cell_type": "code",
   "execution_count": 1,
   "metadata": {},
   "outputs": [],
   "source": [
    "def combinations(data:list, k:int) -> list:\n",
    "    # base case\n",
    "    if k == 0:\n",
    "        return [[]]\n",
    "    \n",
    "    results = []\n",
    "    # from total length we just leave k-1 space to let other possible combinations\n",
    "    for i in range(0, len(data)-(k-1)):\n",
    "        # freeze element\n",
    "        element = data[i]\n",
    "\n",
    "        # we ask for combinations on smaller levels\n",
    "        # - data is reduced to the visible combinations\n",
    "        # - k space is reduced\n",
    "        combs = combinations(data[i+1:], k-1)\n",
    "\n",
    "        # agregate element with each comb of k-1 and append it to the results of k\n",
    "        for c in combs:\n",
    "            results.append([element]+c)\n",
    "    \n",
    "    return results"
   ]
  },
  {
   "cell_type": "code",
   "execution_count": 2,
   "metadata": {},
   "outputs": [
    {
     "data": {
      "text/plain": [
       "[['A', 'B', 'C'],\n",
       " ['A', 'B', 'D'],\n",
       " ['A', 'B', 'E'],\n",
       " ['A', 'C', 'D'],\n",
       " ['A', 'C', 'E'],\n",
       " ['A', 'D', 'E'],\n",
       " ['B', 'C', 'D'],\n",
       " ['B', 'C', 'E'],\n",
       " ['B', 'D', 'E'],\n",
       " ['C', 'D', 'E']]"
      ]
     },
     "execution_count": 2,
     "metadata": {},
     "output_type": "execute_result"
    }
   ],
   "source": [
    "combinations([\"A\",\"B\",\"C\",\"D\",\"E\"], 3)"
   ]
  },
  {
   "cell_type": "code",
   "execution_count": 4,
   "metadata": {},
   "outputs": [
    {
     "data": {
      "text/plain": [
       "[['A', 'B'], ['A', 'C'], ['B', 'C']]"
      ]
     },
     "execution_count": 4,
     "metadata": {},
     "output_type": "execute_result"
    }
   ],
   "source": [
    "combinations([\"A\",\"B\",\"C\"], 2)"
   ]
  },
  {
   "cell_type": "markdown",
   "metadata": {},
   "source": [
    "---"
   ]
  },
  {
   "cell_type": "markdown",
   "metadata": {},
   "source": [
    "### Detailed Explanation:\n",
    "\n",
    "#### Function Definition and Parameters\n",
    "- `data`: The list of elements to generate combinations from.\n",
    "- `k`: The size of each combination.\n",
    "\n",
    "#### Base Case\n",
    "- If `k` is 0, return `[[]]`. This signifies that there's exactly one way to choose 0 elements: to choose none.\n",
    "\n",
    "#### Recursive Case\n",
    "- **Iterate over the data:** For each element in the list up to the point where there are enough remaining elements to form a combination of size `k` (`len(data) - (k - 1)`):\n",
    "  - **Freeze the current element:** Select the current element (`element = data[i]`).\n",
    "  - **Recursive call:** Generate combinations of size `k-1` from the remaining elements (`data[i+1:]`).\n",
    "  - **Aggregate combinations:** Prepend the frozen element to each combination returned by the recursive call and add this new combination to the results list.\n",
    "\n",
    "### Example Execution\n",
    "\n",
    "1. **Initial Call**: `combinations(['A', 'B', 'C', 'D', 'E'], 3)`\n",
    "   - Iterate over elements `A`, `B`, `C` (up to index 2).\n",
    "\n",
    "2. **First Iteration (Freezing A)**: `combinations(['B', 'C', 'D', 'E'], 2)`\n",
    "   - Iterate over elements `B`, `C`, `D`.\n",
    "\n",
    "3. **Second Iteration (Freezing A, B)**: `combinations(['C', 'D', 'E'], 1)`\n",
    "   - Iterate over elements `C`, `D`, `E`.\n",
    "\n",
    "4. **Base Case Reached**: `combinations(['D', 'E'], 0)`\n",
    "   - Returns `[[]]`.\n",
    "\n",
    "5. **Building Combinations**:\n",
    "   - `combinations(['C', 'D', 'E'], 1)` returns `[['C'], ['D'], ['E']]`.\n",
    "   - Combine `B` with each of these: `[['B', 'C'], ['B', 'D'], ['B', 'E']]`.\n",
    "   - Combine `A` with each of these: `[['A', 'B', 'C'], ['A', 'B', 'D'], ['A', 'B', 'E']]`.\n",
    "\n",
    "6. **Continue for Remaining Elements**:\n",
    "   - Repeat the process for each `i` to build the full set of combinations."
   ]
  },
  {
   "cell_type": "code",
   "execution_count": null,
   "metadata": {},
   "outputs": [],
   "source": [
    "# combinations.ipynb\n",
    "\n",
    "def combinations(data, k):\n",
    "    \"\"\"\n",
    "    Generate all unique combinations of k elements from the given data.\n",
    "\n",
    "    Parameters:\n",
    "    data (list): A list of elements to combine.\n",
    "    k (int): The number of elements in each combination.\n",
    "\n",
    "    Returns:\n",
    "    list: A list of lists, each containing a unique combination of k elements from the data.\n",
    "    \"\"\"\n",
    "    # Base case: If k is 0, return a list containing an empty list\n",
    "    if k == 0:\n",
    "        return [[]]\n",
    "    \n",
    "    results = []\n",
    "    # Iterate over the data, ensuring there are enough elements remaining to form a combination\n",
    "    # Leave space for k-1 elements to form the complete combination\n",
    "    for i in range(0, len(data) - (k - 1)):\n",
    "        # Freeze the current element\n",
    "        element = data[i]\n",
    "        \n",
    "        # Recursive call to get combinations of the remaining elements\n",
    "        # We reduce k by 1 and pass the remaining data starting from the next element\n",
    "        combs = combinations(data[i + 1:], k - 1)\n",
    "\n",
    "        # Aggregate the frozen element with each combination from the recursive call\n",
    "        # Append these new combinations to the results list\n",
    "        for c in combs:\n",
    "            results.append([element] + c)\n",
    "    \n",
    "    return results\n",
    "\n",
    "# Example usage\n",
    "data = ['A', 'B', 'C', 'D', 'E']\n",
    "k = 3\n",
    "combinations_result = combinations(data, k)\n",
    "\n",
    "# Print the combinations\n",
    "print(\"Combinations of size 3 from ['A', 'B', 'C', 'D', 'E']:\")\n",
    "for comb in combinations_result:\n",
    "    print(comb)\n",
    "\n",
    "# Using itertools for verification\n",
    "import itertools\n",
    "itertools_combinations = list(itertools.combinations(data, k))\n",
    "print(\"\\nVerification with itertools:\")\n",
    "for comb in itertools_combinations:\n",
    "    print(comb)"
   ]
  },
  {
   "cell_type": "markdown",
   "metadata": {},
   "source": [
    "### Final Output\n",
    "The final output for `combinations(['A', 'B', 'C', 'D', 'E'], 3)` is:"
   ]
  },
  {
   "cell_type": "code",
   "execution_count": 5,
   "metadata": {},
   "outputs": [
    {
     "data": {
      "text/plain": [
       "[['A', 'B', 'C'],\n",
       " ['A', 'B', 'D'],\n",
       " ['A', 'B', 'E'],\n",
       " ['A', 'C', 'D'],\n",
       " ['A', 'C', 'E'],\n",
       " ['A', 'D', 'E'],\n",
       " ['B', 'C', 'D'],\n",
       " ['B', 'C', 'E'],\n",
       " ['B', 'D', 'E'],\n",
       " ['C', 'D', 'E']]"
      ]
     },
     "execution_count": 5,
     "metadata": {},
     "output_type": "execute_result"
    }
   ],
   "source": [
    "[['A', 'B', 'C'], ['A', 'B', 'D'], ['A', 'B', 'E'], ['A', 'C', 'D'], ['A', 'C', 'E'], ['A', 'D', 'E'], ['B', 'C', 'D'], ['B', 'C', 'E'], ['B', 'D', 'E'], ['C', 'D', 'E']]"
   ]
  }
 ],
 "metadata": {
  "kernelspec": {
   "display_name": "Python 3",
   "language": "python",
   "name": "python3"
  },
  "language_info": {
   "codemirror_mode": {
    "name": "ipython",
    "version": 3
   },
   "file_extension": ".py",
   "mimetype": "text/x-python",
   "name": "python",
   "nbconvert_exporter": "python",
   "pygments_lexer": "ipython3",
   "version": "3.12.2"
  }
 },
 "nbformat": 4,
 "nbformat_minor": 2
}
