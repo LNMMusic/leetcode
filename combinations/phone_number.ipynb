{
 "cells": [
  {
   "cell_type": "code",
   "execution_count": 1,
   "metadata": {},
   "outputs": [],
   "source": [
    "def combinations(data:list, k:int) -> list:\n",
    "    # base case\n",
    "    if k == 0:\n",
    "        return [[]]\n",
    "    \n",
    "    results = []\n",
    "    # from total length we just leave k-1 space to let other possible combinations\n",
    "    for i in range(0, len(data)-(k-1)):\n",
    "        # freeze element\n",
    "        element = data[i]\n",
    "\n",
    "        # we ask for combinations on smaller levels\n",
    "        # - data is reduced to the visible combinations\n",
    "        # - k space is reduced\n",
    "        combs = combinations(data[i+1:], k-1)\n",
    "\n",
    "        # agregate element with each comb of k-1 and append it to the results of k\n",
    "        for c in combs:\n",
    "            results.append([element]+c)\n",
    "    \n",
    "    return results"
   ]
  },
  {
   "cell_type": "code",
   "execution_count": 8,
   "metadata": {},
   "outputs": [],
   "source": [
    "def linear_combination(dataset:list) -> list:\n",
    "    # base case\n",
    "    if not dataset:\n",
    "        return [[]]\n",
    "    \n",
    "    # default process\n",
    "    result = []\n",
    "    data   = dataset[0]\n",
    "    for d in data:\n",
    "        combs = linear_combination(dataset[1:])\n",
    "        for c in combs:\n",
    "            result.append([d]+c)\n",
    "        \n",
    "    return result"
   ]
  },
  {
   "cell_type": "code",
   "execution_count": 9,
   "metadata": {},
   "outputs": [
    {
     "data": {
      "text/plain": [
       "[['a', 'd'],\n",
       " ['a', 'e'],\n",
       " ['a', 'f'],\n",
       " ['b', 'd'],\n",
       " ['b', 'e'],\n",
       " ['b', 'f'],\n",
       " ['c', 'd'],\n",
       " ['c', 'e'],\n",
       " ['c', 'f']]"
      ]
     },
     "execution_count": 9,
     "metadata": {},
     "output_type": "execute_result"
    }
   ],
   "source": [
    "linear_combination([['a','b','c'],['d','e','f']])"
   ]
  },
  {
   "cell_type": "code",
   "execution_count": 10,
   "metadata": {},
   "outputs": [],
   "source": [
    "def letterCombination(digits:str) -> list:\n",
    "    digit_to_letters = {\n",
    "        '2': ['a', 'b', 'c'],\n",
    "        '3': ['d', 'e', 'f'],\n",
    "        '4': ['g', 'h', 'i'],\n",
    "        '5': ['j', 'k', 'l'],\n",
    "        '6': ['m', 'n', 'o'],\n",
    "        '7': ['p', 'q', 'r', 's'],  # Note '7' has 4 letters\n",
    "        '8': ['t', 'u', 'v'],\n",
    "        '9': ['w', 'x', 'y', 'z']\n",
    "    }\n",
    "\n",
    "    # tokens\n",
    "    dataset = []\n",
    "    for l in list(digits):\n",
    "        dataset.append(digit_to_letters[l])\n",
    "\n",
    "    # combinations\n",
    "    return linear_combination(dataset)"
   ]
  },
  {
   "cell_type": "code",
   "execution_count": 11,
   "metadata": {},
   "outputs": [
    {
     "data": {
      "text/plain": [
       "[['a', 'd'],\n",
       " ['a', 'e'],\n",
       " ['a', 'f'],\n",
       " ['b', 'd'],\n",
       " ['b', 'e'],\n",
       " ['b', 'f'],\n",
       " ['c', 'd'],\n",
       " ['c', 'e'],\n",
       " ['c', 'f']]"
      ]
     },
     "execution_count": 11,
     "metadata": {},
     "output_type": "execute_result"
    }
   ],
   "source": [
    "letterCombination(\"23\")"
   ]
  },
  {
   "cell_type": "code",
   "execution_count": 1,
   "metadata": {},
   "outputs": [
    {
     "name": "stdout",
     "output_type": "stream",
     "text": [
      "['a', 'b', 'c']\n",
      "['a', 'b', 'd']\n",
      "['a', 'c', 'b']\n",
      "['a', 'c', 'd']\n",
      "['a', 'd', 'b']\n",
      "['a', 'd', 'c']\n",
      "['b', 'a', 'c']\n",
      "['b', 'a', 'd']\n",
      "['b', 'c', 'a']\n",
      "['b', 'c', 'd']\n",
      "['b', 'd', 'a']\n",
      "['b', 'd', 'c']\n",
      "['c', 'a', 'b']\n",
      "['c', 'a', 'd']\n",
      "['c', 'b', 'a']\n",
      "['c', 'b', 'd']\n",
      "['c', 'd', 'a']\n",
      "['c', 'd', 'b']\n",
      "['d', 'a', 'b']\n",
      "['d', 'a', 'c']\n",
      "['d', 'b', 'a']\n",
      "['d', 'b', 'c']\n",
      "['d', 'c', 'a']\n",
      "['d', 'c', 'b']\n"
     ]
    }
   ],
   "source": [
    "def generate_permutations(elements, k, current_perm=[]):\n",
    "    if len(current_perm) == k:\n",
    "        print(current_perm)\n",
    "        return\n",
    "    for i in range(len(elements)):\n",
    "        current = elements[i]\n",
    "        remanent= elements[i:] + elements[i+1:]\n",
    "        generate_permutations(remanent, k, current_perm + [current])\n",
    "\n",
    "# Example usage\n",
    "elements = ['a', 'b', 'c', 'd']\n",
    "k = 3\n",
    "generate_permutations(elements, k)\n"
   ]
  },
  {
   "cell_type": "code",
   "execution_count": 3,
   "metadata": {},
   "outputs": [
    {
     "ename": "SyntaxError",
     "evalue": "incomplete input (3869061548.py, line 2)",
     "output_type": "error",
     "traceback": [
      "\u001b[1;36m  Cell \u001b[1;32mIn[3], line 2\u001b[1;36m\u001b[0m\n\u001b[1;33m    for i in range(len(elements)):\u001b[0m\n\u001b[1;37m                                  ^\u001b[0m\n\u001b[1;31mSyntaxError\u001b[0m\u001b[1;31m:\u001b[0m incomplete input\n"
     ]
    }
   ],
   "source": [
    "elements = ['a','b','c','d']\n",
    "for ix, i in enumerate(elements):\n",
    "    follow = elements[:ix]+elements[ix+1:]\n",
    "    for jx, j in enumerate(follow):\n",
    "        follow_2 = follow[:jx]+follow[jx+1:]\n",
    "        for kx, k in enumerate(follow_2):\n",
    "            print(i,j,k)"
   ]
  },
  {
   "cell_type": "code",
   "execution_count": 2,
   "metadata": {},
   "outputs": [
    {
     "data": {
      "text/plain": [
       "[]"
      ]
     },
     "execution_count": 2,
     "metadata": {},
     "output_type": "execute_result"
    }
   ],
   "source": [
    "[1,2,3][:0\n",
    "        ]"
   ]
  },
  {
   "cell_type": "code",
   "execution_count": null,
   "metadata": {},
   "outputs": [],
   "source": []
  }
 ],
 "metadata": {
  "kernelspec": {
   "display_name": "Python 3",
   "language": "python",
   "name": "python3"
  },
  "language_info": {
   "codemirror_mode": {
    "name": "ipython",
    "version": 3
   },
   "file_extension": ".py",
   "mimetype": "text/x-python",
   "name": "python",
   "nbconvert_exporter": "python",
   "pygments_lexer": "ipython3",
   "version": "3.12.2"
  }
 },
 "nbformat": 4,
 "nbformat_minor": 2
}
