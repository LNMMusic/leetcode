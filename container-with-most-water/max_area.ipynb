{
 "cells": [
  {
   "cell_type": "code",
   "execution_count": 1,
   "metadata": {},
   "outputs": [],
   "source": [
    "from typing import List"
   ]
  },
  {
   "cell_type": "code",
   "execution_count": 4,
   "metadata": {},
   "outputs": [],
   "source": [
    "class Solution:\n",
    "    def maxArea(self, height: List[int]) -> int:\n",
    "        # pointers\n",
    "        left, right = 0, len(height)-1\n",
    "        max_area = min(height[left], height[right]) * (right-left)\n",
    "        direction = 0\n",
    "        if height[left] > height[right]:\n",
    "            direction = 1\n",
    "\n",
    "        while left < right:\n",
    "            # skip minor cases\n",
    "            skip = False\n",
    "            if direction:\n",
    "                skip = height[right-1] <= height[right]\n",
    "                right -= 1\n",
    "            else:\n",
    "                skip = height[left+1] <= height[left]\n",
    "                left += 1\n",
    "            if skip:\n",
    "                continue\n",
    "\n",
    "            # area\n",
    "            lv, rv = height[left], height[right]\n",
    "            area = min(lv, rv) * (right - left)\n",
    "            max_area = max(max_area, area)\n",
    "            \n",
    "            # swap\n",
    "            if direction and rv > lv:\n",
    "                direction = 0\n",
    "            elif not direction and lv > rv:\n",
    "                direction = 1\n",
    "        \n",
    "        return max_area"
   ]
  },
  {
   "cell_type": "code",
   "execution_count": 6,
   "metadata": {},
   "outputs": [
    {
     "data": {
      "text/plain": [
       "1"
      ]
     },
     "execution_count": 6,
     "metadata": {},
     "output_type": "execute_result"
    }
   ],
   "source": [
    "s = Solution()\n",
    "s.maxArea([1,1])"
   ]
  }
 ],
 "metadata": {
  "kernelspec": {
   "display_name": "Python 3",
   "language": "python",
   "name": "python3"
  },
  "language_info": {
   "codemirror_mode": {
    "name": "ipython",
    "version": 3
   },
   "file_extension": ".py",
   "mimetype": "text/x-python",
   "name": "python",
   "nbconvert_exporter": "python",
   "pygments_lexer": "ipython3",
   "version": "3.12.2"
  }
 },
 "nbformat": 4,
 "nbformat_minor": 2
}
