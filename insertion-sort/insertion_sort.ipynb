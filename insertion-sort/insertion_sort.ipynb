{
 "cells": [
  {
   "cell_type": "code",
   "execution_count": 3,
   "metadata": {},
   "outputs": [],
   "source": [
    "class ListNode:\n",
    "    def __init__(self, val=0, next=None):\n",
    "        self.val = val\n",
    "        self.next= next"
   ]
  },
  {
   "cell_type": "code",
   "execution_count": 2,
   "metadata": {},
   "outputs": [],
   "source": [
    "def insertionSortList(head: ListNode) -> ListNode:\n",
    "    \"\"\"\n",
    "    node switchment\n",
    "    • -> • -> • -> •\n",
    "    0    1    2    3\n",
    "    \n",
    "    the operation involves:\n",
    "    - poping a node out of the chain, but without losing connection\n",
    "    • -> • -> •     |   • -> •\n",
    "    0    1    2     |   2    3\n",
    "\n",
    "    pop 2 and set the connection of 2 to 3, to 1\n",
    "    • -> • -> •\n",
    "    0    1    3 (from 2->3)\n",
    "\n",
    "    now 2 is in the middle of nowhere poiting at 3, we should put it in between 0 and 1\n",
    "    since it should point at 1, then next should be shifted from 3 to 1, but also 0 next should be now 2, that now points at 1\n",
    "    • -> • -> •\n",
    "    0    2    1\n",
    "\n",
    "    final\n",
    "    • -> • -> • -> •\n",
    "    0    2    1    3\n",
    "    \"\"\"\n",
    "    # tracking structure\n",
    "    dummy_head = head\n",
    "\n",
    "    while head and head.next:\n",
    "        # fetch nodes from reader head\n",
    "        current_node = head\n",
    "        next_node    = head.next\n",
    "\n",
    "        # skip case\n",
    "        if next_node >= current_node:\n",
    "            head = next_node\n",
    "            continue\n",
    "        \n",
    "        # default case\n",
    "        # - re-wiring current_node up to next_node followers\n",
    "        current_node.next = next_node.next\n",
    "\n",
    "        # - process the popped out next_node\n"
   ]
  },
  {
   "cell_type": "code",
   "execution_count": 63,
   "metadata": {},
   "outputs": [],
   "source": [
    "def between_node(head:ListNode, node:ListNode) -> ListNode:\n",
    "    origin = ListNode(val=0, next=head)\n",
    "\n",
    "    # base case\n",
    "    if head and head.val > node.val:\n",
    "        node.next = head\n",
    "        origin.next = node\n",
    "        return origin.next\n",
    "\n",
    "    # default case\n",
    "    current = origin.next\n",
    "    while head and head.next:\n",
    "        # fetch nodes from head reader\n",
    "        head_previous = head\n",
    "        head_forward  = head.next\n",
    "\n",
    "        if node.val >= head_previous.val and node.val <= head_forward.val:\n",
    "            # re-wiring\n",
    "            node.next = head_forward\n",
    "            # set chain\n",
    "            current.next = node\n",
    "            break\n",
    "        \n",
    "        # set chain (keep track of all nodes by setting the forward)\n",
    "        current.next = head_forward\n",
    "\n",
    "        # update loop\n",
    "        # - current is already having reference of head_forward, so current now will be head_forward\n",
    "        current = head_forward\n",
    "        head    = head_forward\n",
    "\n",
    "    return origin.next"
   ]
  },
  {
   "cell_type": "code",
   "execution_count": 40,
   "metadata": {},
   "outputs": [
    {
     "name": "stdout",
     "output_type": "stream",
     "text": [
      "True\n"
     ]
    }
   ],
   "source": [
    "if 4 >= 4 and 4 <= 6:\n",
    "    print(True)"
   ]
  },
  {
   "cell_type": "code",
   "execution_count": 53,
   "metadata": {},
   "outputs": [],
   "source": [
    "'''\n",
    "Re-Wire Node Table Test\n",
    "head        |   node    |   expected\n",
    "1-3-5-7     |   4       |   1-3-4-5-7\n",
    "'''\n",
    "head = ListNode(val=1,\n",
    "    next=ListNode(val=3,\n",
    "        next=ListNode(val=5,\n",
    "            next=ListNode(val=7, next=None\n",
    "            )\n",
    "        )\n",
    "    )\n",
    ")"
   ]
  },
  {
   "cell_type": "code",
   "execution_count": 134,
   "metadata": {},
   "outputs": [],
   "source": [
    "def node_values(head:ListNode):\n",
    "    current = head\n",
    "    while current is not None:\n",
    "        print(current.val)\n",
    "        current = current.next\n",
    "\n",
    "def node_values_list(head:ListNode) -> list:\n",
    "    values = []\n",
    "    \n",
    "    current = head\n",
    "    while current is not None:\n",
    "        values.append(current.val)\n",
    "        current = current.next\n",
    "\n",
    "    return values"
   ]
  },
  {
   "cell_type": "code",
   "execution_count": 77,
   "metadata": {},
   "outputs": [
    {
     "name": "stdout",
     "output_type": "stream",
     "text": [
      "0\n",
      "1\n"
     ]
    }
   ],
   "source": [
    "head = ListNode(val=1)\n",
    "node = ListNode(val=0)\n",
    "\n",
    "sorted_nodes = between_node(head, node)\n",
    "node_values(sorted_nodes)"
   ]
  },
  {
   "cell_type": "code",
   "execution_count": 78,
   "metadata": {},
   "outputs": [
    {
     "name": "stdout",
     "output_type": "stream",
     "text": [
      "1\n",
      "2\n",
      "3\n",
      "5\n",
      "7\n"
     ]
    }
   ],
   "source": [
    "head = ListNode(val=1,\n",
    "    next=ListNode(val=3,\n",
    "        next=ListNode(val=5,\n",
    "            next=ListNode(val=7)\n",
    "        )\n",
    "    )\n",
    ")\n",
    "node = ListNode(val=2)\n",
    "\n",
    "sorted_nodes = between_node(head, node)\n",
    "node_values(sorted_nodes)"
   ]
  },
  {
   "cell_type": "code",
   "execution_count": 79,
   "metadata": {},
   "outputs": [
    {
     "name": "stdout",
     "output_type": "stream",
     "text": [
      "1\n",
      "3\n",
      "5\n",
      "6\n",
      "7\n"
     ]
    }
   ],
   "source": [
    "head = ListNode(val=1,\n",
    "    next=ListNode(val=3,\n",
    "        next=ListNode(val=5,\n",
    "            next=ListNode(val=7)\n",
    "        )\n",
    "    )\n",
    ")\n",
    "node = ListNode(val=6)\n",
    "\n",
    "sorted_nodes = between_node(head, node)\n",
    "node_values(sorted_nodes)"
   ]
  },
  {
   "cell_type": "code",
   "execution_count": 81,
   "metadata": {},
   "outputs": [
    {
     "name": "stdout",
     "output_type": "stream",
     "text": [
      "1\n",
      "3\n",
      "4\n",
      "5\n"
     ]
    }
   ],
   "source": [
    "head = ListNode(val=1,\n",
    "    next=ListNode(val=3,\n",
    "        next=ListNode(val=5)\n",
    "    )\n",
    ")\n",
    "node = ListNode(val=4)\n",
    "\n",
    "sorted_nodes = between_node(head, node)\n",
    "node_values(sorted_nodes)"
   ]
  },
  {
   "cell_type": "code",
   "execution_count": 107,
   "metadata": {},
   "outputs": [],
   "source": [
    "def insert_node_in_between(head:ListNode, node:ListNode):\n",
    "    dummy = ListNode(val=None, next=head)\n",
    "\n",
    "    # keep reference of a current node\n",
    "    # - starts from dummy\n",
    "    # - it shifts to next\n",
    "    current = dummy\n",
    "    while current.next and node.val > current.next.val:\n",
    "        current = current.next\n",
    "\n",
    "    # update\n",
    "    node.next = current.next\n",
    "    current.next = node\n",
    "\n",
    "    return dummy.next\n",
    "\n",
    "def insert_node_before_and_in_between(head:ListNode, node:ListNode):\n",
    "    # edge case: before (keep changes on head reference)\n",
    "    if head and head.val > node.val:\n",
    "        # set new node\n",
    "        new_node = ListNode(val=head.val, next=head.next)\n",
    "\n",
    "        # update head\n",
    "        head.val = node.val\n",
    "        head.next= new_node\n",
    "        return\n",
    "    \n",
    "    # default case:\n",
    "    dummy = ListNode(val=None, next=head)\n",
    "    current = dummy\n",
    "    while current.next and node.val > current.next.val:\n",
    "        current = current.next\n",
    "    # update\n",
    "    node.next = current.next\n",
    "    current.next = node\n",
    "\n",
    "    return"
   ]
  },
  {
   "cell_type": "code",
   "execution_count": 105,
   "metadata": {},
   "outputs": [
    {
     "name": "stdout",
     "output_type": "stream",
     "text": [
      "1\n",
      "3\n",
      "5\n",
      "6\n",
      "7\n"
     ]
    }
   ],
   "source": [
    "head = ListNode(val=1,\n",
    "    next=ListNode(val=3,\n",
    "        next=ListNode(val=5,\n",
    "            next=ListNode(val=7)\n",
    "        )\n",
    "    )\n",
    ")\n",
    "node = ListNode(val=6)\n",
    "\n",
    "updated = insert_node_before_and_in_between(head, node)\n",
    "node_values(head)"
   ]
  },
  {
   "cell_type": "code",
   "execution_count": 108,
   "metadata": {},
   "outputs": [
    {
     "name": "stdout",
     "output_type": "stream",
     "text": [
      "1\n",
      "3\n",
      "5\n",
      "7\n"
     ]
    }
   ],
   "source": [
    "head = ListNode(val=3,\n",
    "    next=ListNode(val=5,\n",
    "        next=ListNode(val=7)\n",
    "    )\n",
    ")\n",
    "node = ListNode(val=1)\n",
    "\n",
    "updated = insert_node_before_and_in_between(head, node)\n",
    "node_values(head)"
   ]
  },
  {
   "cell_type": "code",
   "execution_count": 144,
   "metadata": {},
   "outputs": [],
   "source": [
    "def insert_sort(head:ListNode) -> ListNode:\n",
    "    dummy = ListNode(val=None, next=head)\n",
    "\n",
    "    # reference of current node\n",
    "    # cc = 0\n",
    "    current = dummy.next\n",
    "    while current and current.next:\n",
    "        # print(f'iteration:{cc}, current-value:{current.val}')\n",
    "        # check if next is smaller than current\n",
    "        if current.next.val < current.val:\n",
    "            # pop node\n",
    "            pop_node = ListNode(val=current.next.val)\n",
    "\n",
    "            # re-wire current up to the followers of next\n",
    "            current.next = current.next.next\n",
    "\n",
    "            # insert pop node into previous nodes\n",
    "            # print(f'-smaller case -> input | head:{node_values_list(head)}, pop-node:{pop_node.val}')\n",
    "            insert_node_before_and_in_between(head, pop_node)\n",
    "            # print(f'output | head:{node_values_list(head)}')\n",
    "            # update reference (not the same, it should remain equal)\n",
    "            continue\n",
    "\n",
    "        # update reference\n",
    "        current = current.next\n",
    "        # cc += 1\n",
    "\n",
    "        # print()\n",
    "    \n",
    "    return dummy.next"
   ]
  },
  {
   "cell_type": "code",
   "execution_count": 143,
   "metadata": {},
   "outputs": [
    {
     "name": "stdout",
     "output_type": "stream",
     "text": [
      "iteration:0, current-value:1\n",
      "\n",
      "iteration:1, current-value:3\n",
      "\n",
      "iteration:2, current-value:8\n",
      "-smaller case -> input | head:[1, 3, 8, 5, 7], pop-node:6\n",
      "output | head:[1, 3, 6, 8, 5, 7]\n",
      "iteration:2, current-value:8\n",
      "-smaller case -> input | head:[1, 3, 6, 8, 7], pop-node:5\n",
      "output | head:[1, 3, 5, 6, 8, 7]\n",
      "iteration:2, current-value:8\n",
      "-smaller case -> input | head:[1, 3, 5, 6, 8], pop-node:7\n",
      "output | head:[1, 3, 5, 6, 7, 8]\n"
     ]
    },
    {
     "data": {
      "text/plain": [
       "<__main__.ListNode at 0x16cdbc76f90>"
      ]
     },
     "execution_count": 143,
     "metadata": {},
     "output_type": "execute_result"
    }
   ],
   "source": [
    "head = ListNode(val=1, next=ListNode(\n",
    "    val=3, next=ListNode(\n",
    "        val=8, next=ListNode(\n",
    "            val=6, next=ListNode(\n",
    "                val=5, next=ListNode(val=7)\n",
    "            )\n",
    "        )\n",
    "    )\n",
    "))\n",
    "insert_sort(head)"
   ]
  },
  {
   "cell_type": "code",
   "execution_count": 118,
   "metadata": {},
   "outputs": [
    {
     "name": "stdout",
     "output_type": "stream",
     "text": [
      "1\n",
      "2\n",
      "3\n",
      "5\n",
      "6\n"
     ]
    }
   ],
   "source": [
    "insert_sort(head)\n",
    "node_values(head)"
   ]
  },
  {
   "cell_type": "code",
   "execution_count": null,
   "metadata": {},
   "outputs": [],
   "source": [
    "head = ListNode(val=1, next=ListNode(\n",
    "    val=3, next=ListNode(\n",
    "        val=8, next=ListNode(\n",
    "            val=6, next=ListNode(\n",
    "                val=5, next=ListNode(val=7)\n",
    "            )\n",
    "        )\n",
    "    )\n",
    "))\n",
    "print(f'original nodes:{node_values_list(head)}')\n",
    "sorted_nodes = insert_sort(head)\n",
    "node_values_list()"
   ]
  }
 ],
 "metadata": {
  "kernelspec": {
   "display_name": "Python 3",
   "language": "python",
   "name": "python3"
  },
  "language_info": {
   "codemirror_mode": {
    "name": "ipython",
    "version": 3
   },
   "file_extension": ".py",
   "mimetype": "text/x-python",
   "name": "python",
   "nbconvert_exporter": "python",
   "pygments_lexer": "ipython3",
   "version": "3.12.2"
  }
 },
 "nbformat": 4,
 "nbformat_minor": 2
}
