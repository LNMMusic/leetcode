{
 "cells": [
  {
   "cell_type": "code",
   "execution_count": 1,
   "metadata": {},
   "outputs": [],
   "source": [
    "from typing import List, Dict"
   ]
  },
  {
   "cell_type": "code",
   "execution_count": 5,
   "metadata": {},
   "outputs": [],
   "source": [
    "class Solution:\n",
    "    def canJump(self, nums: List[int]) -> bool:\n",
    "        # base case\n",
    "        if len(nums) < 2:\n",
    "            return len(nums) == 1\n",
    "        \n",
    "        # default case\n",
    "        for i in range(len(nums)-1):\n",
    "            for n in range(nums[i],0,-1):\n",
    "                if self.canJump(nums[i+n:]):\n",
    "                    return True\n",
    "        return False"
   ]
  },
  {
   "cell_type": "code",
   "execution_count": 12,
   "metadata": {},
   "outputs": [],
   "source": [
    "class Solution:\n",
    "    def canJump(self, nums: List[int]) -> bool:\n",
    "        # base case\n",
    "        if len(nums) < 2:\n",
    "            return len(nums) == 1\n",
    "        \n",
    "        # default case\n",
    "        for n in range(nums[0],0,-1):\n",
    "            if self.canJump(nums[n:]):\n",
    "                return True\n",
    "        return False"
   ]
  },
  {
   "cell_type": "code",
   "execution_count": 3,
   "metadata": {},
   "outputs": [],
   "source": [
    "class Solution:\n",
    "    def recursive(self, nums: List[int], ix:int, memo:Dict[int, bool]) -> bool:\n",
    "        # base case\n",
    "        if ix >= len(nums)-1:\n",
    "            return ix == len(nums)-1\n",
    "        \n",
    "        # memoization\n",
    "        if ix in memo:\n",
    "            return False\n",
    "\n",
    "        # default case\n",
    "        for n in range(nums[ix], 0, -1):\n",
    "            next_ix = ix + n\n",
    "            if self.recursive(nums, next_ix, memo=memo):\n",
    "                return True\n",
    "            memo[next_ix] = 0\n",
    "        \n",
    "        return False\n",
    "\n",
    "    def canJump(self, nums: List[int]) -> bool:\n",
    "        memo = {}\n",
    "        return self.recursive(nums=nums, ix=0, memo=memo)"
   ]
  },
  {
   "cell_type": "code",
   "execution_count": 13,
   "metadata": {},
   "outputs": [],
   "source": [
    "# greedy algorithm\n",
    "class Solution:\n",
    "    def canJump(self, nums: List[int]) -> bool:\n",
    "        limit = len(nums)-1\n",
    "        if not limit:\n",
    "            return True\n",
    "        \n",
    "        memo = {}\n",
    "        # inverse iteration\n",
    "        for i in range(len(nums)-2, -1, -1):\n",
    "            for n in range(1, nums[i]+1):\n",
    "                next_ix = i + n\n",
    "                if next_ix == limit or next_ix in memo:\n",
    "                    memo[i] = True\n",
    "                    break\n",
    "        \n",
    "        return 0 in memo"
   ]
  },
  {
   "cell_type": "code",
   "execution_count": 16,
   "metadata": {},
   "outputs": [],
   "source": [
    "# greedy algorithm\n",
    "class Solution:\n",
    "    def canJump(self, nums: List[int]) -> bool:\n",
    "        last_pos = len(nums) - 1\n",
    "        for i in range(len(nums)-2, -1, -1):\n",
    "            # if from position i + jumps we can reach or go further, is a valid checkpoint\n",
    "            if i + nums[i] >= last_pos:\n",
    "                last_pos = i\n",
    "        \n",
    "        return last_pos == 0"
   ]
  },
  {
   "cell_type": "code",
   "execution_count": 15,
   "metadata": {},
   "outputs": [
    {
     "data": {
      "text/plain": [
       "True"
      ]
     },
     "execution_count": 15,
     "metadata": {},
     "output_type": "execute_result"
    }
   ],
   "source": [
    "s = Solution()\n",
    "s.canJump([0])"
   ]
  }
 ],
 "metadata": {
  "kernelspec": {
   "display_name": "Python 3",
   "language": "python",
   "name": "python3"
  },
  "language_info": {
   "codemirror_mode": {
    "name": "ipython",
    "version": 3
   },
   "file_extension": ".py",
   "mimetype": "text/x-python",
   "name": "python",
   "nbconvert_exporter": "python",
   "pygments_lexer": "ipython3",
   "version": "3.12.2"
  }
 },
 "nbformat": 4,
 "nbformat_minor": 2
}
