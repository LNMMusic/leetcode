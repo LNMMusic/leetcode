{
 "cells": [
  {
   "cell_type": "code",
   "execution_count": 1,
   "metadata": {},
   "outputs": [
    {
     "ename": "SyntaxError",
     "evalue": "invalid syntax (2376683609.py, line 1)",
     "output_type": "error",
     "traceback": [
      "\u001b[1;36m  Cell \u001b[1;32mIn[1], line 1\u001b[1;36m\u001b[0m\n\u001b[1;33m    def convert(word string, factor_r int):\u001b[0m\n\u001b[1;37m                     ^\u001b[0m\n\u001b[1;31mSyntaxError\u001b[0m\u001b[1;31m:\u001b[0m invalid syntax\n"
     ]
    }
   ],
   "source": [
    "def convert(word:str, factor_r:int):\n",
    "    # split word into sets of factor_r\n",
    "    chars = list(word)\n",
    "    sets = []\n",
    "    for i in range(0, len(chars), factor_r-1):\n",
    "        sets.append(chars[i:i+factor_r])\n",
    "    \n",
    "    # number of cols\n",
    "    cols_n = \n",
    "\n",
    "    # use in an alternative manner the fill up functions for zig-zag\n",
    "    # - fill-down\n",
    "\n",
    "    # - fill-diagonal"
   ]
  },
  {
   "cell_type": "code",
   "execution_count": 14,
   "metadata": {},
   "outputs": [
    {
     "name": "stdout",
     "output_type": "stream",
     "text": [
      "6\n",
      "8\n"
     ]
    }
   ],
   "source": [
    "# each result implies 3 cols\n",
    "factor_r = 4\n",
    "diag = 2\n",
    "\n",
    "result = 17//(factor_r + diag)\n",
    "\n",
    "remanent = 17%(factor_r + diag)\n",
    "\n",
    "cols = result * 3\n",
    "print(cols)\n",
    "\n",
    "\n",
    "if remanent > factor_r:\n",
    "    cols += 1 + (remanent - factor_r)\n",
    "else:\n",
    "    cols += 1\n",
    "\n",
    "print(cols)"
   ]
  },
  {
   "cell_type": "code",
   "execution_count": 12,
   "metadata": {},
   "outputs": [
    {
     "data": {
      "text/plain": [
       "2"
      ]
     },
     "execution_count": 12,
     "metadata": {},
     "output_type": "execute_result"
    }
   ],
   "source": [
    "2%4"
   ]
  },
  {
   "cell_type": "code",
   "execution_count": null,
   "metadata": {},
   "outputs": [],
   "source": [
    "Simplified Cycling Normalization"
   ]
  },
  {
   "cell_type": "markdown",
   "metadata": {},
   "source": [
    "Math Equation System\n",
    "\n",
    "const\n",
    "R = space factor (row and col)\n",
    "\n",
    "full periodic cycle (zig-zag pattern)\n",
    "C = 2R - 2\n",
    "CS= 1 + (R-2)\n",
    "\n",
    "factors\n",
    "c = x // C = number of cycle                        | similar to getting the integers\n",
    "m = x % C = remanent of the uncompleted cycle       | similar to getting the floating point around the limits, but in integers steps (band-switch)\n",
    "b = CS * c = initial cycle position\n",
    "\n",
    "sections\n",
    "`down` | if m < R\n",
    "`diag` | if m >= R\n",
    "\n",
    "since m is modular arithmetic, it goes arround R-init and R-last, so each time a cycle is overcome, M resets so it always fit perfectly around the values for sections 'down' and 'diag'\n",
    "\n",
    "Somehow doing modular arithmetic is like normalizing the X value into the acceptable range of the cycle, but not lossing track of how many cycles were previously went through with the 'c' variable\n",
    "\n",
    "Now we can work with m more precisely as x\n",
    "\n",
    "b now is also normalized for x\n",
    "\n",
    "\n",
    "\n",
    "examples\n",
    "--------\n",
    "Space constants\n",
    "--------------------------\n",
    "R = 4\n",
    "C = 6 (steps of the cycle)\n",
    "CS= 3 (total cols)\n",
    "\n",
    "Factor Calcuations\n",
    "--------------------------\n",
    "x = 11 needs to be normalized into `cycles` (c) & `steps` (m)\n",
    "\\_ c = 11 // 6 = 1  | 1 cycle\n",
    "\\_ m = 11 %  6 = 5  | 5 steps\n",
    "\n",
    "\\_ b = 3 * 1   = 3  | 3° position as starting point\n",
    "\n",
    "\n",
    "Equation System\n",
    "- previous-calculus from 'x' (dynamic values)\n",
    "• c\n",
    "• m\n",
    "• b\n",
    "\n",
    "{\n",
    "    f(m, b) = [m, b]                 | if m < R      'down section'\n",
    "\n",
    "    ______________________________________________________________\n",
    "\n",
    "    now we need to normalize the m value for 2° section\n",
    "    - s1 = 1° section = R-1 = up to 3 containing 4 elements\n",
    "    - s2 = 2° section = >=R = from 4 containing 2 elements\n",
    "    \n",
    "    f(m) = mx = m - s1 \n",
    "    \n",
    "    f(mx) = [(R-1)-mx, b+mx]          | if m >= R     'diag section'\n",
    "}"
   ]
  },
  {
   "cell_type": "code",
   "execution_count": 6,
   "metadata": {},
   "outputs": [
    {
     "data": {
      "text/plain": [
       "2"
      ]
     },
     "execution_count": 6,
     "metadata": {},
     "output_type": "execute_result"
    }
   ],
   "source": [
    "12//6"
   ]
  },
  {
   "cell_type": "markdown",
   "metadata": {},
   "source": [
    "Math Equation System\n",
    "const\n",
    "b = initial bias position\n",
    "R = space factor (row and col)\n",
    "\n",
    "{\n",
    "    f(x) = [x, b]                               | if x < R\n",
    "\n",
    "    f(x) = [(R-1) - module - 1, diag]           | if R >= X < (R*2-1)\n",
    "    - module = x % R\n",
    "    - diag = (b + 1) + module \n",
    "}\n",
    "\n",
    "TABLE for b = 0; R = 4\n",
    "X   |   Y\n",
    "----------\n",
    "0   |   0, 0\n",
    "1   |   1, 0\n",
    "2   |   2, 0\n",
    "3   |   3, 0\n",
    "\n",
    "4   |   2, 1\n",
    "5   |   1, 2\n",
    "6   |   0, 3"
   ]
  },
  {
   "cell_type": "markdown",
   "metadata": {},
   "source": [
    "---"
   ]
  },
  {
   "cell_type": "markdown",
   "metadata": {},
   "source": [
    "## Modular Arithmetic - Cycling\n",
    "In this case we will be reviewing a cycle in one dimention. Let's suppose we have steps and a cycle grouped by n steps\n",
    "\n",
    "Space 1D\n",
    "R = defines the space's span\n",
    "C = defines the cycle's steps\n",
    "\n",
    "R = 24\n",
    "C = 6\n",
    "\n",
    "In this case we can fit `x`"
   ]
  }
 ],
 "metadata": {
  "kernelspec": {
   "display_name": "Python 3",
   "language": "python",
   "name": "python3"
  },
  "language_info": {
   "codemirror_mode": {
    "name": "ipython",
    "version": 3
   },
   "file_extension": ".py",
   "mimetype": "text/x-python",
   "name": "python",
   "nbconvert_exporter": "python",
   "pygments_lexer": "ipython3",
   "version": "3.12.2"
  }
 },
 "nbformat": 4,
 "nbformat_minor": 2
}
