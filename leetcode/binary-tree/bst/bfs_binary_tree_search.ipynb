{
 "cells": [
  {
   "cell_type": "code",
   "execution_count": 5,
   "metadata": {},
   "outputs": [],
   "source": [
    "from typing import Optional"
   ]
  },
  {
   "cell_type": "code",
   "execution_count": 2,
   "metadata": {},
   "outputs": [],
   "source": [
    "class ListNode:\n",
    "    def __init__(self, val=0, prev=None, next=None):\n",
    "        self.val = val\n",
    "        self.prev = prev\n",
    "        self.next = next\n",
    "\n",
    "class Queue:\n",
    "    def __init__(self) -> None:\n",
    "        self.head = None\n",
    "        self.tail = None\n",
    "    \n",
    "    def send(self, val: any) -> None:\n",
    "        node = ListNode(val=val)\n",
    "        \n",
    "        if not self.tail:\n",
    "            # Queue is empty\n",
    "            self.head = self.tail = node\n",
    "        else:\n",
    "            # Queue is not empty\n",
    "            self.tail.next = node\n",
    "            node.prev = self.tail\n",
    "            self.tail = node\n",
    "\n",
    "    def consume(self) -> any:\n",
    "        if not self.head:\n",
    "            # Queue is empty\n",
    "            return None\n",
    "        \n",
    "        val = self.head.val\n",
    "        if self.head == self.tail:\n",
    "            # Only one node in the queue\n",
    "            self.head = self.tail = None\n",
    "        else:\n",
    "            # More than one node in the queue\n",
    "            self.head = self.head.next\n",
    "            self.head.prev = None\n",
    "\n",
    "        return val\n",
    "\n",
    "    def is_empty(self) -> bool:\n",
    "        return self.head is None and self.tail is None"
   ]
  },
  {
   "cell_type": "code",
   "execution_count": 3,
   "metadata": {},
   "outputs": [],
   "source": [
    "class TreeNode:\n",
    "    def __init__(self, val=0, left=None, right=None):\n",
    "        self.val = val\n",
    "        self.left = left\n",
    "        self.right = right"
   ]
  },
  {
   "cell_type": "code",
   "execution_count": 6,
   "metadata": {},
   "outputs": [],
   "source": [
    "class Solution:\n",
    "    def searchBST(self, root: Optional[TreeNode], val: int) -> Optional[TreeNode]:\n",
    "        if not root:\n",
    "            return None\n",
    "        \n",
    "        # queue\n",
    "        queue = Queue()\n",
    "        queue.send(root)\n",
    "        while not queue.is_empty():\n",
    "            # fetch node\n",
    "            tree_node = queue.consume()\n",
    "\n",
    "            # check val\n",
    "            if tree_node.val == val:\n",
    "                return tree_node\n",
    "            # queue childs\n",
    "            # - each child is queue and sibblings will always be first processed before their childs\n",
    "            if tree_node.left:\n",
    "                queue.send(tree_node.left)\n",
    "            if tree_node.right:\n",
    "                queue.send(tree_node.right)\n",
    "\n",
    "        return None"
   ]
  }
 ],
 "metadata": {
  "kernelspec": {
   "display_name": "Python 3",
   "language": "python",
   "name": "python3"
  },
  "language_info": {
   "codemirror_mode": {
    "name": "ipython",
    "version": 3
   },
   "file_extension": ".py",
   "mimetype": "text/x-python",
   "name": "python",
   "nbconvert_exporter": "python",
   "pygments_lexer": "ipython3",
   "version": "3.12.2"
  }
 },
 "nbformat": 4,
 "nbformat_minor": 2
}
