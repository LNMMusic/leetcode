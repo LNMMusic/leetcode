{
 "cells": [
  {
   "cell_type": "code",
   "execution_count": 4,
   "metadata": {},
   "outputs": [],
   "source": [
    "from typing import Optional, List"
   ]
  },
  {
   "cell_type": "code",
   "execution_count": 3,
   "metadata": {},
   "outputs": [],
   "source": [
    "class TreeNode:\n",
    "    def __init__(self, val=0, left=None, right=None):\n",
    "        self.val = val\n",
    "        self.left = left\n",
    "        self.right = right"
   ]
  },
  {
   "cell_type": "code",
   "execution_count": 5,
   "metadata": {},
   "outputs": [],
   "source": [
    "class Solution:\n",
    "    def deleteNode(self, root: Optional[TreeNode], key: int) -> Optional[TreeNode]:\n",
    "        # base case\n",
    "        if not root:\n",
    "            return None\n",
    "        \n",
    "        anchor = TreeNode(val=float('+inf'), left=root)\n",
    "\n",
    "        # references\n",
    "        prev = anchor\n",
    "        curr = root     # we check its value\n",
    "        while curr:\n",
    "            if curr.val == key:\n",
    "                # fetch\n",
    "                # - left and right of current\n",
    "                # - prepare the node (2, 1 or 0) to be inserted\n",
    "                #   2 nodes: merge between left root (lr) and right root (rr)\n",
    "                #            lr + (lr rightest leaf = rr)\n",
    "                #            rr + (rr leftest leaf  = lr)\n",
    "                #   1 node: either lr or rr\n",
    "                #   0 node: None\n",
    "                l, r = curr.left, curr.right\n",
    "                node = None\n",
    "                if l and r:\n",
    "                    node = l\n",
    "                    # fetch the most right leaf\n",
    "                    ref  = node\n",
    "                    while ref.right:\n",
    "                        ref = ref.right\n",
    "                    ref.right = r\n",
    "                else:\n",
    "                    node = l or r\n",
    "\n",
    "                # check direction of replacement of the node\n",
    "                if prev.val > curr.val:\n",
    "                    prev.left = node\n",
    "                else:\n",
    "                    prev.right= node\n",
    "                    \n",
    "                break\n",
    "\n",
    "            elif curr.val > key:    # move left\n",
    "                prev = curr\n",
    "                curr = curr.left\n",
    "            else:                   # move right\n",
    "                prev = curr\n",
    "                curr = curr.right\n",
    "\n",
    "        return anchor.left"
   ]
  }
 ],
 "metadata": {
  "kernelspec": {
   "display_name": "Python 3",
   "language": "python",
   "name": "python3"
  },
  "language_info": {
   "codemirror_mode": {
    "name": "ipython",
    "version": 3
   },
   "file_extension": ".py",
   "mimetype": "text/x-python",
   "name": "python",
   "nbconvert_exporter": "python",
   "pygments_lexer": "ipython3",
   "version": "3.12.2"
  }
 },
 "nbformat": 4,
 "nbformat_minor": 2
}
