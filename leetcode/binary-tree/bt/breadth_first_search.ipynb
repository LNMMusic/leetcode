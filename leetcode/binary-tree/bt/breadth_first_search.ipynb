{
 "cells": [
  {
   "cell_type": "markdown",
   "metadata": {},
   "source": [
    "## Double Linked List"
   ]
  },
  {
   "cell_type": "code",
   "execution_count": 2,
   "metadata": {},
   "outputs": [],
   "source": [
    "class ListNode:\n",
    "    def __init__(self, val:int=0, prev:any=None, next:any=None) -> None:\n",
    "        self.val = val\n",
    "        self.prev = prev\n",
    "        self.next = next"
   ]
  },
  {
   "cell_type": "code",
   "execution_count": 3,
   "metadata": {},
   "outputs": [],
   "source": [
    "class ListNode:\n",
    "    def __init__(self, val=0, prev=None, next=None):\n",
    "        self.val = val\n",
    "        self.prev = prev\n",
    "        self.next = next\n",
    "\n",
    "class Queue:\n",
    "    '''\n",
    "    A generic queue implemented using a double-linked list to efficiently manage elements\n",
    "    in a First-In-First-Out (FIFO) manner. This implementation supports any data type and \n",
    "    efficiently handles operations at both ends of the queue with minimal performance overhead.\n",
    "    \n",
    "    Attributes:\n",
    "        head (ListNode): A reference to the first node in the queue, used for dequeuing.\n",
    "        tail (ListNode): A reference to the last node in the queue, used for enqueuing.\n",
    "        \n",
    "    The queue adjusts references dynamically to efficiently handle operations even with a single node.\n",
    "    \n",
    "    Edge Cases:\n",
    "        - No nodes: Both head and tail are None.\n",
    "        - Single node: head and tail point to the same node.\n",
    "        - Multiple nodes: head and tail point to different nodes, correctly maintaining the order.\n",
    "    '''\n",
    "\n",
    "    def __init__(self) -> None:\n",
    "        '''\n",
    "        Initializes an empty queue with no elements.\n",
    "        '''\n",
    "        self.head = None\n",
    "        self.tail = None\n",
    "    \n",
    "    def send(self, val: any) -> None:\n",
    "        '''\n",
    "        Enqueues a value at the end of the queue. This method wraps the value in a ListNode\n",
    "        and adjusts pointers to maintain the queue's FIFO order.\n",
    "        \n",
    "        Args:\n",
    "            val (any): The value to enqueue, which can be of any data type.\n",
    "        \n",
    "        Process:\n",
    "            - If the queue is empty (tail is None), both head and tail point to the new node.\n",
    "            - If the queue has one node, the new node is linked to the current tail. The head still\n",
    "              points to the original node, while the tail now points to the new node.\n",
    "            - If the queue has more than one node, the new node is linked to the current tail, and the tail reference is updated.\n",
    "        \n",
    "        This method ensures efficient O(1) insertion time by directly accessing the tail of the queue.\n",
    "        '''\n",
    "        node = ListNode(val=val)\n",
    "        \n",
    "        if not self.tail:\n",
    "            # Queue is empty\n",
    "            self.head = self.tail = node\n",
    "        else:\n",
    "            # Queue is not empty\n",
    "            self.tail.next = node\n",
    "            node.prev = self.tail\n",
    "            self.tail = node\n",
    "\n",
    "    def consume(self) -> any:\n",
    "        '''\n",
    "        Dequeues the first element from the queue and returns its value. Adjusts the head pointer\n",
    "        to maintain the queue's FIFO order and cleans up the previous reference from the new head.\n",
    "        \n",
    "        Returns:\n",
    "            The value of the dequeued element, or None if the queue is empty.\n",
    "        \n",
    "        Edge Cases:\n",
    "            - If there's only one node (head equals tail), both head and tail are set to None after the node is dequeued.\n",
    "            - If there are two nodes, head is updated to the next node, which was previously pointed to by head.next.\n",
    "              The head now becomes the same reference as the tail, and the previous reference from the new head is cleaned up.\n",
    "            - If there are multiple nodes, head is updated to the next node, and the previous link from the new head is cleaned up.\n",
    "        \n",
    "        This method ensures O(1) removal time by directly accessing the head of the queue.\n",
    "        '''\n",
    "        if not self.head:\n",
    "            # Queue is empty\n",
    "            return None\n",
    "        \n",
    "        val = self.head.val\n",
    "        if self.head == self.tail:\n",
    "            # Only one node in the queue\n",
    "            self.head = self.tail = None\n",
    "        else:\n",
    "            # More than one node in the queue\n",
    "            self.head = self.head.next\n",
    "            self.head.prev = None\n",
    "\n",
    "        return val"
   ]
  },
  {
   "cell_type": "markdown",
   "metadata": {},
   "source": [
    "---"
   ]
  },
  {
   "cell_type": "code",
   "execution_count": 1,
   "metadata": {},
   "outputs": [],
   "source": [
    "class LinkNode:\n",
    "    def __init__(self, val:any=0, next:any=None) -> None:\n",
    "        self.val = val\n",
    "        self.next= next"
   ]
  },
  {
   "cell_type": "code",
   "execution_count": 7,
   "metadata": {},
   "outputs": [],
   "source": [
    "class QueueSingle:\n",
    "    def __init__(self) -> None:\n",
    "        self.head = None\n",
    "        self.tail = None\n",
    "    \n",
    "    def send(self, val:any):\n",
    "        node = LinkNode(val=val, next=None)\n",
    "        # queue empty\n",
    "        if not self.tail:\n",
    "            self.head = self.tail = node\n",
    "            return\n",
    "        \n",
    "        self.tail.next = node\n",
    "        self.tail = node\n",
    "    \n",
    "    def consume(self) -> any:\n",
    "        # queue empty\n",
    "        if not self.head:\n",
    "            return None\n",
    "        \n",
    "        # fetch val\n",
    "        val = self.head.val\n",
    "        # re-wire\n",
    "        if self.head == self.tail:\n",
    "            self.head = self.tail = None\n",
    "        else:\n",
    "            self.head = self.head.next\n",
    "        \n",
    "        return val\n",
    "    \n",
    "    def is_empty(self) -> bool:\n",
    "        return self.head is None and self.tail is None"
   ]
  },
  {
   "cell_type": "markdown",
   "metadata": {},
   "source": [
    "---"
   ]
  },
  {
   "cell_type": "markdown",
   "metadata": {},
   "source": [
    "## Binary Tree Search using Breadth First Search (B.F.S.)\n"
   ]
  },
  {
   "cell_type": "code",
   "execution_count": 2,
   "metadata": {},
   "outputs": [],
   "source": [
    "from typing import Optional"
   ]
  },
  {
   "cell_type": "code",
   "execution_count": 3,
   "metadata": {},
   "outputs": [],
   "source": [
    "class TreeNode:\n",
    "    def __init__(self, val=0, left=None, right=None):\n",
    "        self.val = val\n",
    "        self.left = left\n",
    "        self.right = right"
   ]
  },
  {
   "cell_type": "code",
   "execution_count": 4,
   "metadata": {},
   "outputs": [],
   "source": [
    "# Solution for Random Placement of the nodes\n",
    "class Solution:\n",
    "    def searchBST(self, root: TreeNode, val: int) -> TreeNode:\n",
    "        if not root:\n",
    "            return None\n",
    "        \n",
    "        # queue\n",
    "        queue = QueueSingle()\n",
    "        queue.send(root)\n",
    "        while not queue.is_empty():\n",
    "            # fetch node\n",
    "            tree_node = queue.consume()\n",
    "\n",
    "            # check val\n",
    "            if tree_node.val == val:\n",
    "                return tree_node\n",
    "            # queue childs\n",
    "            # - each child is queue and sibblings will always be first processed before their childs\n",
    "            if tree_node.left:\n",
    "                queue.send(tree_node.left)\n",
    "            if tree_node.right:\n",
    "                queue.send(tree_node.right)\n",
    "\n",
    "        return None"
   ]
  },
  {
   "cell_type": "code",
   "execution_count": 32,
   "metadata": {},
   "outputs": [],
   "source": [
    "# Solution for Binary Search Tree (Sorted)\n",
    "class Solution:\n",
    "    def searchBST(self, root: TreeNode, val: int) -> TreeNode:\n",
    "        if not root:\n",
    "            return None\n",
    "        \n",
    "        # queue\n",
    "        queue = QueueSingle()\n",
    "        queue.send(root)\n",
    "        while not queue.is_empty():\n",
    "            # fetch node\n",
    "            tree_node = queue.consume()\n",
    "\n",
    "            # check val\n",
    "            current = tree_node.val\n",
    "            if current == val:\n",
    "                return tree_node\n",
    "            elif current < val and tree_node.right:\n",
    "                queue.send(tree_node.right)\n",
    "            elif current > val and tree_node.left:\n",
    "                queue.send(tree_node.left)\n",
    "\n",
    "        return None"
   ]
  },
  {
   "cell_type": "code",
   "execution_count": 10,
   "metadata": {},
   "outputs": [],
   "source": [
    "root, n1, n2, s1, s2 = TreeNode(4), TreeNode(2), TreeNode(7), TreeNode(1), TreeNode(3)\n",
    "root.left = n1\n",
    "root.right= n2\n",
    "\n",
    "n1.left = s1\n",
    "n1.right= s2"
   ]
  },
  {
   "cell_type": "code",
   "execution_count": 33,
   "metadata": {},
   "outputs": [
    {
     "name": "stdout",
     "output_type": "stream",
     "text": [
      "hey\n",
      "hey\n"
     ]
    }
   ],
   "source": [
    "s = Solution()\n",
    "tn = s.searchBST(root=root, val=7)"
   ]
  }
 ],
 "metadata": {
  "kernelspec": {
   "display_name": "Python 3",
   "language": "python",
   "name": "python3"
  },
  "language_info": {
   "codemirror_mode": {
    "name": "ipython",
    "version": 3
   },
   "file_extension": ".py",
   "mimetype": "text/x-python",
   "name": "python",
   "nbconvert_exporter": "python",
   "pygments_lexer": "ipython3",
   "version": "3.12.2"
  }
 },
 "nbformat": 4,
 "nbformat_minor": 2
}
