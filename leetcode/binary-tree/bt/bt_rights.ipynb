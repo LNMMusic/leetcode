{
 "cells": [
  {
   "cell_type": "code",
   "execution_count": 13,
   "metadata": {},
   "outputs": [],
   "source": [
    "from typing import Optional, List, Dict"
   ]
  },
  {
   "cell_type": "code",
   "execution_count": 2,
   "metadata": {},
   "outputs": [],
   "source": [
    "class TreeNode:\n",
    "    def __init__(self, val=0, left=None, right=None):\n",
    "        self.val = val\n",
    "        self.left = left\n",
    "        self.right = right"
   ]
  },
  {
   "cell_type": "code",
   "execution_count": 7,
   "metadata": {},
   "outputs": [],
   "source": [
    "class Solution:\n",
    "    # considering take left as long as there is no right\n",
    "    def rightSideView(self, root: Optional[TreeNode]) -> List[int]:\n",
    "        result = []\n",
    "        ref= root\n",
    "        while ref:\n",
    "            # append result\n",
    "            result.append(ref.val)\n",
    "            if ref.right:\n",
    "                ref = ref.right\n",
    "            elif ref.left:\n",
    "                ref = ref.left\n",
    "            else:\n",
    "                ref = None\n",
    "\n",
    "        return result"
   ]
  },
  {
   "cell_type": "code",
   "execution_count": 8,
   "metadata": {},
   "outputs": [
    {
     "data": {
      "text/plain": [
       "[1, 3, 4]"
      ]
     },
     "execution_count": 8,
     "metadata": {},
     "output_type": "execute_result"
    }
   ],
   "source": [
    "s = Solution()\n",
    "\n",
    "root = TreeNode(\n",
    "    val=1,\n",
    "    left=TreeNode(val=2, left=None, right=TreeNode(val=5)),\n",
    "    right=TreeNode(val=3, left=TreeNode(val=4), right=None)\n",
    ")\n",
    "s.rightSideView(root=root)"
   ]
  },
  {
   "cell_type": "code",
   "execution_count": 9,
   "metadata": {},
   "outputs": [
    {
     "data": {
      "text/plain": [
       "[1, 3]"
      ]
     },
     "execution_count": 9,
     "metadata": {},
     "output_type": "execute_result"
    }
   ],
   "source": [
    "s = Solution()\n",
    "\n",
    "root = TreeNode(\n",
    "    val=1,\n",
    "    left=TreeNode(val=2, left=TreeNode(val=4)),\n",
    "    right=TreeNode(val=3)\n",
    ")\n",
    "s.rightSideView(root=root)"
   ]
  },
  {
   "cell_type": "markdown",
   "metadata": {},
   "source": [
    "---"
   ]
  },
  {
   "cell_type": "markdown",
   "metadata": {},
   "source": [
    "## Breadth First Search"
   ]
  },
  {
   "cell_type": "code",
   "execution_count": 11,
   "metadata": {},
   "outputs": [],
   "source": [
    "class LinkNode:\n",
    "    def __init__(self, val:any=0, next:any=None) -> None:\n",
    "        self.val = val\n",
    "        self.next= next\n",
    "\n",
    "class QueueSingle:\n",
    "    def __init__(self) -> None:\n",
    "        self.head = None\n",
    "        self.tail = None\n",
    "    \n",
    "    def send(self, val:any):\n",
    "        node = LinkNode(val=val, next=None)\n",
    "        # queue empty\n",
    "        if not self.tail:\n",
    "            self.head = self.tail = node\n",
    "            return\n",
    "        \n",
    "        self.tail.next = node\n",
    "        self.tail = node\n",
    "    \n",
    "    def consume(self) -> any:\n",
    "        # queue empty\n",
    "        if not self.head:\n",
    "            return None\n",
    "        \n",
    "        # fetch val\n",
    "        val = self.head.val\n",
    "        # re-wire\n",
    "        if self.head == self.tail:\n",
    "            self.head = self.tail = None\n",
    "        else:\n",
    "            self.head = self.head.next\n",
    "        \n",
    "        return val\n",
    "    \n",
    "    def is_empty(self) -> bool:\n",
    "        return self.head is None and self.tail is None\n"
   ]
  },
  {
   "cell_type": "code",
   "execution_count": 12,
   "metadata": {},
   "outputs": [],
   "source": [
    "class TreeNode:\n",
    "    def __init__(self, val=0, left=None, right=None):\n",
    "        self.val = val\n",
    "        self.left = left\n",
    "        self.right = right"
   ]
  },
  {
   "cell_type": "code",
   "execution_count": null,
   "metadata": {},
   "outputs": [],
   "source": [
    "class Solution:\n",
    "    def rightSideView(self, root: Optional[TreeNode]) -> List[int]:\n",
    "        if not root:\n",
    "            return []\n",
    "\n",
    "        result = []\n",
    "        queue_parents, queue_childs = QueueSingle(), QueueSingle()\n",
    "        queue_parents.send(root)\n",
    "        while not queue_parents.is_empty() or not queue_parents.is_empty():\n",
    "            # parents case\n",
    "            if not queue_parents.is_empty():\n",
    "                node = queue_parents.consume()\n",
    "                if node.left:\n",
    "                    queue_childs.send(node.left)\n",
    "                if node.right:\n",
    "                    queue_childs.send(node.right)\n",
    "                continue\n",
    "\n",
    "            queue_childs\n",
    "\n",
    "\n",
    "            \n",
    "\n"
   ]
  },
  {
   "cell_type": "code",
   "execution_count": null,
   "metadata": {},
   "outputs": [],
   "source": [
    "class Solution:\n",
    "    def right_vals_depth(self, node: Optional[TreeNode], depth: int, levels: Dict[int, int]):\n",
    "        if not node:\n",
    "            return\n",
    "        \n",
    "        # register val\n",
    "        if depth not in levels:\n",
    "            levels[depth] = node.val\n",
    "        # go right\n",
    "        self.right_vals_depth(node=node.right, depth=depth+1, levels=levels)\n",
    "        # go left\n",
    "        self.right_vals_depth(node=node.left, depth=depth+1, levels=levels)\n",
    "\n",
    "    def rightSideView(self, root: Optional[TreeNode]) -> List[int]:\n",
    "        levels = {}\n",
    "        self.right_vals_depth(node=root, depth=0, levels=levels)\n",
    "        return list(levels.values())"
   ]
  },
  {
   "cell_type": "code",
   "execution_count": null,
   "metadata": {},
   "outputs": [],
   "source": []
  },
  {
   "cell_type": "code",
   "execution_count": 4,
   "metadata": {},
   "outputs": [
    {
     "data": {
      "text/plain": [
       "[0, 1, 2, 3]"
      ]
     },
     "execution_count": 4,
     "metadata": {},
     "output_type": "execute_result"
    }
   ],
   "source": [
    "chars = ['a','b','c','d']\n",
    "m = {}\n",
    "cc = 0\n",
    "for c in chars:\n",
    "    m[c] = cc\n",
    "    cc += 1\n",
    "list(m.values())"
   ]
  }
 ],
 "metadata": {
  "kernelspec": {
   "display_name": "Python 3",
   "language": "python",
   "name": "python3"
  },
  "language_info": {
   "codemirror_mode": {
    "name": "ipython",
    "version": 3
   },
   "file_extension": ".py",
   "mimetype": "text/x-python",
   "name": "python",
   "nbconvert_exporter": "python",
   "pygments_lexer": "ipython3",
   "version": "3.12.2"
  }
 },
 "nbformat": 4,
 "nbformat_minor": 2
}
