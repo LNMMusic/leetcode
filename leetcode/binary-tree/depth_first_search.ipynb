{
 "cells": [
  {
   "cell_type": "code",
   "execution_count": 2,
   "metadata": {},
   "outputs": [],
   "source": [
    "class ListNode:\n",
    "    def __init__(self, val, next) -> None:\n",
    "        self.val = val\n",
    "        self.next= next"
   ]
  },
  {
   "cell_type": "code",
   "execution_count": 8,
   "metadata": {},
   "outputs": [],
   "source": [
    "class Node:\n",
    "    def __init__(self, val:int=0, left:any=None, right:any=None) -> None:\n",
    "        self.val = val\n",
    "        self.left = left\n",
    "        self.right= right"
   ]
  },
  {
   "cell_type": "code",
   "execution_count": 14,
   "metadata": {},
   "outputs": [],
   "source": [
    "def depth_first_search(head: Node, target: int) -> bool:\n",
    "    # root case\n",
    "    if not head:\n",
    "        return False\n",
    "\n",
    "    # check target\n",
    "    if head.val == target:\n",
    "        return True\n",
    "\n",
    "    # check childs\n",
    "    if head.left and depth_first_search(head.left, target):\n",
    "        return True\n",
    "    \n",
    "    if head.right and depth_first_search(head.right, target):\n",
    "        return True\n",
    "    \n",
    "    return False"
   ]
  },
  {
   "cell_type": "code",
   "execution_count": 15,
   "metadata": {},
   "outputs": [],
   "source": [
    "root, n1, n2, s1, s2, s3, s4 = Node(val=1), Node(val=2), Node(val=3), Node(val=4), Node(val=5), Node(val=6), Node(val=7)\n",
    "root.left = n1\n",
    "root.right= n2\n",
    "\n",
    "n1.left = s1\n",
    "n1.right= s2\n",
    "\n",
    "n2.left = s3\n",
    "n2.right= s4"
   ]
  },
  {
   "cell_type": "code",
   "execution_count": 16,
   "metadata": {},
   "outputs": [
    {
     "data": {
      "text/plain": [
       "True"
      ]
     },
     "execution_count": 16,
     "metadata": {},
     "output_type": "execute_result"
    }
   ],
   "source": [
    "depth_first_search(root, 7)"
   ]
  }
 ],
 "metadata": {
  "kernelspec": {
   "display_name": "Python 3",
   "language": "python",
   "name": "python3"
  },
  "language_info": {
   "codemirror_mode": {
    "name": "ipython",
    "version": 3
   },
   "file_extension": ".py",
   "mimetype": "text/x-python",
   "name": "python",
   "nbconvert_exporter": "python",
   "pygments_lexer": "ipython3",
   "version": "3.12.2"
  }
 },
 "nbformat": 4,
 "nbformat_minor": 2
}
