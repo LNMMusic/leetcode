{
 "cells": [
  {
   "cell_type": "code",
   "execution_count": 1,
   "metadata": {},
   "outputs": [],
   "source": [
    "from typing import Optional, List"
   ]
  },
  {
   "cell_type": "code",
   "execution_count": 2,
   "metadata": {},
   "outputs": [],
   "source": [
    "class TreeNode:\n",
    "    def __init__(self, val=0, left=None, right=None):\n",
    "        self.val = val\n",
    "        self.left = left\n",
    "        self.right = right"
   ]
  },
  {
   "cell_type": "code",
   "execution_count": 3,
   "metadata": {},
   "outputs": [],
   "source": [
    "class Solution:\n",
    "    def goodNodesRecursion(self, node: TreeNode, max_val: int, result: List = [0]):\n",
    "        # base case\n",
    "        if node is None:\n",
    "            return\n",
    "\n",
    "        # register point\n",
    "        if node.val >= max_val:\n",
    "            max_val = node.val\n",
    "            result[0] += 1\n",
    "        # check left and right\n",
    "        if node.left:\n",
    "            self.goodNodesRecursion(node.left, max_val, result)\n",
    "        if node.right:\n",
    "            self.goodNodesRecursion(node.right, max_val, result)\n",
    "        \n",
    "    def goodNodes(self, root: TreeNode) -> int:\n",
    "        m = [0]\n",
    "        self.goodNodesRecursion(root, float('-inf'), m)\n",
    "        return m[0]"
   ]
  },
  {
   "cell_type": "code",
   "execution_count": null,
   "metadata": {},
   "outputs": [],
   "source": [
    "class Solution:\n",
    "    # using stack\n",
    "    def goodNodes(self, root: TreeNode) -> int:\n",
    "        if root is None:\n",
    "            return 0\n",
    "\n",
    "        count = 0\n",
    "        stack = [(root, float('-inf'))]\n",
    "        while stack:\n",
    "            # pop node and its max val\n",
    "            node, max_val = stack.pop()\n",
    "            \n",
    "            # check if greater\n",
    "            if node.val >= max_val:\n",
    "                max_val = node.val\n",
    "                count += 1\n",
    "\n",
    "            # stack childs\n",
    "            if node.right:\n",
    "                stack.append((node.right, max_val))\n",
    "            if node.left:\n",
    "                stack.append((node.left, max_val))\n",
    "        \n",
    "        return count"
   ]
  }
 ],
 "metadata": {
  "kernelspec": {
   "display_name": "Python 3",
   "language": "python",
   "name": "python3"
  },
  "language_info": {
   "codemirror_mode": {
    "name": "ipython",
    "version": 3
   },
   "file_extension": ".py",
   "mimetype": "text/x-python",
   "name": "python",
   "nbconvert_exporter": "python",
   "pygments_lexer": "ipython3",
   "version": "3.12.2"
  }
 },
 "nbformat": 4,
 "nbformat_minor": 2
}
