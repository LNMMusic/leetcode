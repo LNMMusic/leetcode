{
 "cells": [
  {
   "cell_type": "code",
   "execution_count": 1,
   "metadata": {},
   "outputs": [],
   "source": [
    "from typing import Optional"
   ]
  },
  {
   "cell_type": "code",
   "execution_count": 2,
   "metadata": {},
   "outputs": [],
   "source": [
    "class TreeNode:\n",
    "    def __init__(self, val=0, left=None, right=None):\n",
    "        self.val = val\n",
    "        self.left = left\n",
    "        self.right = right"
   ]
  },
  {
   "cell_type": "code",
   "execution_count": null,
   "metadata": {},
   "outputs": [],
   "source": [
    "class Solution:\n",
    "    def longestZigZag(self, root: Optional[TreeNode]) -> int:\n",
    "        if not root:\n",
    "            return 0\n",
    "        \n",
    "        longest = 0\n",
    "        # directions\n",
    "        # 0: left\n",
    "        # 1: right\n",
    "        stack = [(root, 0)]     # all unique pathways\n",
    "        while stack:\n",
    "            node, direction = stack.pop()\n",
    "            count = 0\n",
    "            while node:\n",
    "                if direction == 0:                      # left\n",
    "                    # stack unseen path of the node (r)\n",
    "                    if node.right:\n",
    "                        stack.append((node, 1))\n",
    "                    # move left and toggle\n",
    "                    node = node.left\n",
    "                    direction = 1\n",
    "                else:                                   # right\n",
    "                    # stack unseen path of the node (l)\n",
    "                    if node.left:\n",
    "                        stack.append((node.left, 0))\n",
    "                    # move right and toggle\n",
    "                    node = node.right\n",
    "                    direction = 0\n",
    "                if node:\n",
    "                    count += 1\n",
    "            longest = max(longest, count)\n",
    "        \n",
    "        return longest"
   ]
  },
  {
   "cell_type": "markdown",
   "metadata": {},
   "source": [
    "---"
   ]
  },
  {
   "cell_type": "code",
   "execution_count": null,
   "metadata": {},
   "outputs": [],
   "source": [
    "class Solution:\n",
    "    def longestZigZag(self, root: Optional[TreeNode]) -> int:\n",
    "        if not root:\n",
    "            return 0\n",
    "        \n",
    "        longest = 0\n",
    "        # path\n",
    "        # - node\n",
    "        # - direction: 0 (left) - 1 (right)\n",
    "        # - moves\n",
    "        stack = [(root, 0, 0)]\n",
    "        while stack:\n",
    "            node, direction, moves = stack.pop()\n",
    "            longest = max(longest, moves)\n",
    "            if direction == 0:                      # left\n",
    "                # stack unseen path (right)\n",
    "                if node.right:\n",
    "                    stack.append((node.right, 0, 1))\n",
    "                # move left\n",
    "                if node.left:\n",
    "                    stack.append((node.left, 1, moves + 1))\n",
    "            else:                                   # right\n",
    "                # stack unseen path (left)\n",
    "                if node.left:\n",
    "                    stack.append((node.left, 1, 1))\n",
    "                # move right\n",
    "                if node.right:\n",
    "                    stack.append((node.right, 0, moves + 1))\n",
    "            \n",
    "        return longest"
   ]
  },
  {
   "cell_type": "markdown",
   "metadata": {},
   "source": [
    "---\n",
    "## Optimal Solution"
   ]
  },
  {
   "cell_type": "code",
   "execution_count": null,
   "metadata": {},
   "outputs": [],
   "source": [
    "class Solution:\n",
    "    def longestZigZag(self, root: Optional[TreeNode]) -> int:\n",
    "        if not root:\n",
    "            return 0\n",
    "        \n",
    "        longest = 0\n",
    "        # paths\n",
    "        # - node\n",
    "        # - direction: 0 (left) - 1 (right)\n",
    "        # - moves: 0 or 1\n",
    "        stack = [(root, 0, 0)]     # all unique pathways\n",
    "        while stack:\n",
    "            node, direction, moves = stack.pop()\n",
    "            while node:\n",
    "                if direction == 0:                      # left\n",
    "                    # stack unseen path of the node (r)\n",
    "                    if node.right:\n",
    "                        stack.append((node.right, 0, 1))\n",
    "                    # move left and toggle\n",
    "                    node = node.left\n",
    "                    direction = 1\n",
    "                else:                                   # right\n",
    "                    # stack unseen path of the node (l)\n",
    "                    if node.left:\n",
    "                        stack.append((node.left, 1, 1))\n",
    "                    # move right and toggle\n",
    "                    node = node.right\n",
    "                    direction = 0\n",
    "                if node:\n",
    "                    moves += 1\n",
    "            longest = max(longest, moves)\n",
    "        \n",
    "        return longest"
   ]
  }
 ],
 "metadata": {
  "kernelspec": {
   "display_name": "Python 3",
   "language": "python",
   "name": "python3"
  },
  "language_info": {
   "codemirror_mode": {
    "name": "ipython",
    "version": 3
   },
   "file_extension": ".py",
   "mimetype": "text/x-python",
   "name": "python",
   "nbconvert_exporter": "python",
   "pygments_lexer": "ipython3",
   "version": "3.12.2"
  }
 },
 "nbformat": 4,
 "nbformat_minor": 2
}
