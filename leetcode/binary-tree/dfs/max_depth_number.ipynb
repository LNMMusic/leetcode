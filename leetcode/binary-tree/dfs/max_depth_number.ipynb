{
 "cells": [
  {
   "cell_type": "code",
   "execution_count": 1,
   "metadata": {},
   "outputs": [],
   "source": [
    "from typing import Optional"
   ]
  },
  {
   "cell_type": "code",
   "execution_count": 2,
   "metadata": {},
   "outputs": [],
   "source": [
    "class TreeNode:\n",
    "    def __init__(self, val=0, left=None, right=None):\n",
    "        self.val = val\n",
    "        self.left = left\n",
    "        self.right = right"
   ]
  },
  {
   "cell_type": "code",
   "execution_count": null,
   "metadata": {},
   "outputs": [],
   "source": [
    "class Solution:\n",
    "    def maxDepth(self, root: Optional[TreeNode]) -> int:\n",
    "        if not root:\n",
    "            return 0\n",
    "        \n",
    "        return max(self.maxDepth(root=root.left), self.maxDepth(root=root.right)) + 1"
   ]
  },
  {
   "cell_type": "code",
   "execution_count": null,
   "metadata": {},
   "outputs": [],
   "source": [
    "class Solution:\n",
    "    def goodNodesRecursion(self, node: TreeNode, max_val: int, result: List = [0]):\n",
    "        # base case\n",
    "        if node is None:\n",
    "            return\n",
    "\n",
    "        # register point\n",
    "        if node.val >= max_val:\n",
    "            max_val = node.val\n",
    "            result[0] += 1\n",
    "        # check left and right\n",
    "        if node.left:\n",
    "            self.goodNodesRecursion(node.left, max_val, result)\n",
    "        if node.right:\n",
    "            self.goodNodesRecursion(node.right, max_val, result)\n",
    "        \n",
    "    def goodNodes(self, root: TreeNode) -> int:\n",
    "        m = [0]\n",
    "        self.goodNodesRecursion(root, float('-inf'), m)\n",
    "        return m[0]"
   ]
  }
 ],
 "metadata": {
  "kernelspec": {
   "display_name": "Python 3",
   "language": "python",
   "name": "python3"
  },
  "language_info": {
   "codemirror_mode": {
    "name": "ipython",
    "version": 3
   },
   "file_extension": ".py",
   "mimetype": "text/x-python",
   "name": "python",
   "nbconvert_exporter": "python",
   "pygments_lexer": "ipython3",
   "version": "3.12.2"
  }
 },
 "nbformat": 4,
 "nbformat_minor": 2
}
