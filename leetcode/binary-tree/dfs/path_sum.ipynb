{
 "cells": [
  {
   "cell_type": "code",
   "execution_count": 1,
   "metadata": {},
   "outputs": [],
   "source": [
    "from typing import Optional"
   ]
  },
  {
   "cell_type": "code",
   "execution_count": 2,
   "metadata": {},
   "outputs": [],
   "source": [
    "class TreeNode:\n",
    "    def __init__(self, val=0, left=None, right=None):\n",
    "        self.val = val\n",
    "        self.left = left\n",
    "        self.right = right"
   ]
  },
  {
   "cell_type": "code",
   "execution_count": null,
   "metadata": {},
   "outputs": [],
   "source": [
    "class Solution:\n",
    "    def accSum(self, node: Optional[TreeNode], target: int) -> int:\n",
    "        # base case\n",
    "        if not node:\n",
    "            return 0\n",
    "        \n",
    "        count = 0\n",
    "        stack = [(node, 0)]\n",
    "        while stack:\n",
    "            # fetch node\n",
    "            node, acc = stack.pop()\n",
    "\n",
    "            acc += node.val\n",
    "            if acc == target:\n",
    "                count += 1\n",
    "                \n",
    "            if node.right:\n",
    "                stack.append((node.right, acc))\n",
    "            if node.left:\n",
    "                stack.append((node.left, acc))\n",
    "        \n",
    "        return count\n",
    "\n",
    "    def pathSum(self, root: Optional[TreeNode], targetSum: int) -> int:\n",
    "        # base case\n",
    "        if not root:\n",
    "            return 0\n",
    "        \n",
    "        # dfs\n",
    "        count = 0\n",
    "        stack = [root] # node - current sum\n",
    "        while stack:\n",
    "            node = stack.pop()\n",
    "            count += self.accSum(node, target=targetSum)\n",
    "            \n",
    "            if node.right:\n",
    "                stack.append(node.right)\n",
    "            if node.left:\n",
    "                stack.append(node.left)\n",
    "\n",
    "        return count"
   ]
  },
  {
   "cell_type": "code",
   "execution_count": null,
   "metadata": {},
   "outputs": [],
   "source": [
    "class Solution:\n",
    "    def pathSum(self, root: Optional[TreeNode], targetSum: int) -> int:\n",
    "        # base case\n",
    "        if not root:\n",
    "            return 0\n",
    "        \n",
    "        count = 0\n",
    "        stack = [(root, 0, {0:1})]\n",
    "        while stack:\n",
    "            # node, last accumulated, registry of accumulatives\n",
    "            node, acc, registry = stack.pop()\n",
    "            acc += node.val\n",
    "\n",
    "            # check distance between current accumulative (+node) and target\n",
    "            d = acc - targetSum\n",
    "            if d in registry:\n",
    "                count += registry[d]\n",
    "            \n",
    "            # register\n",
    "            r = registry.copy()\n",
    "            if acc in r:\n",
    "                r[acc] += 1\n",
    "            else:\n",
    "                r[acc] = 1\n",
    "\n",
    "            # branch\n",
    "            if node.right:\n",
    "                stack.append((node.right, acc, r))\n",
    "            if node.left:\n",
    "                stack.append((node.left, acc, r))\n",
    "        \n",
    "        return count"
   ]
  }
 ],
 "metadata": {
  "kernelspec": {
   "display_name": "Python 3",
   "language": "python",
   "name": "python3"
  },
  "language_info": {
   "codemirror_mode": {
    "name": "ipython",
    "version": 3
   },
   "file_extension": ".py",
   "mimetype": "text/x-python",
   "name": "python",
   "nbconvert_exporter": "python",
   "pygments_lexer": "ipython3",
   "version": "3.12.2"
  }
 },
 "nbformat": 4,
 "nbformat_minor": 2
}
