{
 "cells": [
  {
   "cell_type": "code",
   "execution_count": 10,
   "metadata": {},
   "outputs": [],
   "source": [
    "from typing import List"
   ]
  },
  {
   "cell_type": "code",
   "execution_count": 2,
   "metadata": {},
   "outputs": [],
   "source": [
    "class Solution:\n",
    "    def equalPairs(self, grid: List[List[int]]) -> int:\n",
    "        '''\n",
    "        This function checks rows pairs and sets them on seen dict[tuple, list counter]\n",
    "        - only we need to iterate over rows since iterating over cols to find pairs but where elements are not the same, then is unnecesary\n",
    "        the cols must perfectly matched to the already processed rows, both have to match\n",
    "        \n",
    "        venn diagram: if we find all needed A elements pairs, we do not care about unique pairs from B, we care about literally same B equal to A,\n",
    "        if they are equal, then we do not need to iterate to check pairs since they are the same and will acomplish the pair condition\n",
    "\n",
    "        the condition is not limited to pairs, but to all elements equal, so we focus on equal elements from cols that are already hashed and so if hash is equal to one of the pair rows, then that's it, is a needed match. although during the row iteration we might be adding the elements into a temporal list, to construct the cols and then check equality as tuples\n",
    "\n",
    "        or we can iterate over rows, since m == n invert the index, to reach the col row and once we got it, we check if its on the set\n",
    "        rows increase at index 0 and cols increase at index 1\n",
    "        '''\n",
    "        l = len(grid)\n",
    "        seen = {}\n",
    "        \n",
    "        for i in range(l-1):\n",
    "            row, row_valid = [0]*l, False\n",
    "            col, col_valid = [0]*l, False\n",
    "            for j in range(l-1):\n",
    "                # check row\n",
    "                if not row_valid:\n",
    "                    if grid[i][j] == grid[i+1][j]:\n",
    "                        row_valid = True\n",
    "                row[j] = grid[i][j]\n",
    "\n",
    "                # check col\n",
    "                if not col_valid:\n",
    "                    if grid[j][i] == grid[j+1][i]:\n",
    "                        col_valid = True\n",
    "                col[j] = grid[j][i]\n",
    "\n",
    "            # tuple rows and cols\n",
    "            if row_valid:\n",
    "                t = tuple(row)\n",
    "                if t not in seen:\n",
    "                    seen[t] = (1, 0)\n",
    "                else:\n",
    "                    seen[t][0] += 1\n",
    "            if col_valid:\n",
    "                t = tuple(col)\n",
    "                if t not in seen:\n",
    "                    seen[t] = (0, 1)\n",
    "                else:\n",
    "                    seen[t][1] += 1\n",
    "        \n",
    "        # calculate\n",
    "        matches = 0\n",
    "        for v in seen.values():\n",
    "            matches += v[0] * v[1]\n",
    "        return matches\n"
   ]
  },
  {
   "cell_type": "code",
   "execution_count": 11,
   "metadata": {},
   "outputs": [],
   "source": [
    "class Solution:\n",
    "    def equalPairs(self, grid: List[List[int]]) -> int:\n",
    "        n = len(grid)\n",
    "        seen = {}\n",
    "        # iterate over rows\n",
    "        for i in range(n):\n",
    "            for j in range(n-1):\n",
    "                if grid[i][j] == grid[i][j+1]:\n",
    "                    t = tuple(grid[i])\n",
    "                    if t in seen:\n",
    "                        seen[t] += 1\n",
    "                    else:\n",
    "                        seen[t] = 1\n",
    "                    break\n",
    "        # check col equality\n",
    "        counter = 0\n",
    "        for i in range(n):\n",
    "            t = tuple(grid[j][i] for j in range(n))\n",
    "            if t in seen:\n",
    "                counter += seen[t]\n",
    "        \n",
    "        return counter"
   ]
  },
  {
   "cell_type": "code",
   "execution_count": null,
   "metadata": {},
   "outputs": [],
   "source": [
    "class Solution:\n",
    "    def equalPairs(self, grid: List[List[int]]) -> int:\n",
    "        n = len(grid)\n",
    "        seen = {}\n",
    "        # iterate over rows\n",
    "        for i in range(n):\n",
    "            t = tuple(grid[i])\n",
    "            if t in seen:\n",
    "                seen[t] += 1\n",
    "            else:\n",
    "                seen[t] = 1\n",
    "\n",
    "        counter = 0\n",
    "        # check cols\n",
    "        for i in range(n):\n",
    "            t = tuple(grid[j][i] for j in range(n))\n",
    "            if t in seen:\n",
    "                counter += seen[t]\n",
    "        \n",
    "        return counter"
   ]
  },
  {
   "cell_type": "code",
   "execution_count": 14,
   "metadata": {},
   "outputs": [
    {
     "data": {
      "text/plain": [
       "0"
      ]
     },
     "execution_count": 14,
     "metadata": {},
     "output_type": "execute_result"
    }
   ],
   "source": [
    "s = Solution()\n",
    "s.equalPairs([[11,1],[1,11]])"
   ]
  }
 ],
 "metadata": {
  "kernelspec": {
   "display_name": "Python 3",
   "language": "python",
   "name": "python3"
  },
  "language_info": {
   "codemirror_mode": {
    "name": "ipython",
    "version": 3
   },
   "file_extension": ".py",
   "mimetype": "text/x-python",
   "name": "python",
   "nbconvert_exporter": "python",
   "pygments_lexer": "ipython3",
   "version": "3.12.2"
  }
 },
 "nbformat": 4,
 "nbformat_minor": 2
}
