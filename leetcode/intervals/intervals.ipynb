{
 "cells": [
  {
   "cell_type": "code",
   "execution_count": 1,
   "metadata": {},
   "outputs": [],
   "source": [
    "from typing import List"
   ]
  },
  {
   "cell_type": "code",
   "execution_count": null,
   "metadata": {},
   "outputs": [],
   "source": [
    "class Solution:\n",
    "    def eraseOverlapIntervals(self, intervals: List[List[int]]) -> int:\n",
    "        if len(intervals) == 0:\n",
    "            return 0\n",
    "        \n",
    "        start, end = intervals[0][0], intervals[0][1]\n",
    "        count = 0\n",
    "        for i in range(1, len(intervals)):\n",
    "            s, e = intervals[i][0], intervals[i][1]\n",
    "            if s >= end:\n",
    "                end = e\n",
    "            elif e <= start:\n",
    "                start = s\n",
    "            else:\n",
    "                count += 1\n",
    "\n",
    "        return count"
   ]
  },
  {
   "cell_type": "markdown",
   "metadata": {},
   "source": [
    "## End Time Sorting"
   ]
  },
  {
   "cell_type": "markdown",
   "metadata": {},
   "source": [
    "**Weak Case**"
   ]
  },
  {
   "cell_type": "code",
   "execution_count": 6,
   "metadata": {},
   "outputs": [
    {
     "data": {
      "text/plain": [
       "[(1, 10), (0, 20), (-1, 30), (-2, 40), (-3, 50)]"
      ]
     },
     "execution_count": 6,
     "metadata": {},
     "output_type": "execute_result"
    }
   ],
   "source": [
    "arr = [(1, 10), (0, 20), (-1, 30), (-2, 40), (-3, 50)]\n",
    "arr_end_sorted = sorted(arr, key=lambda x: x[1])\n",
    "arr_end_sorted"
   ]
  },
  {
   "cell_type": "markdown",
   "metadata": {},
   "source": [
    "**Using Start Time Sorting**"
   ]
  },
  {
   "cell_type": "code",
   "execution_count": 8,
   "metadata": {},
   "outputs": [
    {
     "data": {
      "text/plain": [
       "[(1, 10), (0, 20), (-1, 30), (-2, 40), (-3, 50)]"
      ]
     },
     "execution_count": 8,
     "metadata": {},
     "output_type": "execute_result"
    }
   ],
   "source": [
    "arr_start_sorted = sorted(arr, key=lambda x: x[0])[::-1]\n",
    "arr_start_sorted"
   ]
  },
  {
   "cell_type": "markdown",
   "metadata": {},
   "source": [
    "---"
   ]
  },
  {
   "cell_type": "code",
   "execution_count": 1,
   "metadata": {},
   "outputs": [],
   "source": [
    "from typing import List"
   ]
  },
  {
   "cell_type": "code",
   "execution_count": 15,
   "metadata": {},
   "outputs": [],
   "source": [
    "class Solution:\n",
    "    def eraseOverlapIntervals(self, intervals: List[List[int]]) -> int:\n",
    "        # sort based on end time\n",
    "        intervals.sort(key=lambda x: x[1])\n",
    "        \n",
    "        end, overlap = float('-inf'), 0\n",
    "        for i in range(len(intervals)):\n",
    "            # no overlap between endline and S,e\n",
    "            if end <= intervals[i][0]:\n",
    "                end = intervals[i][1]\n",
    "            else:\n",
    "                overlap += 1\n",
    "        \n",
    "        return overlap"
   ]
  },
  {
   "cell_type": "code",
   "execution_count": 16,
   "metadata": {},
   "outputs": [
    {
     "data": {
      "text/plain": [
       "2"
      ]
     },
     "execution_count": 16,
     "metadata": {},
     "output_type": "execute_result"
    }
   ],
   "source": [
    "s = Solution()\n",
    "s.eraseOverlapIntervals([[1,100],[11,22],[1,11],[2,12]])"
   ]
  }
 ],
 "metadata": {
  "kernelspec": {
   "display_name": "Python 3",
   "language": "python",
   "name": "python3"
  },
  "language_info": {
   "codemirror_mode": {
    "name": "ipython",
    "version": 3
   },
   "file_extension": ".py",
   "mimetype": "text/x-python",
   "name": "python",
   "nbconvert_exporter": "python",
   "pygments_lexer": "ipython3",
   "version": "3.12.2"
  }
 },
 "nbformat": 4,
 "nbformat_minor": 2
}
