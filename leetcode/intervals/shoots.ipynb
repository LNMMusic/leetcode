{
 "cells": [
  {
   "cell_type": "markdown",
   "metadata": {},
   "source": [
    "## 452. Minimum Number of Arrows to Burst Balloons\n",
    "\n",
    "There are some spherical balloons taped onto a flat wall that represents the XY-plane. The balloons are represented as a 2D integer array points where points[i] = [xstart, xend] denotes a balloon whose horizontal diameter stretches between xstart and xend. You do not know the exact y-coordinates of the balloons.\n",
    "\n",
    "Arrows can be shot up directly vertically (in the positive y-direction) from different points along the x-axis. A balloon with xstart and xend is burst by an arrow shot at x if xstart <= x <= xend. There is no limit to the number of arrows that can be shot. A shot arrow keeps traveling up infinitely, bursting any balloons in its path.\n",
    "\n",
    "Given the array points, return the minimum number of arrows that must be shot to burst all balloons.\n",
    "\n",
    "---"
   ]
  },
  {
   "cell_type": "markdown",
   "metadata": {},
   "source": [
    "## Steps\n",
    "1. Calculate smallest diameter for non-overlapping intervals (unit intervals)\n",
    "2. Check how many other intervals can wrap the unit to simplify the shots"
   ]
  },
  {
   "cell_type": "code",
   "execution_count": null,
   "metadata": {},
   "outputs": [],
   "source": [
    "from typing import List"
   ]
  },
  {
   "cell_type": "code",
   "execution_count": 3,
   "metadata": {},
   "outputs": [],
   "source": [
    "class Solution:\n",
    "    def findMinArrowShots(self, points: List[List[int]]) -> int:\n",
    "        '''\n",
    "        Strategy Summary:\n",
    "        \n",
    "        1. Sort Intervals by End Time:\n",
    "        - Sort the given intervals based on their end times. This ensures that we always consider the earliest ending interval first, which is crucial for minimizing the number of arrows needed.\n",
    "        - each mutually exclusive interval (non-overlapping) will require always a single shot (p1 end != p2 start)\n",
    "        - each inclusive interval (overlapping) can be skipable but the end of the general diamenter should not expand\n",
    "\n",
    "        2. Initialize Variables:\n",
    "        - arrows = 0: A counter to keep track of the number of arrows needed.\n",
    "        - end = -∞: A variable to keep track of the end point of the last balloon burst by an arrow.\n",
    "\n",
    "        3. Iterate Through Intervals:\n",
    "        - For each interval [start, end]:\n",
    "            - If the start of the current interval is greater than the end of the last interval burst, it means a new arrow is needed. Increment the arrows counter and update the end to the end of the current interval.\n",
    "            - If the start of the current interval is less than or equal to the end of the last interval burst, it means the current interval can be burst with the same arrow, so continue without incrementing the arrows counter or updating the end.\n",
    "        \n",
    "        The algorithm ensures that the minimum number of arrows are used to burst all the balloons.\n",
    "        '''\n",
    "        # sort by end-time\n",
    "        points.sort(key=lambda x: x[1])\n",
    "\n",
    "        end, arrows = float('-inf'), 0\n",
    "        for i in range(len(points)):\n",
    "            # check if mutually exclusive (p1 end != p2 start)\n",
    "            if end < points[i][0]:\n",
    "                arrows += 1\n",
    "                end = points[i][1]\n",
    "        \n",
    "        return arrows"
   ]
  }
 ],
 "metadata": {
  "kernelspec": {
   "display_name": "Python 3",
   "language": "python",
   "name": "python3"
  },
  "language_info": {
   "codemirror_mode": {
    "name": "ipython",
    "version": 3
   },
   "file_extension": ".py",
   "mimetype": "text/x-python",
   "name": "python",
   "nbconvert_exporter": "python",
   "pygments_lexer": "ipython3",
   "version": "3.12.2"
  }
 },
 "nbformat": 4,
 "nbformat_minor": 2
}
