{
 "cells": [
  {
   "cell_type": "code",
   "execution_count": 1,
   "metadata": {},
   "outputs": [],
   "source": [
    "from typing import List"
   ]
  },
  {
   "cell_type": "code",
   "execution_count": 5,
   "metadata": {},
   "outputs": [],
   "source": [
    "class ListNode:\n",
    "    def __init__(self, val=0, next=None):\n",
    "        self.val = val\n",
    "        self.next = next"
   ]
  },
  {
   "cell_type": "code",
   "execution_count": null,
   "metadata": {},
   "outputs": [],
   "source": [
    "class Solution:\n",
    "    def deleteMiddle(self, head: ListNode) -> ListNode:\n",
    "        # base case < 2 nodes\n",
    "        if not head or not head.next:\n",
    "            return None\n",
    "        if not head.next.next:\n",
    "            head.next = None\n",
    "            return head\n",
    "\n",
    "        # references\n",
    "        anchor = head\n",
    "        left = head\n",
    "        right= head\n",
    "        while right.next:\n",
    "            anchor = left\n",
    "            left = left.next\n",
    "            right= right.next\n",
    "            if right.next:\n",
    "                right = right.next\n",
    "\n",
    "        anchor.next = left.next\n",
    "\n",
    "        return head"
   ]
  },
  {
   "cell_type": "code",
   "execution_count": null,
   "metadata": {},
   "outputs": [],
   "source": [
    "class Solution:\n",
    "    def deleteMiddle(self, head: ListNode) -> ListNode:\n",
    "        if not head:\n",
    "            return None\n",
    "        \n",
    "        # references\n",
    "        anchor = ListNode(val=None, next=head)\n",
    "        left = anchor\n",
    "        right= anchor.next\n",
    "        while right and right.next:\n",
    "            left = left.next\n",
    "            right= right.next.next\n",
    "\n",
    "        left.next = left.next.next\n",
    "\n",
    "        return anchor.next"
   ]
  },
  {
   "cell_type": "code",
   "execution_count": null,
   "metadata": {},
   "outputs": [],
   "source": [
    "\n"
   ]
  }
 ],
 "metadata": {
  "kernelspec": {
   "display_name": "Python 3",
   "language": "python",
   "name": "python3"
  },
  "language_info": {
   "codemirror_mode": {
    "name": "ipython",
    "version": 3
   },
   "file_extension": ".py",
   "mimetype": "text/x-python",
   "name": "python",
   "nbconvert_exporter": "python",
   "pygments_lexer": "ipython3",
   "version": "3.12.2"
  }
 },
 "nbformat": 4,
 "nbformat_minor": 2
}
