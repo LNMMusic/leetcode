{
 "cells": [
  {
   "cell_type": "code",
   "execution_count": 3,
   "metadata": {},
   "outputs": [],
   "source": [
    "from typing import Optional, List"
   ]
  },
  {
   "cell_type": "code",
   "execution_count": 2,
   "metadata": {},
   "outputs": [],
   "source": [
    "class ListNode:\n",
    "    def __init__(self, val=0, next=None):\n",
    "        self.val = val\n",
    "        self.next = next"
   ]
  },
  {
   "cell_type": "code",
   "execution_count": null,
   "metadata": {},
   "outputs": [],
   "source": [
    "class Solution:\n",
    "    def pairSum(self, head: Optional[ListNode]) -> int:\n",
    "        # base case\n",
    "        if not head:\n",
    "            return None\n",
    "        \n",
    "        stack = []\n",
    "        anchor= ListNode(val=None, next=head)\n",
    "        # references\n",
    "        slow, fast = anchor, anchor\n",
    "        while fast:             # as fast reaches None, slow always ends up at first node of second half\n",
    "            # move\n",
    "            slow = slow.next\n",
    "            fast = fast.next\n",
    "            if fast:\n",
    "                fast = fast.next\n",
    "            \n",
    "            # stack slow\n",
    "            stack.append(slow.val)\n",
    "\n",
    "        # compare values between stack and second half\n",
    "        result = 0\n",
    "        while slow:\n",
    "            result = max(result, stack.pop() + slow.val)\n",
    "            slow = slow.next\n",
    "        \n",
    "        return result"
   ]
  },
  {
   "cell_type": "code",
   "execution_count": null,
   "metadata": {},
   "outputs": [],
   "source": [
    "class Solution:\n",
    "    def pairSum(self, head: Optional[ListNode]) -> int:\n",
    "        # base case\n",
    "        if not head:\n",
    "            return None\n",
    "        \n",
    "        stack = []\n",
    "        anchor= ListNode(val=None, next=head)\n",
    "        # references\n",
    "        slow, fast = anchor.next, anchor.next.next\n",
    "        while fast:             # as fast reaches None, slow always ends up at first node of second half\n",
    "            # stack slow\n",
    "            stack.append(slow.val)\n",
    "            # move\n",
    "            slow = slow.next\n",
    "            fast = fast.next\n",
    "            if fast:\n",
    "                fast = fast.next\n",
    "            \n",
    "        # compare values between stack and second half\n",
    "        result = 0\n",
    "        while slow:\n",
    "            result = max(result, stack.pop() + slow.val)\n",
    "            slow = slow.next\n",
    "        \n",
    "        return result"
   ]
  },
  {
   "cell_type": "markdown",
   "metadata": {},
   "source": [
    "---"
   ]
  },
  {
   "cell_type": "code",
   "execution_count": null,
   "metadata": {},
   "outputs": [],
   "source": [
    "class Solution:\n",
    "    def pairSum(self, head: Optional[ListNode]) -> int:\n",
    "        # base case\n",
    "        if not head:\n",
    "            return None\n",
    "        \n",
    "        stack = []\n",
    "        anchor= ListNode(val=None, next=head)\n",
    "        # references\n",
    "        slow, fast = anchor.next, anchor.next.next\n",
    "        while fast:\n",
    "            # move fast ref\n",
    "            fast = fast.next\n",
    "            if fast:\n",
    "                fast = fast.next\n",
    "\n",
    "            if not fast:\n",
    "                slow = slow.next\n",
    "                break\n",
    "            \n",
    "            # move slow (since takes place of next, no need to move)\n",
    "            # 1. pop the next ref\n",
    "            # 2. re-wire slow ref\n",
    "            n = slow.next\n",
    "            slow.next = n.next\n",
    "            # 3. re-wire pop next\n",
    "            # 4. append left pop\n",
    "            n.next = anchor.next\n",
    "            anchor.next = n\n",
    "        \n",
    "        # check twin sum\n",
    "        result = 0\n",
    "        init = anchor.next\n",
    "        while slow:\n",
    "            result = max(result, init.val + slow.val)\n",
    "            # move\n",
    "            init = init.next\n",
    "            slow = slow.next\n",
    "\n",
    "        return result"
   ]
  },
  {
   "cell_type": "code",
   "execution_count": null,
   "metadata": {},
   "outputs": [],
   "source": [
    "class Solution:\n",
    "    def pairSum(self, head: Optional[ListNode]) -> int:\n",
    "        # base case\n",
    "        if not head:\n",
    "            return None\n",
    "        \n",
    "        anchor= ListNode(val=None, next=head)\n",
    "        # references\n",
    "        slow, fast = anchor.next, anchor.next.next\n",
    "        while fast and fast.next:\n",
    "            # move fast (x2)\n",
    "            fast = fast.next.next\n",
    "            # move slow\n",
    "            n = slow.next; slow.next = n.next       # pop next and move slow re-wired\n",
    "            n.next = anchor.next; anchor.next = n   # pop next behind head\n",
    "\n",
    "        # check if reached limit\n",
    "        if fast:\n",
    "            slow = slow.next\n",
    "\n",
    "        # check twin sum\n",
    "        result, init = 0, anchor.next\n",
    "        while slow:\n",
    "            result = max(result, init.val + slow.val)\n",
    "            init = init.next\n",
    "            slow = slow.next\n",
    "\n",
    "        return result"
   ]
  }
 ],
 "metadata": {
  "kernelspec": {
   "display_name": "Python 3",
   "language": "python",
   "name": "python3"
  },
  "language_info": {
   "codemirror_mode": {
    "name": "ipython",
    "version": 3
   },
   "file_extension": ".py",
   "mimetype": "text/x-python",
   "name": "python",
   "nbconvert_exporter": "python",
   "pygments_lexer": "ipython3",
   "version": "3.12.2"
  }
 },
 "nbformat": 4,
 "nbformat_minor": 2
}
