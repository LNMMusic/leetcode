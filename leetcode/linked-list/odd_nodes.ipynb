{
 "cells": [
  {
   "cell_type": "code",
   "execution_count": 1,
   "metadata": {},
   "outputs": [],
   "source": [
    "from typing import List"
   ]
  },
  {
   "cell_type": "code",
   "execution_count": 2,
   "metadata": {},
   "outputs": [],
   "source": [
    "class ListNode:\n",
    "    def __init__(self, val=0, next=None):\n",
    "        self.val = val\n",
    "        self.next = next"
   ]
  },
  {
   "cell_type": "code",
   "execution_count": null,
   "metadata": {},
   "outputs": [],
   "source": [
    "class Solution:\n",
    "    def oddEvenList(self, head: ListNode) -> ListNode:\n",
    "        if not head:\n",
    "            return None\n",
    "\n",
    "        # dummies\n",
    "        even_dummy = ListNode(val=None, next=None)\n",
    "        odd_dummy  = ListNode(val=None, next=head)\n",
    "        # references\n",
    "        even = even_dummy\n",
    "        odd  = odd_dummy.next\n",
    "        while odd.next:\n",
    "            # pop even and set it\n",
    "            e = odd.next\n",
    "            even.next = e\n",
    "            even = e\n",
    "            \n",
    "            # re-wire odd and move ref to next node if there is\n",
    "            odd.next = e.next\n",
    "            if odd.next:\n",
    "                odd = odd.next\n",
    "\n",
    "        # case last while process was odd even odd, we need to update even next as None\n",
    "        even.next = None\n",
    "        \n",
    "        # wire odd and even\n",
    "        odd.next = even_dummy.next\n",
    "\n",
    "        return odd_dummy.next"
   ]
  }
 ],
 "metadata": {
  "kernelspec": {
   "display_name": "Python 3",
   "language": "python",
   "name": "python3"
  },
  "language_info": {
   "codemirror_mode": {
    "name": "ipython",
    "version": 3
   },
   "file_extension": ".py",
   "mimetype": "text/x-python",
   "name": "python",
   "nbconvert_exporter": "python",
   "pygments_lexer": "ipython3",
   "version": "3.12.2"
  }
 },
 "nbformat": 4,
 "nbformat_minor": 2
}
