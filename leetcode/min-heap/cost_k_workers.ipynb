{
 "cells": [
  {
   "cell_type": "code",
   "execution_count": 1,
   "metadata": {},
   "outputs": [],
   "source": [
    "from typing import List"
   ]
  },
  {
   "cell_type": "code",
   "execution_count": 6,
   "metadata": {},
   "outputs": [
    {
     "data": {
      "text/plain": [
       "[-6, -1, -3]"
      ]
     },
     "execution_count": 6,
     "metadata": {},
     "output_type": "execute_result"
    }
   ],
   "source": [
    "import heapq\n",
    "\n",
    "heap = [-9, -6, -3]\n",
    "heapq.heapreplace(heap, -1)\n",
    "\n",
    "heap"
   ]
  },
  {
   "cell_type": "code",
   "execution_count": 7,
   "metadata": {},
   "outputs": [
    {
     "data": {
      "text/plain": [
       "[-5, -1, -3]"
      ]
     },
     "execution_count": 7,
     "metadata": {},
     "output_type": "execute_result"
    }
   ],
   "source": [
    "heapq.heapreplace(heap, -5)\n",
    "heap"
   ]
  },
  {
   "cell_type": "code",
   "execution_count": 8,
   "metadata": {},
   "outputs": [
    {
     "data": {
      "text/plain": [
       "[-3, -1, 0]"
      ]
     },
     "execution_count": 8,
     "metadata": {},
     "output_type": "execute_result"
    }
   ],
   "source": [
    "heapq.heapreplace(heap, 0)\n",
    "heap"
   ]
  },
  {
   "cell_type": "markdown",
   "metadata": {},
   "source": [
    "---"
   ]
  },
  {
   "cell_type": "code",
   "execution_count": null,
   "metadata": {},
   "outputs": [],
   "source": [
    "from typing import List\n",
    "import heapq\n",
    "\n",
    "class Solution:\n",
    "    def totalCost(self, costs: List[int], k: int, candidates: int) -> int:\n",
    "        '''\n",
    "        Max Heap limited to K size, where max is pop when num is smaller\n",
    "        - this ensures a heap containing the minimun vals for k size\n",
    "        '''\n",
    "        # fill up max heap\n",
    "        workers = []\n",
    "        for _ in range(k):\n",
    "            heapq.heappush(workers, -costs.pop())\n",
    "        \n",
    "        # replace condition\n",
    "        while costs:\n",
    "            v = costs.pop()\n",
    "            if v < -workers[0]:\n",
    "                heapq.heapreplace(workers, -v)\n",
    "        \n",
    "        return -sum(workers)"
   ]
  },
  {
   "cell_type": "code",
   "execution_count": null,
   "metadata": {},
   "outputs": [],
   "source": [
    "from typing import List\n",
    "import heapq\n",
    "\n",
    "class Solution:\n",
    "    def totalCost(self, costs: List[int], k: int, candidates: int) -> int:\n",
    "        # two pointer technique refs\n",
    "        left, right = 0, len(costs)-1\n",
    "        # candidates heaps\n",
    "        first, last = [], []\n",
    "        for _ in range(candidates):\n",
    "            if left <= right:\n",
    "                heapq.heappush(first, costs[left])\n",
    "                left += 1\n",
    "            if left <= right:\n",
    "                heapq.heappush(last, costs[right])\n",
    "                right -= 1\n",
    "        \n",
    "        # check lowest between candidates\n",
    "        acc = 0\n",
    "        for _ in range(k):\n",
    "            if first and (not last or first[0] <= last[0]):\n",
    "                acc += heapq.heappop(first)\n",
    "                if left <= right:\n",
    "                    heapq.heappush(first, costs[left])\n",
    "                    left += 1\n",
    "            elif last and (not first or first[0] > last[0]):\n",
    "                acc += heapq.heappop(last)\n",
    "                if left <= right:\n",
    "                    heapq.heappush(last, costs[right])\n",
    "                    right -= 1\n",
    "\n",
    "        return acc"
   ]
  }
 ],
 "metadata": {
  "kernelspec": {
   "display_name": "Python 3",
   "language": "python",
   "name": "python3"
  },
  "language_info": {
   "codemirror_mode": {
    "name": "ipython",
    "version": 3
   },
   "file_extension": ".py",
   "mimetype": "text/x-python",
   "name": "python",
   "nbconvert_exporter": "python",
   "pygments_lexer": "ipython3",
   "version": "3.12.2"
  }
 },
 "nbformat": 4,
 "nbformat_minor": 2
}
