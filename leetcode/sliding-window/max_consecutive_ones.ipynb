{
 "cells": [
  {
   "cell_type": "code",
   "execution_count": 1,
   "metadata": {},
   "outputs": [],
   "source": [
    "from typing import List"
   ]
  },
  {
   "cell_type": "code",
   "execution_count": null,
   "metadata": {},
   "outputs": [],
   "source": [
    "class Solution:\n",
    "    def longestOnes(self, nums: List[int], k: int) -> int:\n",
    "        # base case\n",
    "        if len(nums) < 2:\n",
    "            return 1\n",
    "        \n",
    "        # start\n",
    "        length = 1\n",
    "        zeros = 0\n",
    "        l, r = 0, 0\n",
    "        while r < len(nums):\n",
    "            # as long as zero counter not greater than k, we keep moving right (streching)\n",
    "            if zeros <= k:\n",
    "                r += 1\n",
    "                if not nums[r]:\n",
    "                    zeros += 1\n",
    "            # if zero counter is grater than k, we calculate the lenght and check if its max\n",
    "            else:\n",
    "                \n",
    "\n",
    "                \n",
    "\n",
    "\n"
   ]
  },
  {
   "cell_type": "code",
   "execution_count": 2,
   "metadata": {},
   "outputs": [
    {
     "ename": "IndentationError",
     "evalue": "expected an indented block after 'else' statement on line 18 (193956124.py, line 20)",
     "output_type": "error",
     "traceback": [
      "\u001b[1;36m  Cell \u001b[1;32mIn[2], line 20\u001b[1;36m\u001b[0m\n\u001b[1;33m    else:\u001b[0m\n\u001b[1;37m    ^\u001b[0m\n\u001b[1;31mIndentationError\u001b[0m\u001b[1;31m:\u001b[0m expected an indented block after 'else' statement on line 18\n"
     ]
    }
   ],
   "source": [
    "class Solution:\n",
    "    def longestOnes(self, nums: List[int], k: int) -> int:\n",
    "        # base case\n",
    "        length = len(nums)\n",
    "        if length < 2:\n",
    "            return 1\n",
    "        \n",
    "        # start\n",
    "        longest = 1\n",
    "        zeros = 0\n",
    "        l, r = 0, 0\n",
    "        while r < length:\n",
    "            # as long as zero counter not greater or equal than k, we keep moving right (streching)\n",
    "            if zeros <= k:\n",
    "                # value\n",
    "                n = nums[r]\n",
    "                if not n:\n",
    "                    zeros += 1\n",
    "                \n",
    "                # calculate\n",
    "                if r == length-1:\n",
    "                    distance = (r-1) - l + 1\n",
    "                    if n:\n",
    "                        distance += 1\n",
    "                    \n",
    "                    longest = max(longest, distance)\n",
    "                    r += 1\n",
    "                elif \n",
    "\n",
    "                \n",
    "                # count zeros\n",
    "                n = nums[r]\n",
    "                # calculate\n",
    "                if r == length-1:\n",
    "\n",
    "            # if zero counter is grater than k, we reduce with left until zeros back again to equal\n",
    "            else:\n",
    "                if not nums[l]:\n",
    "                    zeros -= 1\n",
    "                l -= 1"
   ]
  },
  {
   "cell_type": "code",
   "execution_count": null,
   "metadata": {},
   "outputs": [],
   "source": [
    "class Solution:\n",
    "    def longestOnes(self, nums: List[int], k: int) -> int:\n",
    "        # base case\n",
    "        length = len(nums)\n",
    "        if length < 2:\n",
    "            return 1\n",
    "        \n",
    "        # start\n",
    "        longest = 1\n",
    "        zeros = 0\n",
    "        l, r = 0, 0\n",
    "        while r < length:\n",
    "            if zeros <= k:\n",
    "                # increase zero\n",
    "                if not nums[r]:\n",
    "                    zeros+=1\n",
    "                else:\n",
    "                    r+=1\n",
    "            else:\n",
    "                # calculate distance\n",
    "                longest = max(longest, r - l)\n",
    "                # shrink\n",
    "                if not nums[l]:\n",
    "                    zeros-=1\n",
    "                l+=1\n",
    "        \n",
    "        if nums[r]:\n",
    "            longest = max(longest, r - l + 1)\n",
    "        \n",
    "        return longest\n"
   ]
  },
  {
   "cell_type": "code",
   "execution_count": 8,
   "metadata": {},
   "outputs": [],
   "source": [
    "class Solution:\n",
    "    def longestOnes(self, nums: List[int], k: int) -> int:\n",
    "        if len(nums) < 2:\n",
    "            return 1\n",
    "        \n",
    "        longest = 0\n",
    "        zeros = 0\n",
    "        l = 0\n",
    "        for r in range(len(nums)):\n",
    "            # increase zero up to limit and calculate\n",
    "            if nums[r] == 0:\n",
    "                zeros += 1\n",
    "            \n",
    "            if zeros > k:\n",
    "                longest = max(longest, r - l)\n",
    "\n",
    "            # shrink\n",
    "            while zeros > k:\n",
    "                if nums[l] == 0:\n",
    "                    zeros -= 1\n",
    "                l += 1\n",
    "        \n",
    "        longest = max(longest, r - l + 1)\n",
    "\n",
    "        return longest"
   ]
  },
  {
   "cell_type": "code",
   "execution_count": 9,
   "metadata": {},
   "outputs": [
    {
     "data": {
      "text/plain": [
       "10"
      ]
     },
     "execution_count": 9,
     "metadata": {},
     "output_type": "execute_result"
    }
   ],
   "source": [
    "s = Solution()\n",
    "s.longestOnes([0,0,1,1,0,0,1,1,1,0,1,1,0,0,0,1,1,1,1], 3)"
   ]
  }
 ],
 "metadata": {
  "kernelspec": {
   "display_name": "Python 3",
   "language": "python",
   "name": "python3"
  },
  "language_info": {
   "codemirror_mode": {
    "name": "ipython",
    "version": 3
   },
   "file_extension": ".py",
   "mimetype": "text/x-python",
   "name": "python",
   "nbconvert_exporter": "python",
   "pygments_lexer": "ipython3",
   "version": "3.12.2"
  }
 },
 "nbformat": 4,
 "nbformat_minor": 2
}
