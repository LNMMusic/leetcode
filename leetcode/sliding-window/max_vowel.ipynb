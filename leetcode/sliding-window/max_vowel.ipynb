{
 "cells": [
  {
   "cell_type": "code",
   "execution_count": 1,
   "metadata": {},
   "outputs": [],
   "source": [
    "from typing import List"
   ]
  },
  {
   "cell_type": "code",
   "execution_count": 16,
   "metadata": {},
   "outputs": [],
   "source": [
    "class Solution:\n",
    "    def maxVowels(self, s: str, k: int) -> int:\n",
    "        vowels = {'a','e','i','o','u'}\n",
    "\n",
    "        result = 0\n",
    "        ix = 0; lim = len(s) - (k - 1)\n",
    "        while ix < lim:\n",
    "            if s[ix] in vowels:\n",
    "                current = 1\n",
    "                next_vw = 0\n",
    "                for i in range(1, k):\n",
    "                    ix += 1\n",
    "                    if s[ix] in vowels:\n",
    "                        if not next_vw:\n",
    "                            next_vw = ix\n",
    "                        current += 1\n",
    "                \n",
    "                result = max(result, current)\n",
    "                if result == k:\n",
    "                    break\n",
    "                    \n",
    "                if next_vw:\n",
    "                    ix = next_vw\n",
    "                    continue\n",
    "\n",
    "            ix += 1\n",
    "\n",
    "        # check last portion from limit (remanent positions)\n",
    "        current = 0\n",
    "        for i in range(lim, len(s)):\n",
    "            if s[i] in vowels:\n",
    "                current += 1\n",
    "        result = max(result, current)\n",
    "\n",
    "        return result"
   ]
  },
  {
   "cell_type": "code",
   "execution_count": 30,
   "metadata": {},
   "outputs": [],
   "source": [
    "# Sliding Window\n",
    "class Solution:\n",
    "    def maxVowels(self, s: str, k: int) -> int:\n",
    "        vowels = {'a','e','i','o','u'}\n",
    "        result = 0\n",
    "        \n",
    "        # base case\n",
    "        for i in range(k):\n",
    "            if s[i] in vowels:\n",
    "                result += 1\n",
    "\n",
    "        # default case\n",
    "        current = result\n",
    "        for i in range(k, len(s)):\n",
    "            if s[i] in vowels:\n",
    "                current += 1\n",
    "            if s[i-k] in vowels:\n",
    "                current -= 1\n",
    "            result = max(result, current)\n",
    "            if result == k:\n",
    "                break\n",
    "            \n",
    "        return result"
   ]
  },
  {
   "cell_type": "code",
   "execution_count": 32,
   "metadata": {},
   "outputs": [
    {
     "data": {
      "text/plain": [
       "3"
      ]
     },
     "execution_count": 32,
     "metadata": {},
     "output_type": "execute_result"
    }
   ],
   "source": [
    "s = Solution()\n",
    "s.maxVowels(\"tnfazcwrryitgacaabwm\", 4)"
   ]
  }
 ],
 "metadata": {
  "kernelspec": {
   "display_name": "Python 3",
   "language": "python",
   "name": "python3"
  },
  "language_info": {
   "codemirror_mode": {
    "name": "ipython",
    "version": 3
   },
   "file_extension": ".py",
   "mimetype": "text/x-python",
   "name": "python",
   "nbconvert_exporter": "python",
   "pygments_lexer": "ipython3",
   "version": "3.12.2"
  }
 },
 "nbformat": 4,
 "nbformat_minor": 2
}
