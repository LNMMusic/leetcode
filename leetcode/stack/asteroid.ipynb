{
 "cells": [
  {
   "cell_type": "code",
   "execution_count": 2,
   "metadata": {},
   "outputs": [],
   "source": [
    "from typing import List"
   ]
  },
  {
   "cell_type": "code",
   "execution_count": null,
   "metadata": {},
   "outputs": [],
   "source": [
    "class Solution:\n",
    "    def asteroidCollision(self, asteroids: List[int]) -> List[int]:\n",
    "        stack = []\n",
    "        for a in asteroids:\n",
    "            # direction\n",
    "            if a > 0:\n",
    "                stack.append(a)\n",
    "                continue\n",
    "            \n",
    "            # collision based on magnitud\n",
    "            while stack:\n",
    "                p, n = abs(stack[-1]), abs(a)\n",
    "                if p < n:\n",
    "                    stack.pop()\n",
    "                if p == n:\n",
    "                    stack.pop()\n",
    "                    break\n",
    "                else:\n",
    "                    break\n",
    "\n",
    "        return stack"
   ]
  },
  {
   "cell_type": "code",
   "execution_count": null,
   "metadata": {},
   "outputs": [],
   "source": [
    "class Solution:\n",
    "    def asteroidCollision(self, asteroids: List[int]) -> List[int]:\n",
    "        stack = []\n",
    "        for a in asteroids:\n",
    "            # stack positive\n",
    "            if a > 0:\n",
    "                stack.append(a)\n",
    "                continue\n",
    "                \n",
    "            # check colission\n",
    "            survive = True\n",
    "            while stack and stack[-1] > 0:\n",
    "                p, n = abs(stack[-1]), abs(a)\n",
    "                if p < n:\n",
    "                    stack.pop()\n",
    "                elif p == n:\n",
    "                    stack.pop()\n",
    "                    survive = False\n",
    "                    break\n",
    "                else:\n",
    "                    survive = False\n",
    "                    break\n",
    "\n",
    "            # stack negative if survive colision or non colision\n",
    "            if survive:\n",
    "                stack.append(a)\n",
    "\n",
    "        return stack"
   ]
  }
 ],
 "metadata": {
  "kernelspec": {
   "display_name": "Python 3",
   "language": "python",
   "name": "python3"
  },
  "language_info": {
   "codemirror_mode": {
    "name": "ipython",
    "version": 3
   },
   "file_extension": ".py",
   "mimetype": "text/x-python",
   "name": "python",
   "nbconvert_exporter": "python",
   "pygments_lexer": "ipython3",
   "version": "3.12.2"
  }
 },
 "nbformat": 4,
 "nbformat_minor": 2
}
