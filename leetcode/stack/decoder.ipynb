{
 "cells": [
  {
   "cell_type": "code",
   "execution_count": 22,
   "metadata": {},
   "outputs": [],
   "source": [
    "from typing import Dict"
   ]
  },
  {
   "cell_type": "code",
   "execution_count": 20,
   "metadata": {},
   "outputs": [],
   "source": [
    "class Solution:\n",
    "    def decodeString(self, s: str) -> str:\n",
    "        result = ''\n",
    "        i = 0\n",
    "        while i < len(s):\n",
    "            # non \"k[st]\" pattern\n",
    "            if not s[i].isdigit():\n",
    "                result += s[i]\n",
    "                i+=1\n",
    "                continue\n",
    "            \n",
    "            # \"k[st]\" pattern\n",
    "            # - check k repetition\n",
    "            f = i\n",
    "            while s[i].isdigit():\n",
    "                i += 1\n",
    "            k = int(s[f:i])\n",
    "            # - check sub-string\n",
    "            i += 1                      # skip [\n",
    "            f = i\n",
    "            open_br, close_br = 1, 0\n",
    "            while open_br != close_br:\n",
    "                if s[i] == '[':\n",
    "                    open_br += 1\n",
    "                elif s[i] == ']':\n",
    "                    close_br += 1\n",
    "                i+=1\n",
    "            st = s[f:i-1]\n",
    "            # - ask sub-string\n",
    "            result += k * self.decodeString(st)\n",
    "        \n",
    "        return result"
   ]
  },
  {
   "cell_type": "code",
   "execution_count": 21,
   "metadata": {},
   "outputs": [
    {
     "data": {
      "text/plain": [
       "'abcabccdcdcdef'"
      ]
     },
     "execution_count": 21,
     "metadata": {},
     "output_type": "execute_result"
    }
   ],
   "source": [
    "s = Solution()\n",
    "s.decodeString(\"2[abc]3[cd]ef\")"
   ]
  },
  {
   "cell_type": "code",
   "execution_count": null,
   "metadata": {},
   "outputs": [],
   "source": [
    "class Solution:\n",
    "    def decode(self, s: str, memo: Dict[str, str] = {}) -> str:\n",
    "        if s in memo:\n",
    "            return memo[s]\n",
    "\n",
    "        result = ''\n",
    "        i = 0\n",
    "        while i < len(s):\n",
    "            # non \"k[st]\" pattern\n",
    "            if not s[i].isdigit():\n",
    "                result += s[i]\n",
    "                i+=1\n",
    "                continue\n",
    "            \n",
    "            # \"k[st]\" pattern\n",
    "            # - check k repetition\n",
    "            f = i\n",
    "            while s[i].isdigit():\n",
    "                i += 1\n",
    "            k = int(s[f:i])\n",
    "            # - check sub-string\n",
    "            i += 1                      # skip [\n",
    "            f = i\n",
    "            open_br, close_br = 1, 0\n",
    "            while open_br != close_br:\n",
    "                if s[i] == '[':\n",
    "                    open_br += 1\n",
    "                elif s[i] == ']':\n",
    "                    close_br += 1\n",
    "                i+=1\n",
    "            st = s[f:i-1]\n",
    "            # - ask sub-string\n",
    "            st_dec = self.decode(st, memo)\n",
    "            result += k * st_dec\n",
    "            # - save to memo\n",
    "            memo[st] = st_dec\n",
    "        \n",
    "        return result\n",
    "\n",
    "    def decodeString(self, s: str) -> str:\n",
    "        return self.decode(s, {})"
   ]
  },
  {
   "cell_type": "code",
   "execution_count": 23,
   "metadata": {},
   "outputs": [
    {
     "data": {
      "text/plain": [
       "'abcabccdcdcdef'"
      ]
     },
     "execution_count": 23,
     "metadata": {},
     "output_type": "execute_result"
    }
   ],
   "source": [
    "s = Solution()\n",
    "s.decodeString(\"2[abc]3[cd]ef\")"
   ]
  }
 ],
 "metadata": {
  "kernelspec": {
   "display_name": "Python 3",
   "language": "python",
   "name": "python3"
  },
  "language_info": {
   "codemirror_mode": {
    "name": "ipython",
    "version": 3
   },
   "file_extension": ".py",
   "mimetype": "text/x-python",
   "name": "python",
   "nbconvert_exporter": "python",
   "pygments_lexer": "ipython3",
   "version": "3.12.2"
  }
 },
 "nbformat": 4,
 "nbformat_minor": 2
}
