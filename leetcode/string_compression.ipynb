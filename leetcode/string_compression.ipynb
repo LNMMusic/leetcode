{
 "cells": [
  {
   "cell_type": "code",
   "execution_count": 1,
   "metadata": {},
   "outputs": [],
   "source": [
    "from typing import List"
   ]
  },
  {
   "cell_type": "code",
   "execution_count": 6,
   "metadata": {},
   "outputs": [],
   "source": [
    "class Solution:\n",
    "    def compress(self, chars: List[str]) -> int:\n",
    "        counter = {}\n",
    "        for c in chars:\n",
    "            if c not in counter:\n",
    "                counter[c] = 1\n",
    "            else:\n",
    "                counter[c]+= 1\n",
    "        l = len(counter)\n",
    "        for k in counter:\n",
    "            n = counter[k]\n",
    "            if n > 1:\n",
    "                l += len(str(n))\n",
    "        return l"
   ]
  },
  {
   "cell_type": "code",
   "execution_count": 17,
   "metadata": {},
   "outputs": [],
   "source": [
    "class Solution:\n",
    "    def compress(self, chars: List[str]) -> int:\n",
    "        # remove\n",
    "        counter = {}\n",
    "        ix = 0\n",
    "        while len(chars):\n",
    "            c = chars[ix]\n",
    "            if c not in counter:\n",
    "                counter[c] = 1\n",
    "            else:\n",
    "                counter[c]+= 1\n",
    "            chars.pop(ix)\n",
    "\n",
    "        # append\n",
    "        for c in counter:\n",
    "            chars.append(c)\n",
    "            n = counter[c]\n",
    "            if n > 1:\n",
    "                for digit in str(n):\n",
    "                    chars.append(digit)\n",
    "        \n",
    "        return len(chars)"
   ]
  },
  {
   "cell_type": "code",
   "execution_count": 19,
   "metadata": {},
   "outputs": [
    {
     "data": {
      "text/plain": [
       "6"
      ]
     },
     "execution_count": 19,
     "metadata": {},
     "output_type": "execute_result"
    }
   ],
   "source": [
    "s = Solution()\n",
    "chars = [\"a\",\"a\",\"b\",\"b\",\"c\",\"c\",\"c\"]\n",
    "s.compress(chars=chars)"
   ]
  },
  {
   "cell_type": "code",
   "execution_count": 21,
   "metadata": {},
   "outputs": [],
   "source": [
    "class Solution:\n",
    "    def compress(self, chars: List[str]) -> int:\n",
    "        if not chars:\n",
    "            return 0\n",
    "        \n",
    "        char = chars[0]; freq = 0\n",
    "        ix = 0\n",
    "        while ix < len(chars):\n",
    "            current = chars[ix]\n",
    "            if char == current:\n",
    "                freq += 1\n",
    "                chars.pop(ix)\n",
    "            else:\n",
    "                # register\n",
    "                chars.insert(0, char)\n",
    "                ix = 1\n",
    "                if freq > 1:\n",
    "                    for c in str(freq):\n",
    "                        chars.insert(ix, c)\n",
    "                        ix += 1\n",
    "\n",
    "                # reset char\n",
    "                char = current\n",
    "        \n",
    "        return"
   ]
  },
  {
   "cell_type": "code",
   "execution_count": 26,
   "metadata": {},
   "outputs": [
    {
     "name": "stdout",
     "output_type": "stream",
     "text": [
      "['a', '3', 'b', 'b']\n"
     ]
    }
   ],
   "source": [
    "class Solution:\n",
    "    def compress(self, chars):\n",
    "        if not chars:\n",
    "            return 0\n",
    "        \n",
    "        write = 0  # Index where we write the result\n",
    "        anchor = 0  # Start of the current group of identical characters\n",
    "        \n",
    "        for read, char in enumerate(chars):\n",
    "            # Check if we are at the end of the list or the current character is different from the next one\n",
    "            if read + 1 == len(chars) or chars[read + 1] != char:\n",
    "                chars[write] = chars[anchor]  # Write the character\n",
    "                write += 1\n",
    "                # If the group size is more than 1, add the size\n",
    "                if read > anchor:\n",
    "                    for digit in str(read - anchor + 1):\n",
    "                        chars[write] = digit\n",
    "                        write += 1\n",
    "                anchor = read + 1  # Update the anchor to the next new character\n",
    "        \n",
    "        return write  # The new length of the compressed string\n",
    "\n",
    "# Example usage:\n",
    "sol = Solution()\n",
    "chars = [\"a\", \"a\", \"a\", \"b\"]\n",
    "length = sol.compress(chars)\n",
    "print(chars)  # Output should be ['a', '3', 'b', '2', 'a', '2']\n"
   ]
  },
  {
   "cell_type": "code",
   "execution_count": 27,
   "metadata": {},
   "outputs": [
    {
     "name": "stdout",
     "output_type": "stream",
     "text": [
      "['a', '7', 'b']\n"
     ]
    }
   ],
   "source": [
    "class Solution:\n",
    "    def compress(self, chars):\n",
    "        if not chars:\n",
    "            return 0\n",
    "\n",
    "        write = 0  # Where to write the next character or count\n",
    "        anchor = 0  # Start of the current group of identical characters\n",
    "\n",
    "        for read in range(len(chars)):\n",
    "            # Check if we are at the end of the list or if the next character is different\n",
    "            if read + 1 == len(chars) or chars[read] != chars[read + 1]:\n",
    "                chars[write] = chars[anchor]  # Write the character from anchor\n",
    "                write += 1\n",
    "                count = read - anchor + 1  # How many times the current char was repeated\n",
    "                if count > 1:\n",
    "                    # Convert the count to a string and iterate over each character\n",
    "                    for digit in str(count):\n",
    "                        chars[write] = digit\n",
    "                        write += 1\n",
    "                anchor = read + 1  # Move anchor to the next new character\n",
    "\n",
    "        return write  # The 'write' pointer now points to the length of the compressed list\n",
    "\n",
    "# Example usage:\n",
    "sol = Solution()\n",
    "chars = ['a', 'a', 'a', 'a', 'a', 'a', 'a', 'b']\n",
    "compressed_length = sol.compress(chars)\n",
    "print(chars[:compressed_length])  # Expected Output: ['a', '7', 'b']\n"
   ]
  }
 ],
 "metadata": {
  "kernelspec": {
   "display_name": "Python 3",
   "language": "python",
   "name": "python3"
  },
  "language_info": {
   "codemirror_mode": {
    "name": "ipython",
    "version": 3
   },
   "file_extension": ".py",
   "mimetype": "text/x-python",
   "name": "python",
   "nbconvert_exporter": "python",
   "pygments_lexer": "ipython3",
   "version": "3.12.2"
  }
 },
 "nbformat": 4,
 "nbformat_minor": 2
}
