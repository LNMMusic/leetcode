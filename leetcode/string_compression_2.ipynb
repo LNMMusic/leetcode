{
 "cells": [
  {
   "cell_type": "code",
   "execution_count": 1,
   "metadata": {},
   "outputs": [],
   "source": [
    "from typing import List"
   ]
  },
  {
   "cell_type": "code",
   "execution_count": 2,
   "metadata": {},
   "outputs": [
    {
     "name": "stdout",
     "output_type": "stream",
     "text": [
      "['a', '7', 'b']\n"
     ]
    }
   ],
   "source": [
    "class Solution:\n",
    "    def compress(self, chars):\n",
    "        if not chars:\n",
    "            return 0\n",
    "\n",
    "        write = 0  # Where to write the next character or count\n",
    "        anchor = 0  # Start of the current group of identical characters\n",
    "\n",
    "        for read in range(len(chars)):\n",
    "            # Check if we are at the end of the list or if the next character is different\n",
    "            if read + 1 == len(chars) or chars[read] != chars[read + 1]:\n",
    "                chars[write] = chars[anchor]  # Write the character from anchor\n",
    "                write += 1\n",
    "                count = read - anchor + 1  # How many times the current char was repeated\n",
    "                if count > 1:\n",
    "                    # Convert the count to a string and iterate over each character\n",
    "                    for digit in str(count):\n",
    "                        chars[write] = digit\n",
    "                        write += 1\n",
    "                anchor = read + 1  # Move anchor to the next new character\n",
    "\n",
    "        return write  # The 'write' pointer now points to the length of the compressed list\n",
    "\n",
    "# Example usage:\n",
    "sol = Solution()\n",
    "chars = ['a', 'a', 'a', 'a', 'a', 'a', 'a', 'b']\n",
    "compressed_length = sol.compress(chars)\n",
    "print(chars[:compressed_length])  # Expected Output: ['a', '7', 'b']\n"
   ]
  },
  {
   "cell_type": "code",
   "execution_count": null,
   "metadata": {},
   "outputs": [],
   "source": [
    "class Solution:\n",
    "    def compress(self, chars: List[str]) -> int:\n",
    "        '''\n",
    "        - chars: list of repetead chars to count and compress\n",
    "        \n",
    "        mechanics:\n",
    "        • anchor ptr: keeps track of the current char\n",
    "        • read ptr:   reads chars continuously\n",
    "        • write ptr:  writes from position 0 over chars\n",
    "            > overwrites already read values (always behind read ptr)\n",
    "            > writes on existing positions: DOES NOT INSERT, APPEND, POP\n",
    "            > writes giving a new char condition\n",
    "\n",
    "            each time we write we move 1 place\n",
    "        '''\n",
    "        # base case\n",
    "        if not chars:\n",
    "            return 0\n",
    "        \n",
    "        # ptrs\n",
    "        anchor = 0\n",
    "        writer = 0\n",
    "        for reader in range(len(chars)):\n",
    "            # check if next word is different or reached limit\n",
    "            if reader == len(chars)-1 or chars[reader] != chars[reader+1]:\n",
    "                chars[writer] = chars[anchor]\n",
    "                writer += 1                     # move writer +1\n",
    "                # char frequency\n",
    "                freq = reader - anchor + 1\n",
    "                if freq > 1:\n",
    "                    for digit in str(freq):\n",
    "                        chars[writer] = digit\n",
    "                        writer += 1\n",
    "                # update writer and anchor (writer already in place)\n",
    "                anchor = reader + 1\n",
    "\n",
    "        return writer"
   ]
  }
 ],
 "metadata": {
  "kernelspec": {
   "display_name": "Python 3",
   "language": "python",
   "name": "python3"
  },
  "language_info": {
   "codemirror_mode": {
    "name": "ipython",
    "version": 3
   },
   "file_extension": ".py",
   "mimetype": "text/x-python",
   "name": "python",
   "nbconvert_exporter": "python",
   "pygments_lexer": "ipython3",
   "version": "3.12.2"
  }
 },
 "nbformat": 4,
 "nbformat_minor": 2
}
