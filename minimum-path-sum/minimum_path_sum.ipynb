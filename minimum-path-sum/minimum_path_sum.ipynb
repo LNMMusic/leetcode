{
 "cells": [
  {
   "cell_type": "code",
   "execution_count": 8,
   "metadata": {},
   "outputs": [
    {
     "ename": "SyntaxError",
     "evalue": "invalid syntax (3190248823.py, line 24)",
     "output_type": "error",
     "traceback": [
      "\u001b[1;36m  Cell \u001b[1;32mIn[8], line 24\u001b[1;36m\u001b[0m\n\u001b[1;33m    total+=\u001b[0m\n\u001b[1;37m           ^\u001b[0m\n\u001b[1;31mSyntaxError\u001b[0m\u001b[1;31m:\u001b[0m invalid syntax\n"
     ]
    }
   ],
   "source": [
    "from typing import List\n",
    "\n",
    "class Solution(object):\n",
    "    def generate_perms_limit(self, current:list, tokens:map, k:int, result:list):\n",
    "        if k == 0:\n",
    "            result.append(current)\n",
    "            return\n",
    "        \n",
    "        for key in tokens:\n",
    "            if tokens[key] > 0:\n",
    "                # reduce usage\n",
    "                t = tokens.copy(); t[key] -= 1\n",
    "                self.generate_perms_limit(current=current+[key], tokens=t, k=k-1, result=result)\n",
    "\n",
    "    def generate_perms_limit(self, current:list, tokens:map, k:int, result:list):\n",
    "        if k == 0:\n",
    "            result.append(current)\n",
    "            return\n",
    "        \n",
    "        for key in tokens:\n",
    "\n",
    "    def translate_moves_into_sum(self, path:List[str], grid:List[List[int]]) -> List[int]:\n",
    "        total= grid[0][0]\n",
    "        r, c = 0, 0\n",
    "        for move in path:\n",
    "            if move == 'd':\n",
    "                r += 1\n",
    "            elif move == 'r':\n",
    "                c += 1\n",
    "\n",
    "            total += grid[r][c]\n",
    "\n",
    "        return total\n",
    "\n",
    "    def minPathSum(self,  grid: List[List[int]]) -> int:\n",
    "        \"\"\"\n",
    "        :type grid: List[List[int]]\n",
    "        :rtype: int\n",
    "        \"\"\"\n",
    "        # grid shape\n",
    "        m, n = len(grid), len(grid[0])\n",
    "        # all possible unit movements (perms: order matters)\n",
    "        d, r = m-1, n-1\n",
    "        paths = []\n",
    "        self.generate_perms_limit(current=[], tokens={'d':d,'r':r}, k=d+r, result=paths)\n",
    "\n",
    "        # check mimimun sum\n",
    "        minimun_sum = self.translate_moves_into_sum(paths[0], grid)\n",
    "        for p in paths:\n",
    "            total = grid[0][0]\n",
    "            r, c  = 0, 0\n",
    "            for move in p:\n",
    "                if \n",
    "\n",
    "        \n",
    "        return mimimun_sum"
   ]
  },
  {
   "cell_type": "code",
   "execution_count": 6,
   "metadata": {},
   "outputs": [
    {
     "data": {
      "text/plain": [
       "4"
      ]
     },
     "execution_count": 6,
     "metadata": {},
     "output_type": "execute_result"
    }
   ],
   "source": [
    "s = Solution()\n",
    "s.minPathSum(grid=[[1,3,1],[1,5,1],[4,2,1]])"
   ]
  },
  {
   "cell_type": "markdown",
   "metadata": {},
   "source": [
    "---"
   ]
  },
  {
   "cell_type": "markdown",
   "metadata": {},
   "source": [
    "## Coupled Version - Optimized"
   ]
  },
  {
   "cell_type": "code",
   "execution_count": 25,
   "metadata": {},
   "outputs": [],
   "source": [
    "from typing import List, Dict\n",
    "\n",
    "def perms_minium_sum(grid:List[List[int]], tokens:Dict[str, List[int]], result:List[int], current:int, k:int):\n",
    "    '''\n",
    "    - grid: m x n\n",
    "    - tokens:\n",
    "        key: movement\n",
    "        value: list(len=2) | ix(0): limit - ix(1): position\n",
    "\n",
    "        important tokens limit must be consistent with the grid shape, in this case m x n implies 2 tokens with m-1 and n-1\n",
    "    - result: minimun sum\n",
    "        the init value should be really high or some random pathway of the grid, since it doesn't have a first checker\n",
    "    - current: current sum through the calls\n",
    "        the init value should be always the first square of the grid\n",
    "    '''\n",
    "    # reached limit of perms k space\n",
    "    # - also it means the process didn't break early, so its the new minimun sum\n",
    "    if k == 0:\n",
    "        result[0] = current\n",
    "        return\n",
    "    \n",
    "    # default case (tokens keep state)\n",
    "    for t in tokens:\n",
    "        if tokens[t][0] > 0:\n",
    "            # make a copy to keep state\n",
    "            moves = tokens.copy()\n",
    "            for m in moves:\n",
    "                moves[m] = moves[m][:]\n",
    "            # update movement\n",
    "            # 0: limit\n",
    "            # 1: position\n",
    "            moves[t][0] -= 1\n",
    "            moves[t][1] += 1\n",
    "\n",
    "            # update sum from current position\n",
    "            r, c = moves['down'][1], moves['right'][1]\n",
    "            current_next = current + grid[r][c]\n",
    "            # check if current_next is greater than the result\n",
    "            if current_next < result[0]:\n",
    "                # call next perm\n",
    "                perms_minium_sum(grid=grid,tokens=moves,result=result,current=current_next,k=k-1)"
   ]
  },
  {
   "cell_type": "code",
   "execution_count": 26,
   "metadata": {},
   "outputs": [
    {
     "data": {
      "text/plain": [
       "[7]"
      ]
     },
     "execution_count": 26,
     "metadata": {},
     "output_type": "execute_result"
    }
   ],
   "source": [
    "grid = [\n",
    "    [1,3,1],\n",
    "    [1,5,1],\n",
    "    [4,2,1]\n",
    "]\n",
    "m, n = 3, 3\n",
    "d, r = m-1, n-1\n",
    "tokens = {\n",
    "    'down': [d, 0],\n",
    "    'right': [r, 0]\n",
    "}\n",
    "result = [100]\n",
    "current= grid[0][0]\n",
    "k = d + r\n",
    "\n",
    "perms_minium_sum(grid=grid, tokens=tokens, result=result, current=current, k=k)\n",
    "\n",
    "result"
   ]
  },
  {
   "cell_type": "markdown",
   "metadata": {},
   "source": [
    "---"
   ]
  },
  {
   "cell_type": "code",
   "execution_count": 32,
   "metadata": {},
   "outputs": [],
   "source": [
    "from typing import List, Dict\n",
    "\n",
    "class Solution:\n",
    "    def perms_minium_sum(self, grid:List[List[int]], tokens:Dict[str, List[int]], result:List[int], current:int, k:int):\n",
    "        '''\n",
    "        - grid: m x n\n",
    "        - tokens:\n",
    "            key: movement\n",
    "            value: list(len=2) | ix(0): limit - ix(1): position\n",
    "\n",
    "            important tokens limit must be consistent with the grid shape, in this case m x n implies 2 tokens with m-1 and n-1\n",
    "        - result: minimun sum\n",
    "            the init value should be really high or some random pathway of the grid, since it doesn't have a first checker\n",
    "        - current: current sum through the calls\n",
    "            the init value should be always the first square of the grid\n",
    "        '''\n",
    "        # reached limit of perms k space\n",
    "        # - also it means the process didn't break early, so its the new minimun sum\n",
    "        if k == 0:\n",
    "            result[0] = current\n",
    "            return\n",
    "        \n",
    "        # default case (tokens keep state)\n",
    "        for t in tokens:\n",
    "            if tokens[t][0] > 0:\n",
    "                # make a copy to keep state\n",
    "                moves = tokens.copy()\n",
    "                for m in moves:\n",
    "                    moves[m] = moves[m][:]\n",
    "                # update movement\n",
    "                # 0: limit\n",
    "                # 1: position\n",
    "                moves[t][0] -= 1\n",
    "                moves[t][1] += 1\n",
    "\n",
    "                # update sum from current position\n",
    "                r, c = moves['down'][1], moves['right'][1]\n",
    "                current_next = current + grid[r][c]\n",
    "                # check if current_next is greater than the result\n",
    "                if current_next < result[0]:\n",
    "                    # call next perm\n",
    "                    self.perms_minium_sum(grid=grid,tokens=moves,result=result,current=current_next,k=k-1)\n",
    "\n",
    "    def minPathSum(self, grid: List[List[int]]) -> int:\n",
    "        m, n = len(grid)-1, len(grid[0])-1\n",
    "        tokens = {\n",
    "            'down': [m, 0],  # Movement limits for 'down'\n",
    "            'right': [n, 0]  # Movement limits for 'right'\n",
    "        }\n",
    "        s = sum(grid[0])\n",
    "        for i in range(len(grid)):\n",
    "            s += grid[i][-1]\n",
    "        result = [s]\n",
    "        self.perms_minium_sum(grid=grid, tokens=tokens, result=result, current=grid[0][0], k=m+n)\n",
    "        return result[0]"
   ]
  },
  {
   "cell_type": "code",
   "execution_count": 34,
   "metadata": {},
   "outputs": [
    {
     "data": {
      "text/plain": [
       "7"
      ]
     },
     "execution_count": 34,
     "metadata": {},
     "output_type": "execute_result"
    }
   ],
   "source": [
    "s = Solution()\n",
    "s.minPathSum([\n",
    "    [1,3,1],\n",
    "    [1,5,1],\n",
    "    [4,2,1]\n",
    "])"
   ]
  }
 ],
 "metadata": {
  "kernelspec": {
   "display_name": "Python 3",
   "language": "python",
   "name": "python3"
  },
  "language_info": {
   "codemirror_mode": {
    "name": "ipython",
    "version": 3
   },
   "file_extension": ".py",
   "mimetype": "text/x-python",
   "name": "python",
   "nbconvert_exporter": "python",
   "pygments_lexer": "ipython3",
   "version": "3.12.2"
  }
 },
 "nbformat": 4,
 "nbformat_minor": 2
}
