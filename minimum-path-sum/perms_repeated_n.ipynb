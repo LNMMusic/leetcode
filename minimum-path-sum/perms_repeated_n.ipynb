{
 "cells": [
  {
   "cell_type": "code",
   "execution_count": 5,
   "metadata": {},
   "outputs": [],
   "source": [
    "def perms_n_space_repeats(current:list, data:list):\n",
    "    for i in range(len(data)):\n",
    "        for j in range(len(data[i])):\n",
    "            element = data[i][j]\n",
    "            d = data[i:]\n",
    "            d[i] = d[i][j+1:]\n",
    "            perms_n_space_repeats(current=current+[data[i][j]], data=d)\n",
    "\n",
    "    print(current)"
   ]
  },
  {
   "cell_type": "code",
   "execution_count": 10,
   "metadata": {},
   "outputs": [],
   "source": [
    "def perms_n_space_repeated(current:list, data:list, k:int):\n",
    "    # base case\n",
    "    if k == 0:\n",
    "        print(current)\n",
    "        return\n",
    "    \n",
    "    # default case\n",
    "    # - s represent sets\n",
    "    for s in range(len(data)):\n",
    "        for n in range(len(data[s])):\n",
    "            perms_n_space_repeated(\n",
    "                current= current + [data[s][n]],\n",
    "                data= [data[s][n+1:]] + data[s+1:],\n",
    "                k=k-1\n",
    "            )"
   ]
  },
  {
   "cell_type": "code",
   "execution_count": 11,
   "metadata": {},
   "outputs": [
    {
     "name": "stdout",
     "output_type": "stream",
     "text": [
      "['d', 'd', 'd', 'r', 'r']\n"
     ]
    }
   ],
   "source": [
    "perms_n_space_repeated(current=[], data=[['d','d','d','r','r']], k=5)"
   ]
  },
  {
   "cell_type": "code",
   "execution_count": 4,
   "metadata": {},
   "outputs": [
    {
     "data": {
      "text/plain": [
       "[[]]"
      ]
     },
     "execution_count": 4,
     "metadata": {},
     "output_type": "execute_result"
    }
   ],
   "source": [
    "n = [[],[1]]\n",
    "\n",
    "x = n[1:]\n",
    "x[0] = x[1:]\n",
    "x"
   ]
  },
  {
   "cell_type": "code",
   "execution_count": 6,
   "metadata": {},
   "outputs": [
    {
     "name": "stdout",
     "output_type": "stream",
     "text": [
      "['d', 'd', 'd', 'r', 'r']\n",
      "['d', 'd', 'd', 'r']\n",
      "['d', 'd', 'd', 'r']\n",
      "['d', 'd', 'd']\n",
      "['d', 'd', 'r', 'r']\n",
      "['d', 'd', 'r']\n",
      "['d', 'd', 'r']\n",
      "['d', 'd']\n",
      "['d', 'd', 'r', 'r']\n",
      "['d', 'd', 'r']\n",
      "['d', 'd', 'r']\n",
      "['d', 'd']\n",
      "['d', 'r', 'r']\n",
      "['d', 'r']\n",
      "['d', 'r']\n",
      "['d']\n",
      "['d', 'd', 'r', 'r']\n",
      "['d', 'd', 'r']\n",
      "['d', 'd', 'r']\n",
      "['d', 'd']\n",
      "['d', 'r', 'r']\n",
      "['d', 'r']\n",
      "['d', 'r']\n",
      "['d']\n",
      "['d', 'r', 'r']\n",
      "['d', 'r']\n",
      "['d', 'r']\n",
      "['d']\n",
      "['r', 'r']\n",
      "['r']\n",
      "['r']\n",
      "[]\n"
     ]
    }
   ],
   "source": [
    "perms_n_space_repeats(current=[], data=[['d','d','d','r','r']])"
   ]
  },
  {
   "cell_type": "code",
   "execution_count": 16,
   "metadata": {},
   "outputs": [],
   "source": [
    "def generate_perms_limit(current:list, tokens:map, k:int):\n",
    "    if k == 0:\n",
    "        print(current)\n",
    "        return\n",
    "    \n",
    "    for key in tokens:\n",
    "        if tokens[key] > 0:\n",
    "            # reduce usage\n",
    "            t = tokens.copy(); t[key] -= 1\n",
    "            generate_perms_limit(current=current+[key], tokens=t, k=k-1)"
   ]
  },
  {
   "cell_type": "code",
   "execution_count": 17,
   "metadata": {},
   "outputs": [
    {
     "name": "stdout",
     "output_type": "stream",
     "text": [
      "['d', 'd', 'd', 'r', 'r']\n",
      "['d', 'd', 'r', 'd', 'r']\n",
      "['d', 'd', 'r', 'r', 'd']\n",
      "['d', 'r', 'd', 'd', 'r']\n",
      "['d', 'r', 'd', 'r', 'd']\n",
      "['d', 'r', 'r', 'd', 'd']\n",
      "['r', 'd', 'd', 'd', 'r']\n",
      "['r', 'd', 'd', 'r', 'd']\n",
      "['r', 'd', 'r', 'd', 'd']\n",
      "['r', 'r', 'd', 'd', 'd']\n"
     ]
    }
   ],
   "source": [
    "tokens = {\n",
    "    'd':3,\n",
    "    'r':2\n",
    "}\n",
    "k = 5\n",
    "generate_perms_limit(current=[], tokens=tokens, k=k)"
   ]
  }
 ],
 "metadata": {
  "kernelspec": {
   "display_name": "Python 3",
   "language": "python",
   "name": "python3"
  },
  "language_info": {
   "codemirror_mode": {
    "name": "ipython",
    "version": 3
   },
   "file_extension": ".py",
   "mimetype": "text/x-python",
   "name": "python",
   "nbconvert_exporter": "python",
   "pygments_lexer": "ipython3",
   "version": "3.12.2"
  }
 },
 "nbformat": 4,
 "nbformat_minor": 2
}
