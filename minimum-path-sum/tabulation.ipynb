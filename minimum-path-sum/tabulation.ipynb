{
 "cells": [
  {
   "cell_type": "code",
   "execution_count": 1,
   "metadata": {},
   "outputs": [],
   "source": [
    "from typing import List\n",
    "\n",
    "class Solution:\n",
    "    def minPathSum(self, grid: List[List[int]]) -> int:\n",
    "        m, n = len(grid), len(grid[0])\n",
    "        tabulation = [[0]*n for _ in range(m)]\n",
    "        tabulation[0][0] = grid[0][0]\n",
    "\n",
    "        # accumulative first col\n",
    "        for i in range(1, m):\n",
    "            tabulation[i][0] = tabulation[i-1][0] + grid[i][0]\n",
    "        # accumulative first row\n",
    "        for j in range(1, n):\n",
    "            tabulation[0][j] = tabulation[0][j-1] + grid[0][j]\n",
    "\n",
    "        # fill up squares from 1, 1\n",
    "        for i in range(1, m):\n",
    "            for j in range(1, n):\n",
    "                tabulation[i][j] = min(tabulation[i][j-1], tabulation[i-1][j]) + grid[i][j]\n",
    "        \n",
    "        return tabulation[m-1][n-1]"
   ]
  },
  {
   "cell_type": "code",
   "execution_count": 2,
   "metadata": {},
   "outputs": [
    {
     "data": {
      "text/plain": [
       "7"
      ]
     },
     "execution_count": 2,
     "metadata": {},
     "output_type": "execute_result"
    }
   ],
   "source": [
    "s = Solution()\n",
    "s.minPathSum([[1,3,1],[1,5,1],[4,2,1]])"
   ]
  }
 ],
 "metadata": {
  "kernelspec": {
   "display_name": "Python 3",
   "language": "python",
   "name": "python3"
  },
  "language_info": {
   "codemirror_mode": {
    "name": "ipython",
    "version": 3
   },
   "file_extension": ".py",
   "mimetype": "text/x-python",
   "name": "python",
   "nbconvert_exporter": "python",
   "pygments_lexer": "ipython3",
   "version": "3.12.2"
  }
 },
 "nbformat": 4,
 "nbformat_minor": 2
}
