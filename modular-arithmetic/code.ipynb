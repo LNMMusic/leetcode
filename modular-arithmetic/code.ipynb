{
 "cells": [
  {
   "cell_type": "code",
   "execution_count": 18,
   "metadata": {},
   "outputs": [],
   "source": [
    "'''\n",
    "zig-zag position in 2d\n",
    "- S: Space s x s\n",
    "- b: init position on the cols (based on the start point of the cycle)\n",
    "- x: current position along the rows\n",
    "\n",
    "{\n",
    "    # Here S is also gonna be translated into S_p for position handling\n",
    "\n",
    "    -------------------------\n",
    "    Down\n",
    "    f(x) = [x, b]                 | IF x <= S\n",
    "\n",
    "    -------------------------\n",
    "    Diagonal\n",
    "    This parts requires normalization, since we are working with a new pivot with linear values, and the first drop goes S elements and so the diagonal, we can reset the indexing back to 0 in the arrangement of 0,...,S\n",
    "\n",
    "    Also since the diagonal always goes from bottom left to top right, it goes up, but since the array we do not count in an inverted manner of the cartesian graph, we should inverse the positions\n",
    "\n",
    "    • Normalization\n",
    "    x_n = (x - S)\n",
    "\n",
    "    • Diagonal Inversion\n",
    "    x_ni = (S - x_n)\n",
    "\n",
    "    f(x_n) = [S-x_n, b+x_n]        | IF x > S\n",
    "}\n",
    "'''\n",
    "\n",
    "def zig_zag_2d_positioner(S: int, x: int, b: int) -> list:\n",
    "    \"\"\"\n",
    "    Calculate the 2D position for an element in a zigzag pattern within a square grid.\n",
    "\n",
    "    Parameters:\n",
    "    - S (int): Dimension of the square grid (number of rows/columns).\n",
    "    - x (int): Current position in the zigzag traversal, where x is zero-indexed.\n",
    "    - b (int): Initial column offset for the start of the cycle.\n",
    "\n",
    "    The function handles a zigzag pattern where elements first move straight down and then diagonally up-right.\n",
    "\n",
    "    The path is split into two phases:\n",
    "    1. Downward: Directly downward until the end of the grid.\n",
    "    2. Diagonal: Moves diagonally up-right starting from the end of the downward path.\n",
    "\n",
    "    The function calculates the position by normalizing and inverting the path during the diagonal phase.\n",
    "\n",
    "    Returns:\n",
    "    list: A list containing two integers [row_index, col_index] representing the position of 'x' in the grid.\n",
    "\n",
    "    Raises:\n",
    "    ValueError: If 'x' is outside the valid range of [0, 2S-2] inclusive.\n",
    "\n",
    "    Example:\n",
    "    >>> zig_zag_2d_positioner(5, 7, 0)\n",
    "    [2, 2]\n",
    "    \"\"\"\n",
    "\n",
    "    # Compute the maximum index in the zigzag cycle\n",
    "    # max_cycle_index = C\n",
    "    C = 2 * S - 2\n",
    "    if x < 0 or x >= C:\n",
    "        raise ValueError(f'x is out of the allowed cycle range, which is from 0 to {C}')\n",
    "\n",
    "    # Determine the boundary within the grid where the downward movement ends\n",
    "    downward_boundary = S - 1\n",
    "\n",
    "    # Down pattern: movement is strictly downward\n",
    "    if x <= downward_boundary:\n",
    "        return [x, b]\n",
    "\n",
    "    # Inverse diagonal pattern starts after the end of the downward pattern\n",
    "    # Normalization: shift by the downward boundary to recalculate position for diagonal phase\n",
    "    normalized_x = x - downward_boundary\n",
    "    # Diagonal inversion: reflects the diagonal movement to simulate upward movement on the grid\n",
    "    inverted_x = downward_boundary - normalized_x\n",
    "\n",
    "    # Compute the final position considering the initial column offset and the normalized diagonal movement\n",
    "    return [inverted_x, b + normalized_x]\n"
   ]
  },
  {
   "cell_type": "code",
   "execution_count": 12,
   "metadata": {},
   "outputs": [
    {
     "data": {
      "text/plain": [
       "6"
      ]
     },
     "execution_count": 12,
     "metadata": {},
     "output_type": "execute_result"
    }
   ],
   "source": [
    "# Test Cases\n",
    "S = 4\n",
    "x = 0\n",
    "b = 0\n",
    "\n",
    "C = S*2 - 2 # limit of the table cases for x\n",
    "C"
   ]
  },
  {
   "cell_type": "code",
   "execution_count": 16,
   "metadata": {},
   "outputs": [
    {
     "data": {
      "text/plain": [
       "[[0, 0], [1, 0], [2, 0], [3, 0], [2, 1], [1, 2]]"
      ]
     },
     "execution_count": 16,
     "metadata": {},
     "output_type": "execute_result"
    }
   ],
   "source": [
    "'''\n",
    "Table Cases\n",
    "• S = 4\n",
    "• C = S*2 - 2 = 6\n",
    "\n",
    "x, b    |   y\n",
    "--------|---------\n",
    "0, 0    |   (0, 0)\n",
    "1, 0    |   (1, 0)\n",
    "2, 0    |   (2, 0)\n",
    "3, 0    |   (3, 0)\n",
    "4, 0    |   (2, 1)\n",
    "5, 0    |   (1, 2)\n",
    "'''\n",
    "\n",
    "coordinates = []\n",
    "coordinates.append(zig_zag_2d_positioner(S, 0, 0))\n",
    "coordinates.append(zig_zag_2d_positioner(S, 1, 0))\n",
    "coordinates.append(zig_zag_2d_positioner(S, 2, 0))\n",
    "coordinates.append(zig_zag_2d_positioner(S, 3, 0))\n",
    "coordinates.append(zig_zag_2d_positioner(S, 4, 0))\n",
    "coordinates.append(zig_zag_2d_positioner(S, 5, 0))\n",
    "coordinates"
   ]
  },
  {
   "cell_type": "code",
   "execution_count": null,
   "metadata": {},
   "outputs": [],
   "source": [
    "# Error case, out of boundaries\n",
    "zig_zag_2d_positioner(S, 6, 0)  # ValueError: x is out of the allowed cycle range, which is from 0 to 5"
   ]
  },
  {
   "cell_type": "markdown",
   "metadata": {},
   "source": [
    "---"
   ]
  },
  {
   "cell_type": "markdown",
   "metadata": {},
   "source": [
    "## Cycle Sequence - Adjacent"
   ]
  },
  {
   "cell_type": "markdown",
   "metadata": {},
   "source": [
    "##### Normalization\n",
    "We need to first normalize the X n° of element in order to determinate the `relative position` around the uncovered cycle to work in an `stateless` manner with our previous system of equations and so for the `b` position\n",
    "\n",
    "• c = X // C        | n° completed cycles\n",
    "• r = X % C         | n° remanent steps along the incompleted cycle or n° element in the incompleted cycle\n",
    "\n",
    "**Special Case**\n",
    "In case X == C, it means a cycle is fully completed but no more remanent steps on an uncovered cycle. Meaning i should consider the last step of completed circle, relatively\n",
    "\n",
    "if r == 0; r == C (in order to have the last )\n",
    "\n",
    "now we have the exact number of cycles (c) and where we currently are along the uncovered cycle (r)\n",
    "\n",
    "**r, x_p and b parameter**\n",
    "now we need to calculate b to know the starting position of the current cycle. This will also affect r in an special case where there is no remanent.\n",
    "\n",
    "In case of `r` we can normalize it into the x position called `x_p`\n",
    "> {\n",
    ">     x_p = r-1      | IF r > 0\n",
    ">     x_p = C        | IF r == 0\n",
    "> }\n",
    "\n",
    "In case of `b`\n",
    "B defines where along the space, is the searched position, it depends on the number of cycles (c) and remanent (r) steps. Its a measurement of position in this case and based on the pattern, it will indicate the `axis x` or cols\n",
    "\n",
    "Full Cycle Cols\n",
    "> CS = 1 + (S-2)\n",
    "> {\n",
    ">   b = CS * (c-1)   | IF !r (no remanent)\n",
    ">   b = CS * (c)     | IF r (remanent)\n",
    "> }\n",
    "\n",
    "After we get c, r, and b we can send b, but x should be along the range or predispose limits of our stateless pattern function, so x is not literal x, but the relative position, that is represented in this case by r, the r that counts x from the beggining of the cycle\n",
    "\n",
    "we send b, and finally r as x\n",
    "\n",
    "b = position measure\n",
    "r as x = position measure"
   ]
  },
  {
   "cell_type": "code",
   "execution_count": 23,
   "metadata": {},
   "outputs": [],
   "source": [
    "'''\n",
    "This Section introduces Modular Arithmetic that will help with the cycling around the zig-zag pattern\n",
    "'''\n",
    "\n",
    "def zig_zag_2d_positioner_normalization(S: int, x: int) -> list:\n",
    "    \"\"\"\n",
    "    From S Space, we will determinate:\n",
    "    - C: Cycle limit = 2S - 2\n",
    "    - CS: represents the number of cols a cycle occupies (helpful to determine the b normalized position) = 1 + (S-2)\n",
    "    - c: n° of completed cycles\n",
    "    - r: n° of remaining elements in the cycle\n",
    "\n",
    "    From this calculated parameters, we can determine the normalized position\n",
    "    - b: initial column offset of a cycle, always from the beggining of the current cycle\n",
    "    - x_n: normalized position\n",
    "    [x_n, b]\n",
    "    \n",
    "    This allow us using the cycle function in an stateless manner\n",
    "    \"\"\"\n",
    "    # parameters\n",
    "    C = 2*S - 2\n",
    "    cols_per_cycle = 1 + (S-2)\n",
    "    c = x // C\n",
    "    r = x % C\n",
    "\n",
    "    # normalization\n",
    "    if r == 0:\n",
    "        x_normalized = C-1                    # last position of current cycle\n",
    "        b_normalized = cols_per_cycle * (c-1) # init of previous cycle\n",
    "    else:\n",
    "        x_normalized = r-1                    # position in the current cycle\n",
    "        b_normalized = cols_per_cycle * c     # init of current cycle\n",
    "    \n",
    "    return [x_normalized, b_normalized]\n"
   ]
  },
  {
   "cell_type": "code",
   "execution_count": 24,
   "metadata": {},
   "outputs": [
    {
     "data": {
      "text/plain": [
       "[[0, 3], [1, 3], [2, 3], [3, 3], [4, 3], [5, 3]]"
      ]
     },
     "execution_count": 24,
     "metadata": {},
     "output_type": "execute_result"
    }
   ],
   "source": [
    "'''\n",
    "Test Cases\n",
    "• S = 4\n",
    "• C = 2S - 2 = 6\n",
    "• CS = 1 + (S-2) = 3\n",
    "\n",
    "x    |   c, r    |   x_n, b\n",
    "-----|-----------|-----------\n",
    "7    |   1, 1    |   (0, 3)\n",
    "8    |   1, 2    |   (1, 3)\n",
    "9    |   1, 3    |   (2, 3)\n",
    "10   |   1, 4    |   (3, 3)\n",
    "11   |   1, 5    |   (4, 3)\n",
    "12   |   2, 0    |   (5, 3)\n",
    "'''\n",
    "\n",
    "S = 4\n",
    "\n",
    "coordinates = []\n",
    "\n",
    "for i in range(7, 13):\n",
    "    coordinates.append(zig_zag_2d_positioner_normalization(S, i))\n",
    "\n",
    "coordinates"
   ]
  },
  {
   "cell_type": "code",
   "execution_count": null,
   "metadata": {},
   "outputs": [],
   "source": [
    "def zig_zag_2d_positioner_normalization(S: int, x: int) -> list:\n",
    "    \"\"\"\n",
    "    Normalize the position and cycle starting column based on a given index in a zigzag pattern.\n",
    "    \n",
    "    Parameters:\n",
    "    - S (int): Dimension of the square grid (number of rows/columns).\n",
    "    - x (int): Zero-indexed position in the sequence.\n",
    "\n",
    "    Returns:\n",
    "    - list: A list containing the normalized position in the cycle [x_n] and the starting column [b] of that cycle.\n",
    "    \n",
    "    This function uses modular arithmetic to calculate the position within the cycle and the cycle's starting column.\n",
    "    The cycle's length and the number of columns it spans are derived from the grid dimension (S).\n",
    "    \"\"\"\n",
    "    C = 2 * S - 2  # Total number of positions in a full cycle\n",
    "    cols_per_cycle = max(1, S - 1)  # Calculate columns per cycle, ensure non-zero\n",
    "    c = x // C  # Number of complete cycles\n",
    "    r = x % C  # Position within the current cycle\n",
    "\n",
    "    if r == 0:\n",
    "        x_normalized = C - 1  # Position at the end of a cycle\n",
    "        b_normalized = cols_per_cycle * (c - 1)  # Start column for the cycle\n",
    "    else:\n",
    "        x_normalized = r - 1  # Zero-indexed position in the cycle\n",
    "        b_normalized = cols_per_cycle * c  # Start column for the current cycle\n",
    "\n",
    "    return [x_normalized, b_normalized]\n",
    "\n",
    "# Test the normalization function\n",
    "S = 4\n",
    "test_range = range(7, 13)  # Define a range of test positions\n",
    "coordinates = [zig_zag_2d_positioner_normalization(S, i) for i in test_range]\n",
    "print(coordinates)  # Expected output: [[0, 3], [1, 3], [2, 3], [3, 3], [4, 3], [5, 3]]"
   ]
  },
  {
   "cell_type": "code",
   "execution_count": 26,
   "metadata": {},
   "outputs": [
    {
     "name": "stderr",
     "output_type": "stream",
     "text": [
      "<>:2: SyntaxWarning: invalid escape sequence '\\_'\n",
      "<>:2: SyntaxWarning: invalid escape sequence '\\_'\n",
      "C:\\Users\\Lucas Masiero\\AppData\\Local\\Temp\\ipykernel_19520\\2171179165.py:2: SyntaxWarning: invalid escape sequence '\\_'\n",
      "  \"\"\"\n"
     ]
    }
   ],
   "source": [
    "class ZigZagPositioner:\n",
    "    \"\"\"\n",
    "    ZigZagPositioner class to handle 2D position calculations in a zigzag pattern.\n",
    "    • S: represents the space in rows x cols             -> S = S x S\n",
    "    • C: represents the defined cycle based on the space -> C = 2S - 2\n",
    "    • CS: represents the number of cols a cycle occupies -> CS = 1 + (S-2) (in this case represented as cols, but not position)\n",
    "          might be useful to translate the concept into a positional term\n",
    "    • downward_boundary (int): Boundary where the downward movement ends, S - 1.\n",
    "\n",
    "    -------------------------\n",
    "    Stateless Cycle\n",
    "    • b: initial column offset for the start of the cycle          \n",
    "    • x: current position along the rows\n",
    "\n",
    "    > Boundaries\n",
    "    • range: [0, C-1]\n",
    "    • downward_boundary: represents the boundary where the downward movement ends       = S - 1\n",
    "    • diagonal_boundary: represents the boundary where the diagonal movement starts     = > S\n",
    "\n",
    "    -------------------------\n",
    "    Sequential Cycle Repetition: \n",
    "    the cycle is repeated adjacent to the previous cycle, we can have a continous 'x' position, but we need to normalize it to a cycle\n",
    "\n",
    "    > Normalization\n",
    "    • c: represents the number of completed cycles\n",
    "    • r: represents the number of remaining elements in the cycle\n",
    "\n",
    "    - normalized position\n",
    "    • x_n: normalized position\n",
    "    • b: initial column offset for the start of the cycle\n",
    "\n",
    "        2 edge main cases to define the normalized position (x and b):\n",
    "        \\_ Completed Cycle:      begins from the last completed cycle\n",
    "        \\_ Uncompleted Cycle:    begins from the start of the current uncompleted cycle\n",
    "    \"\"\"\n",
    "\n",
    "    def __init__(self, S:int):\n",
    "        \"\"\"\n",
    "        Initialize the ZigZagPositioner with the specified grid size.\n",
    "        \n",
    "        Parameters:\n",
    "            S (int): The size of the grid (number of rows and columns).\n",
    "        \"\"\"\n",
    "        # validation\n",
    "        if S < 2:\n",
    "            raise ValueError('The space dimension must be at least 2')\n",
    "        \n",
    "        # Space\n",
    "        self.S = S\n",
    "        # Cycle\n",
    "        self.C = 2*S - 2\n",
    "        self.CS = 1 + (S-2)\n",
    "        self.downward_boundary = S - 1\n",
    "    \n",
    "    def _sequence_normalizer(self, x:int) -> list:\n",
    "        \"\"\"\n",
    "        Normalize the position and calculate the starting column for a given index in the zigzag cycle.\n",
    "\n",
    "        Parameters:\n",
    "            x (int): The index to normalize.\n",
    "\n",
    "        Returns:\n",
    "            list: A list containing the normalized position and the initial column offset [x_n, b].\n",
    "        \"\"\"\n",
    "        # parameters\n",
    "        c = x // self.C\n",
    "        r = x % self.C\n",
    "\n",
    "        # boundaries cases\n",
    "        if r == 0:\n",
    "            x_normalized = self.C - 1\n",
    "            b_normalized = self.CS * (c - 1)\n",
    "        else:\n",
    "            x_normalized = r - 1\n",
    "            b_normalized = self.CS * c\n",
    "        \n",
    "        return [x_normalized, b_normalized]\n",
    "\n",
    "    def _stateless_positioner(self, x:int, b:int) -> list:\n",
    "        \"\"\"\n",
    "        Calculate the 2D position for an element in the zigzag pattern based on the normalized index.\n",
    "\n",
    "        Parameters:\n",
    "            x (int): The normalized position index.\n",
    "            b (int): The starting column based on the normalized cycle.\n",
    "\n",
    "        Returns:\n",
    "            list: A list containing the row and column indices [row_index, col_index].\n",
    "\n",
    "        Raises:\n",
    "            ValueError: If x is outside the allowed cycle range.\n",
    "        \"\"\"\n",
    "        # check cycle range\n",
    "        if x < 0 or x >= self.C:\n",
    "            raise ValueError(f'x is out of the allowed cycle range, which is from 0 to {self.C-1}')\n",
    "        \n",
    "        # check boundaries\n",
    "        if x <= self.downward_boundary:\n",
    "            return [x, b]\n",
    "\n",
    "        x_normalized = x - self.downward_boundary\n",
    "        x_inverted = (self.S - 1) - x_normalized\n",
    "        return [x_inverted, b + x_normalized]\n",
    "\n",
    "    def positioner(self, x:int) -> list:\n",
    "        \"\"\"\n",
    "        It coordinates the normalization from _sequence_normalizer, with the stateless positioner from _stateless_positioner\n",
    "        \"\"\"\n",
    "        x_normalized, b_normalized = self._sequence_normalizer(x)\n",
    "        return self._stateless_positioner(x_normalized, b_normalized)"
   ]
  },
  {
   "cell_type": "code",
   "execution_count": 29,
   "metadata": {},
   "outputs": [
    {
     "data": {
      "text/plain": [
       "[[0, 0],\n",
       " [1, 0],\n",
       " [2, 0],\n",
       " [3, 0],\n",
       " [2, 1],\n",
       " [1, 2],\n",
       " [0, 3],\n",
       " [1, 3],\n",
       " [2, 3],\n",
       " [3, 3],\n",
       " [2, 4],\n",
       " [1, 5]]"
      ]
     },
     "execution_count": 29,
     "metadata": {},
     "output_type": "execute_result"
    }
   ],
   "source": [
    "'''\n",
    "Test the ZigZagPositioner class\n",
    "\n",
    "Table Cases\n",
    "• S = 4\n",
    "\n",
    "x (n° element, not position)  |   r, c\n",
    "------------------------------|----------\n",
    "1                             |   (0, 0)\n",
    "2                             |   (1, 0)\n",
    "3                             |   (2, 0)\n",
    "4                             |   (3, 0)\n",
    "5                             |   (2, 1)\n",
    "6                             |   (1, 2)\n",
    "7                             |   (0, 3)\n",
    "8                             |   (1, 3)\n",
    "9                             |   (2, 3)\n",
    "10                            |   (3, 3)\n",
    "11                            |   (2, 4)\n",
    "12                            |   (1, 5)\n",
    "\n",
    "x element is normalized also into positional terms for the stateless positioner that works with positions rather than n° of the element\n",
    "'''\n",
    "zig_zag_positioner = ZigZagPositioner(4)\n",
    "coordinates = []\n",
    "\n",
    "for i in range(1, 13):\n",
    "    coordinates.append(zig_zag_positioner.positioner(i))\n",
    "\n",
    "coordinates"
   ]
  },
  {
   "cell_type": "code",
   "execution_count": 30,
   "metadata": {},
   "outputs": [
    {
     "data": {
      "text/plain": [
       "array([[0, 0, 0, 0, 0, 0, 0, 0],\n",
       "       [0, 0, 0, 0, 0, 0, 0, 0],\n",
       "       [0, 0, 0, 0, 0, 0, 0, 0],\n",
       "       [0, 0, 0, 0, 0, 0, 0, 0]])"
      ]
     },
     "execution_count": 30,
     "metadata": {},
     "output_type": "execute_result"
    }
   ],
   "source": [
    "import numpy as np\n",
    "\n",
    "array = np.zeros((S, S*2), dtype=int)\n",
    "array"
   ]
  },
  {
   "cell_type": "code",
   "execution_count": 31,
   "metadata": {},
   "outputs": [
    {
     "data": {
      "text/plain": [
       "array([[1, 0, 0, 1, 0, 0, 0, 0],\n",
       "       [1, 0, 1, 1, 0, 1, 0, 0],\n",
       "       [1, 1, 0, 1, 1, 0, 0, 0],\n",
       "       [1, 0, 0, 1, 0, 0, 0, 0]])"
      ]
     },
     "execution_count": 31,
     "metadata": {},
     "output_type": "execute_result"
    }
   ],
   "source": [
    "array_coordinates = np.array(coordinates)\n",
    "array[array_coordinates[:, 0], array_coordinates[:, 1]] = 1\n",
    "array"
   ]
  }
 ],
 "metadata": {
  "kernelspec": {
   "display_name": "Python 3",
   "language": "python",
   "name": "python3"
  },
  "language_info": {
   "codemirror_mode": {
    "name": "ipython",
    "version": 3
   },
   "file_extension": ".py",
   "mimetype": "text/x-python",
   "name": "python",
   "nbconvert_exporter": "python",
   "pygments_lexer": "ipython3",
   "version": "3.12.2"
  }
 },
 "nbformat": 4,
 "nbformat_minor": 2
}
