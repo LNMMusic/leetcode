{
 "cells": [
  {
   "cell_type": "code",
   "execution_count": 9,
   "metadata": {},
   "outputs": [],
   "source": [
    "def inward_rule(space:int) -> list:\n",
    "    # base case\n",
    "    if space == 1:\n",
    "        return [[0,1]]\n",
    "\n",
    "    # default process\n",
    "    result = []\n",
    "    for c in inward_rule(space-1):\n",
    "        result.append([0]+c+[1])\n",
    "        result.append(c+[0]+[1])\n",
    "        result.append([0]+[1]+c)  # last one generates a repeated node\n",
    "    # remove the repeated converged node\n",
    "    result = result[:-1]\n",
    "    \n",
    "    return result"
   ]
  },
  {
   "cell_type": "code",
   "execution_count": 11,
   "metadata": {},
   "outputs": [
    {
     "data": {
      "text/plain": [
       "[[0, 0, 0, 0, 1, 1, 1, 1],\n",
       " [0, 0, 0, 1, 1, 1, 0, 1],\n",
       " [0, 1, 0, 0, 0, 1, 1, 1],\n",
       " [0, 0, 0, 1, 1, 0, 1, 1],\n",
       " [0, 0, 1, 1, 0, 1, 0, 1],\n",
       " [0, 1, 0, 0, 1, 1, 0, 1],\n",
       " [0, 0, 1, 0, 0, 1, 1, 1],\n",
       " [0, 1, 0, 0, 1, 1, 0, 1],\n",
       " [0, 1, 0, 1, 0, 0, 1, 1],\n",
       " [0, 0, 0, 1, 0, 1, 1, 1],\n",
       " [0, 0, 1, 0, 1, 1, 0, 1],\n",
       " [0, 1, 0, 0, 1, 0, 1, 1],\n",
       " [0, 0, 1, 0, 1, 0, 1, 1],\n",
       " [0, 1, 0, 1, 0, 1, 0, 1]]"
      ]
     },
     "execution_count": 11,
     "metadata": {},
     "output_type": "execute_result"
    }
   ],
   "source": [
    "inward_rule(4)"
   ]
  },
  {
   "cell_type": "code",
   "execution_count": 5,
   "metadata": {},
   "outputs": [],
   "source": [
    "def parenthesis(space:int) -> list:\n",
    "    # base case\n",
    "    if space == 1:\n",
    "        return [['(',')']]\n",
    "\n",
    "    # default process\n",
    "    result = []\n",
    "    for c in parenthesis(space-1):\n",
    "        result.append(['('] + c +[')'])\n",
    "        result.append(c + ['('] + [')'])\n",
    "        result.append(['('] + [')'] + c)  # last one generates a repeated node\n",
    "    # remove the repeated converged node\n",
    "    result = result[:-1]\n",
    "    \n",
    "    return result"
   ]
  },
  {
   "cell_type": "code",
   "execution_count": 19,
   "metadata": {},
   "outputs": [],
   "source": [
    "def parenthesis_2(space:int) -> list:\n",
    "    # base case\n",
    "    if space == 1:\n",
    "        return ['()']\n",
    "\n",
    "    # default process\n",
    "    result = set()\n",
    "    for c in parenthesis_2(space-1):\n",
    "        patterns = ['(' + c + ')', '()' + c, c + '()']\n",
    "        for p in patterns:\n",
    "            result.add(p)\n",
    "    \n",
    "    return sorted(list(result))"
   ]
  },
  {
   "cell_type": "code",
   "execution_count": 24,
   "metadata": {},
   "outputs": [
    {
     "data": {
      "text/plain": [
       "{'(((())))': 1,\n",
       " '((()()))': 1,\n",
       " '((())())': 1,\n",
       " '((()))()': 1,\n",
       " '(()(()))': 1,\n",
       " '(()()())': 1,\n",
       " '(()())()': 1,\n",
       " '(())()()': 1,\n",
       " '()((()))': 1,\n",
       " '()(()())': 1,\n",
       " '()(())()': 1,\n",
       " '()()(())': 1,\n",
       " '()()()()': 1}"
      ]
     },
     "execution_count": 24,
     "metadata": {},
     "output_type": "execute_result"
    }
   ],
   "source": [
    "counter = {}\n",
    "for p in parenthesis_2(4):\n",
    "    if p in counter:\n",
    "        counter[p] += 1\n",
    "    else:\n",
    "        counter[p] = 1\n",
    "\n",
    "counter"
   ]
  },
  {
   "cell_type": "code",
   "execution_count": 30,
   "metadata": {},
   "outputs": [],
   "source": [
    "def recursive(n:int, left:int, right:int, current:str):\n",
    "    # base case\n",
    "    if len(current) == n * 2:\n",
    "        print(current)\n",
    "        return\n",
    "    \n",
    "    # default case\n",
    "    if left < n:\n",
    "        recursive(n, left+1, right, current + '(')\n",
    "    \n",
    "    if right < left:\n",
    "        recursive(n, left, right+1, current + ')')"
   ]
  },
  {
   "cell_type": "code",
   "execution_count": null,
   "metadata": {},
   "outputs": [],
   "source": [
    "def recursive_list(n:int, left:int, right:int, current:str) -> list:\n",
    "    # base case\n",
    "    if len(current) == n * 2:\n",
    "        print(current)\n",
    "        return\n",
    "    \n",
    "    # default case\n",
    "    if left < n:\n",
    "        recursive(n, left+1, right, current + '(')\n",
    "    \n",
    "    if right < left:\n",
    "        recursive(n, left, right+1, current + ')')"
   ]
  },
  {
   "cell_type": "code",
   "execution_count": 68,
   "metadata": {},
   "outputs": [],
   "source": [
    "def parenthesis_3(n:int) -> list:\n",
    "    def recursive(n: int, left: int, right: int, current: str, results: list):\n",
    "        # Base case\n",
    "        if len(current) == n * 2:\n",
    "            results.append(current)\n",
    "            return\n",
    "        \n",
    "        # Recursive case to add an opening parenthesis '('\n",
    "        if left < n:\n",
    "            recursive(n, left+1, right, current + '(', results)\n",
    "        \n",
    "        # Recursive case to add a closing parenthesis ')'\n",
    "        if right < left:\n",
    "            recursive(n, left, right+1, current + ')', results)\n",
    "    \n",
    "    results = []\n",
    "    recursive(n, 0, 0, '', results)\n",
    "    return results"
   ]
  },
  {
   "cell_type": "code",
   "execution_count": 70,
   "metadata": {},
   "outputs": [
    {
     "data": {
      "text/plain": [
       "['((()))', '(()())', '(())()', '()(())', '()()()']"
      ]
     },
     "execution_count": 70,
     "metadata": {},
     "output_type": "execute_result"
    }
   ],
   "source": [
    "class Solution(object):\n",
    "    def recursive(self, n, left, right, current, results):\n",
    "        # Base case\n",
    "        if len(current) == n * 2:\n",
    "            results.append(current)\n",
    "            return\n",
    "        \n",
    "        # Recursive case to add an opening parenthesis '('\n",
    "        if left < n:\n",
    "            self.recursive(n, left+1, right, current + '(', results)\n",
    "        # Recursive case to add a closing parenthesis ')'\n",
    "        if right < left:\n",
    "            self.recursive(n, left, right+1, current + ')', results)\n",
    "    def generateParenthesis(self, n):\n",
    "        \"\"\"\n",
    "        :type n: int\n",
    "        :rtype: List[str]\n",
    "        \"\"\"\n",
    "        results = []\n",
    "        self.recursive(n, 0, 0, '', results)\n",
    "        return results"
   ]
  }
 ],
 "metadata": {
  "kernelspec": {
   "display_name": "Python 3",
   "language": "python",
   "name": "python3"
  },
  "language_info": {
   "codemirror_mode": {
    "name": "ipython",
    "version": 3
   },
   "file_extension": ".py",
   "mimetype": "text/x-python",
   "name": "python",
   "nbconvert_exporter": "python",
   "pygments_lexer": "ipython3",
   "version": "3.12.2"
  }
 },
 "nbformat": 4,
 "nbformat_minor": 2
}
