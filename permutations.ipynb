{
 "cells": [
  {
   "cell_type": "markdown",
   "metadata": {},
   "source": [
    "## Permutations\n",
    "**Permutations** refer to all possible ways in which a set of elements can be arranged, where the order of arrangement is important. It is a key concept in combinatorics, useful in many fields such as mathematics, statistics, and computer science.\n",
    "\n",
    "### Main Structure\n",
    "\n",
    "1. **Set of Elements (s)**: This is the initial group of unique elements from which permutations will be generated. Example: {A, B, C, D}.\n",
    "\n",
    "2. **Arrangmente Space (k)**: Represents the number of positions available for arranging the elements. This determines how many elements are included in each permutation. Example: If k = 3, permutations are to be formed using three positions.\n",
    "\n",
    "3. **Token Selection and Repetition (r)**: Defines how elements are selected from the set to fill the k positions and whether elements can be repeated in each permutation.\n",
    "\n",
    "### Formulas for Calculating Permutations\n",
    "\n",
    "#### Permutations Without Repetitions\n",
    "When choosing k elements from a set of n elements without repetition, the formula is:\n",
    "\n",
    "$P(n, k) = \\frac{n!}{(n-k)!}$\n",
    "\n",
    "- **$ n $**: Total number of unique elements in the set.\n",
    "- **$ k $**: Number of positions to fill.\n",
    "- This formula calculates the number of unique ways to arrange k elements chosen from a set of n elements.\n",
    "\n",
    "#### Permutations With Repetitions\n",
    "When repetitions are allowed, meaning each of the n types of elements can be used multiple times to fill k positions, the formula is:\n",
    "$n^k$\n",
    "- **$ n $**: Total number of types of elements.\n",
    "- **$ k $**: Number of positions to fill.\n",
    "- This formula calculates the number of ways to fill k positions where each position can hold any of the n elements, and the same element can be repeated in different positions.\n",
    "\n",
    "### Example Illustration\n",
    "- **Without Repetitions**: If you have 4 distinct elements (A, B, C, D) and want to arrange 3 of them, the number of permutations is $ P(4, 3) = 24 $\n",
    "- **With Repetitions**: If you have 3 types of elements (A, B, C) and want to fill 2 positions, each capable of holding any element including repeats, the number of permutations is $ 3^2 = 9 $.\n",
    "\n",
    "This comprehensive summary integrates both the conceptual framework and mathematical formulas for understanding and calculating permutations under various conditions."
   ]
  },
  {
   "cell_type": "markdown",
   "metadata": {},
   "source": [
    "**SINGULAR CIRCULAR SHIFTING**\n",
    "\n",
    "Original Position\n",
    "\n",
    "(0) - (1) - (2) - (3)\n",
    "\n",
    "First Round\n",
    "\n",
    "(0) - (1) - (2) - (3)\n",
    "\n",
    "(1) - (0) - (2) - (3)\n",
    "\n",
    "(1) - (2) - (0) - (3)\n",
    "\n",
    "(1) - (2) - (3) - (0)\n",
    "\n",
    "Flip Time: the 1 now will lay right before the 0 until all numbers are back stack into the original order\n",
    "(0) - (2) - (3) - |(1)|       1 is back in the stack, needs to wait for 2 and 3 to stuck\n",
    "\n",
    "Second Round\n",
    "\n",
    "(0) - (2) - (3) - (1)\n",
    "\n",
    "(2) - (0) - (3) - (1)\n",
    "\n",
    "(2) - (3) - (0) - (1)\n",
    "\n",
    "(2) - (3) - (1) - (0)\n",
    "\n",
    "Flip Time: in this case, 2 will lay right back 0 but after 1\n",
    "(0) - (3) - |(1) - (2)|\n",
    "\n",
    "Third Round\n",
    "\n",
    "(0) - (3) - (1) - (2)\n",
    "\n",
    "(3) - (0) - (1) - (2)\n",
    "\n",
    "(3) - (1) - (0) - (2)\n",
    "\n",
    "(3) - (1) - (2) - (0)\n",
    "\n",
    "Last Flip\n",
    "\n",
    "(0) - (1) - (2) - (3)"
   ]
  },
  {
   "cell_type": "code",
   "execution_count": 10,
   "metadata": {},
   "outputs": [],
   "source": [
    "import math\n",
    "\n",
    "def singular_circle_shifting(tokens:list):\n",
    "    n = len(tokens)\n",
    "    all_perms = math.factorial(n) \n",
    "\n",
    "    # current_shift\n",
    "    current_shift = -1\n",
    "    counter = 0\n",
    "    while counter < all_perms:\n",
    "        # show the current permutation\n",
    "        counter += 1\n",
    "        print(tokens)\n",
    "\n",
    "        # current shift\n",
    "        current_shift += 1\n",
    "        if current_shift >= n:\n",
    "            current_shift = current_shift % n\n",
    "\n",
    "        # target shift\n",
    "        target_shift = current_shift + 1\n",
    "        if target_shift >= n:\n",
    "            target_shift = target_shift % n\n",
    "        \n",
    "        # shift the tokens\n",
    "        temp = tokens[target_shift]\n",
    "        tokens[target_shift] = tokens[current_shift]\n",
    "        tokens[current_shift] = temp"
   ]
  },
  {
   "cell_type": "code",
   "execution_count": 11,
   "metadata": {},
   "outputs": [
    {
     "name": "stdout",
     "output_type": "stream",
     "text": [
      "['A', 'B', 'C']\n",
      "['B', 'A', 'C']\n",
      "['B', 'C', 'A']\n",
      "['A', 'C', 'B']\n",
      "['C', 'A', 'B']\n",
      "['C', 'B', 'A']\n"
     ]
    }
   ],
   "source": [
    "singular_circle_shifting(['A','B','C'])"
   ]
  },
  {
   "cell_type": "markdown",
   "metadata": {},
   "source": [
    "---"
   ]
  },
  {
   "cell_type": "code",
   "execution_count": 19,
   "metadata": {},
   "outputs": [],
   "source": [
    "def between_shifter(tokens:list) -> list:\n",
    "    shifts = []\n",
    "\n",
    "    # base case\n",
    "    shifts.append(tokens.copy())\n",
    "\n",
    "    # current_shift\n",
    "    current_shift = -1\n",
    "    n = len(tokens)\n",
    "    counter = 0\n",
    "    while counter < n-1:\n",
    "        # shift\n",
    "        current_shift += 1\n",
    "        target_shift = current_shift + 1\n",
    "        \n",
    "        temp = tokens[target_shift]\n",
    "        tokens[target_shift] = tokens[current_shift]\n",
    "        tokens[current_shift] = temp\n",
    "\n",
    "        # add the new shift\n",
    "        shifts.append(tokens.copy())\n",
    "\n",
    "        # counter\n",
    "        counter += 1\n",
    "\n",
    "    return shifts\n"
   ]
  },
  {
   "cell_type": "code",
   "execution_count": 20,
   "metadata": {},
   "outputs": [
    {
     "data": {
      "text/plain": [
       "[['A', 'B', 'C'], ['B', 'A', 'C'], ['B', 'C', 'A']]"
      ]
     },
     "execution_count": 20,
     "metadata": {},
     "output_type": "execute_result"
    }
   ],
   "source": [
    "between_shifter(['A','B','C'])"
   ]
  },
  {
   "cell_type": "code",
   "execution_count": 22,
   "metadata": {},
   "outputs": [],
   "source": [
    "def between_shifter_range(tokens: list) -> list:\n",
    "    \"\"\"Perform adjacent swaps from the start to the end of the list but not wrapping around.\n",
    "    \n",
    "    Args:\n",
    "        tokens (list): The list of elements to be shifted.\n",
    "        \n",
    "    Returns:\n",
    "        list: A list of lists showing each state of the tokens after each swap.\n",
    "    \"\"\"\n",
    "    shifts = []\n",
    "\n",
    "    # Include the original list as the base case\n",
    "    shifts.append(tokens.copy())\n",
    "\n",
    "    # Iterate through the list, swapping each element with the next\n",
    "    for i in range(len(tokens) - 1):\n",
    "        # Swap element at index i with element at index i+1\n",
    "        tokens[i+1], tokens[i] = tokens[i], tokens[i+1]\n",
    "\n",
    "        # Append the current state of tokens to the shifts list\n",
    "        shifts.append(tokens.copy())\n",
    "    \n",
    "    return shifts\n"
   ]
  },
  {
   "cell_type": "code",
   "execution_count": 25,
   "metadata": {},
   "outputs": [
    {
     "data": {
      "text/plain": [
       "[['A', 'B', 'C', 'D', 'E', 'F', 'G'],\n",
       " ['B', 'A', 'C', 'D', 'E', 'F', 'G'],\n",
       " ['B', 'C', 'A', 'D', 'E', 'F', 'G'],\n",
       " ['B', 'C', 'D', 'A', 'E', 'F', 'G'],\n",
       " ['B', 'C', 'D', 'E', 'A', 'F', 'G'],\n",
       " ['B', 'C', 'D', 'E', 'F', 'A', 'G'],\n",
       " ['B', 'C', 'D', 'E', 'F', 'G', 'A']]"
      ]
     },
     "execution_count": 25,
     "metadata": {},
     "output_type": "execute_result"
    }
   ],
   "source": [
    "between_shifter_range(['A','B','C','D','E','F','G'])"
   ]
  },
  {
   "cell_type": "code",
   "execution_count": 26,
   "metadata": {},
   "outputs": [],
   "source": [
    "def between_shifter_from(tokens:list, start:int) -> list:\n",
    "    shifts = []\n",
    "\n",
    "    # base case\n",
    "    shifts.append(tokens.copy())\n",
    "\n",
    "    # current_shift\n",
    "    for i in range(start, len(tokens)-1):\n",
    "        temp = tokens[i+1]\n",
    "        tokens[i+1] = tokens[i]\n",
    "        tokens[i] = temp\n",
    "\n",
    "        shifts.append(tokens.copy())\n",
    "\n",
    "    return shifts"
   ]
  },
  {
   "cell_type": "code",
   "execution_count": 29,
   "metadata": {},
   "outputs": [
    {
     "data": {
      "text/plain": [
       "[['A', 'B', 'C', 'D', 'E', 'F', 'G'],\n",
       " ['B', 'A', 'C', 'D', 'E', 'F', 'G'],\n",
       " ['B', 'C', 'A', 'D', 'E', 'F', 'G'],\n",
       " ['B', 'C', 'D', 'A', 'E', 'F', 'G'],\n",
       " ['B', 'C', 'D', 'E', 'A', 'F', 'G'],\n",
       " ['B', 'C', 'D', 'E', 'F', 'A', 'G'],\n",
       " ['B', 'C', 'D', 'E', 'F', 'G', 'A']]"
      ]
     },
     "execution_count": 29,
     "metadata": {},
     "output_type": "execute_result"
    }
   ],
   "source": [
    "between_shifter_from(['A','B','C','D','E','F','G'], 0)"
   ]
  },
  {
   "cell_type": "code",
   "execution_count": 41,
   "metadata": {},
   "outputs": [
    {
     "name": "stdout",
     "output_type": "stream",
     "text": [
      "original position: ['A', 'B', 'C', 'D', 'E', 'F', 'G']\n",
      "\n",
      "[['B', 'A', 'C', 'D', 'E', 'F', 'G'], ['B', 'C', 'A', 'D', 'E', 'F', 'G'], ['B', 'C', 'D', 'A', 'E', 'F', 'G'], ['B', 'C', 'D', 'E', 'A', 'F', 'G'], ['B', 'C', 'D', 'E', 'F', 'A', 'G'], ['B', 'C', 'D', 'E', 'F', 'G', 'A']]\n",
      "---\n",
      "[['A', 'C', 'B', 'D', 'E', 'F', 'G'], ['A', 'C', 'D', 'B', 'E', 'F', 'G'], ['A', 'C', 'D', 'E', 'B', 'F', 'G'], ['A', 'C', 'D', 'E', 'F', 'B', 'G'], ['A', 'C', 'D', 'E', 'F', 'G', 'B']]\n",
      "---\n",
      "[['A', 'B', 'D', 'C', 'E', 'F', 'G'], ['A', 'B', 'D', 'E', 'C', 'F', 'G'], ['A', 'B', 'D', 'E', 'F', 'C', 'G'], ['A', 'B', 'D', 'E', 'F', 'G', 'C']]\n",
      "---\n",
      "[['A', 'B', 'C', 'E', 'D', 'F', 'G'], ['A', 'B', 'C', 'E', 'F', 'D', 'G'], ['A', 'B', 'C', 'E', 'F', 'G', 'D']]\n",
      "---\n",
      "[['A', 'B', 'C', 'D', 'F', 'E', 'G'], ['A', 'B', 'C', 'D', 'F', 'G', 'E']]\n",
      "---\n",
      "[['A', 'B', 'C', 'D', 'E', 'G', 'F']]\n",
      "---\n",
      "[]\n",
      "---\n",
      "counter: 22\n"
     ]
    }
   ],
   "source": [
    "'''\n",
    "In this scenario we get all the possible swaps from start to end for each token, but we do not put them at the init\n",
    "'''\n",
    "\n",
    "\n",
    "tokens = ['A','B','C','D','E','F','G']\n",
    "counter = 1\n",
    "print(f'original position: {tokens}\\n')\n",
    "\n",
    "for i in range(len(tokens)):\n",
    "    shifts = between_shifter_from(tokens.copy(), i)[1:]\n",
    "    counter = counter + len(shifts)\n",
    "\n",
    "    print(shifts)\n",
    "    print('---')\n",
    "\n",
    "print(f'counter: {counter}')"
   ]
  },
  {
   "cell_type": "markdown",
   "metadata": {},
   "source": [
    "---"
   ]
  },
  {
   "cell_type": "markdown",
   "metadata": {},
   "source": [
    "**EXPANSION**"
   ]
  },
  {
   "cell_type": "code",
   "execution_count": 27,
   "metadata": {},
   "outputs": [],
   "source": [
    "import numpy as np\n",
    "\n",
    "# def expand_matrix_2d_with_token(matrix:np.array, token:object) -> np.array:\n",
    "#     # number tokens\n",
    "#     tokens = matrix.shape[-1]+1\n",
    "\n",
    "#     # expanded matrix\n",
    "#     rows, cols = math.factorial(tokens), tokens\n",
    "\n",
    "#     # create the new matrix\n",
    "#     new_matrix = np.zeros((rows, cols), dtype=object)\n",
    "\n",
    "#     # chunk processing\n",
    "#     chunk = 0 # up to n° cols\n",
    "#     factor = rows//cols # n° rows to fill by chunk\n",
    "#     while chunk < cols:\n",
    "#         # expand the matrix\n",
    "#         extension = np.full(factor, token, dtype=object)\n",
    "#         new_chunk = np.insert(matrix, chunk, extension, axis=1)\n",
    "\n",
    "#         # update the chunk\n",
    "#         new_matrix[chunk*factor:(chunk+1)*factor] = new_chunk\n",
    "#         chunk += 1\n",
    "\n",
    "#     return new_matrix\n",
    "\n",
    "def expand_matrix_2d_with_token(matrix:np.array, token:object) -> np.array:\n",
    "    \"\"\"\n",
    "    Expands a given 2D permutation matrix by interleaving a new token into every possible position in each permutation.\n",
    "\n",
    "    Args:\n",
    "        matrix (np.array): The original matrix of permutations.\n",
    "        token (object): The new token to be added to each permutation.\n",
    "\n",
    "    Returns:\n",
    "        np.array: A new matrix containing all expanded permutations.\n",
    "    \"\"\"\n",
    "    \n",
    "    # number tokens\n",
    "    tokens = matrix.shape[-1]+1\n",
    "\n",
    "    # expanded matrix\n",
    "    rows, cols = math.factorial(tokens), tokens\n",
    "    new_matrix = np.zeros((rows, cols), dtype=object)\n",
    "\n",
    "    # chunk processing\n",
    "    # - where each chunk represents the full rows divided by the number of tokens / cols\n",
    "    # - the factor is the number of rows to fill by chunk\n",
    "    factor = rows//cols\n",
    "    for chunk in range(cols):\n",
    "        # expand the matrix\n",
    "        fill = np.full(factor, token, dtype=object)\n",
    "        result = np.insert(matrix, chunk, fill, axis=1)\n",
    "\n",
    "        # update the chunk\n",
    "        new_matrix[chunk*factor:(chunk+1)*factor, :cols] = result\n",
    "\n",
    "    return new_matrix\n",
    "    "
   ]
  },
  {
   "cell_type": "code",
   "execution_count": 29,
   "metadata": {},
   "outputs": [
    {
     "data": {
      "text/plain": [
       "array([['C', 'A', 'B'],\n",
       "       ['C', 'B', 'A'],\n",
       "       ['A', 'C', 'B'],\n",
       "       ['B', 'C', 'A'],\n",
       "       ['A', 'B', 'C'],\n",
       "       ['B', 'A', 'C']], dtype=object)"
      ]
     },
     "execution_count": 29,
     "metadata": {},
     "output_type": "execute_result"
    }
   ],
   "source": [
    "# Test with 2d matrix\n",
    "matrix_2t = np.array([\n",
    "    ['A','B'],\n",
    "    ['B','A']\n",
    "])\n",
    "matrix_3t = expand_matrix_2d_with_token(matrix_2t, 'C')\n",
    "matrix_3t"
   ]
  },
  {
   "cell_type": "code",
   "execution_count": 30,
   "metadata": {},
   "outputs": [
    {
     "data": {
      "text/plain": [
       "array([['D', 'C', 'A', 'B'],\n",
       "       ['D', 'C', 'B', 'A'],\n",
       "       ['D', 'A', 'C', 'B'],\n",
       "       ['D', 'B', 'C', 'A'],\n",
       "       ['D', 'A', 'B', 'C'],\n",
       "       ['D', 'B', 'A', 'C'],\n",
       "       ['C', 'D', 'A', 'B'],\n",
       "       ['C', 'D', 'B', 'A'],\n",
       "       ['A', 'D', 'C', 'B'],\n",
       "       ['B', 'D', 'C', 'A'],\n",
       "       ['A', 'D', 'B', 'C'],\n",
       "       ['B', 'D', 'A', 'C'],\n",
       "       ['C', 'A', 'D', 'B'],\n",
       "       ['C', 'B', 'D', 'A'],\n",
       "       ['A', 'C', 'D', 'B'],\n",
       "       ['B', 'C', 'D', 'A'],\n",
       "       ['A', 'B', 'D', 'C'],\n",
       "       ['B', 'A', 'D', 'C'],\n",
       "       ['C', 'A', 'B', 'D'],\n",
       "       ['C', 'B', 'A', 'D'],\n",
       "       ['A', 'C', 'B', 'D'],\n",
       "       ['B', 'C', 'A', 'D'],\n",
       "       ['A', 'B', 'C', 'D'],\n",
       "       ['B', 'A', 'C', 'D']], dtype=object)"
      ]
     },
     "execution_count": 30,
     "metadata": {},
     "output_type": "execute_result"
    }
   ],
   "source": [
    "# Test with 3d matrix\n",
    "matrix_4t = expand_matrix_2d_with_token(matrix_3t, 'D')\n",
    "matrix_4t"
   ]
  },
  {
   "cell_type": "code",
   "execution_count": 31,
   "metadata": {},
   "outputs": [
    {
     "data": {
      "text/plain": [
       "array([['E', 'D', 'C', 'A', 'B'],\n",
       "       ['E', 'D', 'C', 'B', 'A'],\n",
       "       ['E', 'D', 'A', 'C', 'B'],\n",
       "       ['E', 'D', 'B', 'C', 'A'],\n",
       "       ['E', 'D', 'A', 'B', 'C'],\n",
       "       ['E', 'D', 'B', 'A', 'C'],\n",
       "       ['E', 'C', 'D', 'A', 'B'],\n",
       "       ['E', 'C', 'D', 'B', 'A'],\n",
       "       ['E', 'A', 'D', 'C', 'B'],\n",
       "       ['E', 'B', 'D', 'C', 'A'],\n",
       "       ['E', 'A', 'D', 'B', 'C'],\n",
       "       ['E', 'B', 'D', 'A', 'C'],\n",
       "       ['E', 'C', 'A', 'D', 'B'],\n",
       "       ['E', 'C', 'B', 'D', 'A'],\n",
       "       ['E', 'A', 'C', 'D', 'B'],\n",
       "       ['E', 'B', 'C', 'D', 'A'],\n",
       "       ['E', 'A', 'B', 'D', 'C'],\n",
       "       ['E', 'B', 'A', 'D', 'C'],\n",
       "       ['E', 'C', 'A', 'B', 'D'],\n",
       "       ['E', 'C', 'B', 'A', 'D'],\n",
       "       ['E', 'A', 'C', 'B', 'D'],\n",
       "       ['E', 'B', 'C', 'A', 'D'],\n",
       "       ['E', 'A', 'B', 'C', 'D'],\n",
       "       ['E', 'B', 'A', 'C', 'D'],\n",
       "       ['D', 'E', 'C', 'A', 'B'],\n",
       "       ['D', 'E', 'C', 'B', 'A'],\n",
       "       ['D', 'E', 'A', 'C', 'B'],\n",
       "       ['D', 'E', 'B', 'C', 'A'],\n",
       "       ['D', 'E', 'A', 'B', 'C'],\n",
       "       ['D', 'E', 'B', 'A', 'C'],\n",
       "       ['C', 'E', 'D', 'A', 'B'],\n",
       "       ['C', 'E', 'D', 'B', 'A'],\n",
       "       ['A', 'E', 'D', 'C', 'B'],\n",
       "       ['B', 'E', 'D', 'C', 'A'],\n",
       "       ['A', 'E', 'D', 'B', 'C'],\n",
       "       ['B', 'E', 'D', 'A', 'C'],\n",
       "       ['C', 'E', 'A', 'D', 'B'],\n",
       "       ['C', 'E', 'B', 'D', 'A'],\n",
       "       ['A', 'E', 'C', 'D', 'B'],\n",
       "       ['B', 'E', 'C', 'D', 'A'],\n",
       "       ['A', 'E', 'B', 'D', 'C'],\n",
       "       ['B', 'E', 'A', 'D', 'C'],\n",
       "       ['C', 'E', 'A', 'B', 'D'],\n",
       "       ['C', 'E', 'B', 'A', 'D'],\n",
       "       ['A', 'E', 'C', 'B', 'D'],\n",
       "       ['B', 'E', 'C', 'A', 'D'],\n",
       "       ['A', 'E', 'B', 'C', 'D'],\n",
       "       ['B', 'E', 'A', 'C', 'D'],\n",
       "       ['D', 'C', 'E', 'A', 'B'],\n",
       "       ['D', 'C', 'E', 'B', 'A'],\n",
       "       ['D', 'A', 'E', 'C', 'B'],\n",
       "       ['D', 'B', 'E', 'C', 'A'],\n",
       "       ['D', 'A', 'E', 'B', 'C'],\n",
       "       ['D', 'B', 'E', 'A', 'C'],\n",
       "       ['C', 'D', 'E', 'A', 'B'],\n",
       "       ['C', 'D', 'E', 'B', 'A'],\n",
       "       ['A', 'D', 'E', 'C', 'B'],\n",
       "       ['B', 'D', 'E', 'C', 'A'],\n",
       "       ['A', 'D', 'E', 'B', 'C'],\n",
       "       ['B', 'D', 'E', 'A', 'C'],\n",
       "       ['C', 'A', 'E', 'D', 'B'],\n",
       "       ['C', 'B', 'E', 'D', 'A'],\n",
       "       ['A', 'C', 'E', 'D', 'B'],\n",
       "       ['B', 'C', 'E', 'D', 'A'],\n",
       "       ['A', 'B', 'E', 'D', 'C'],\n",
       "       ['B', 'A', 'E', 'D', 'C'],\n",
       "       ['C', 'A', 'E', 'B', 'D'],\n",
       "       ['C', 'B', 'E', 'A', 'D'],\n",
       "       ['A', 'C', 'E', 'B', 'D'],\n",
       "       ['B', 'C', 'E', 'A', 'D'],\n",
       "       ['A', 'B', 'E', 'C', 'D'],\n",
       "       ['B', 'A', 'E', 'C', 'D'],\n",
       "       ['D', 'C', 'A', 'E', 'B'],\n",
       "       ['D', 'C', 'B', 'E', 'A'],\n",
       "       ['D', 'A', 'C', 'E', 'B'],\n",
       "       ['D', 'B', 'C', 'E', 'A'],\n",
       "       ['D', 'A', 'B', 'E', 'C'],\n",
       "       ['D', 'B', 'A', 'E', 'C'],\n",
       "       ['C', 'D', 'A', 'E', 'B'],\n",
       "       ['C', 'D', 'B', 'E', 'A'],\n",
       "       ['A', 'D', 'C', 'E', 'B'],\n",
       "       ['B', 'D', 'C', 'E', 'A'],\n",
       "       ['A', 'D', 'B', 'E', 'C'],\n",
       "       ['B', 'D', 'A', 'E', 'C'],\n",
       "       ['C', 'A', 'D', 'E', 'B'],\n",
       "       ['C', 'B', 'D', 'E', 'A'],\n",
       "       ['A', 'C', 'D', 'E', 'B'],\n",
       "       ['B', 'C', 'D', 'E', 'A'],\n",
       "       ['A', 'B', 'D', 'E', 'C'],\n",
       "       ['B', 'A', 'D', 'E', 'C'],\n",
       "       ['C', 'A', 'B', 'E', 'D'],\n",
       "       ['C', 'B', 'A', 'E', 'D'],\n",
       "       ['A', 'C', 'B', 'E', 'D'],\n",
       "       ['B', 'C', 'A', 'E', 'D'],\n",
       "       ['A', 'B', 'C', 'E', 'D'],\n",
       "       ['B', 'A', 'C', 'E', 'D'],\n",
       "       ['D', 'C', 'A', 'B', 'E'],\n",
       "       ['D', 'C', 'B', 'A', 'E'],\n",
       "       ['D', 'A', 'C', 'B', 'E'],\n",
       "       ['D', 'B', 'C', 'A', 'E'],\n",
       "       ['D', 'A', 'B', 'C', 'E'],\n",
       "       ['D', 'B', 'A', 'C', 'E'],\n",
       "       ['C', 'D', 'A', 'B', 'E'],\n",
       "       ['C', 'D', 'B', 'A', 'E'],\n",
       "       ['A', 'D', 'C', 'B', 'E'],\n",
       "       ['B', 'D', 'C', 'A', 'E'],\n",
       "       ['A', 'D', 'B', 'C', 'E'],\n",
       "       ['B', 'D', 'A', 'C', 'E'],\n",
       "       ['C', 'A', 'D', 'B', 'E'],\n",
       "       ['C', 'B', 'D', 'A', 'E'],\n",
       "       ['A', 'C', 'D', 'B', 'E'],\n",
       "       ['B', 'C', 'D', 'A', 'E'],\n",
       "       ['A', 'B', 'D', 'C', 'E'],\n",
       "       ['B', 'A', 'D', 'C', 'E'],\n",
       "       ['C', 'A', 'B', 'D', 'E'],\n",
       "       ['C', 'B', 'A', 'D', 'E'],\n",
       "       ['A', 'C', 'B', 'D', 'E'],\n",
       "       ['B', 'C', 'A', 'D', 'E'],\n",
       "       ['A', 'B', 'C', 'D', 'E'],\n",
       "       ['B', 'A', 'C', 'D', 'E']], dtype=object)"
      ]
     },
     "execution_count": 31,
     "metadata": {},
     "output_type": "execute_result"
    }
   ],
   "source": [
    "matrix_5t = expand_matrix_2d_with_token(matrix_4t, 'E')\n",
    "matrix_5t"
   ]
  },
  {
   "cell_type": "code",
   "execution_count": 32,
   "metadata": {},
   "outputs": [
    {
     "data": {
      "text/plain": [
       "array([['F', 'E', 'D', 'C', 'A', 'B'],\n",
       "       ['F', 'E', 'D', 'C', 'B', 'A'],\n",
       "       ['F', 'E', 'D', 'A', 'C', 'B'],\n",
       "       ...,\n",
       "       ['B', 'C', 'A', 'D', 'E', 'F'],\n",
       "       ['A', 'B', 'C', 'D', 'E', 'F'],\n",
       "       ['B', 'A', 'C', 'D', 'E', 'F']], dtype=object)"
      ]
     },
     "execution_count": 32,
     "metadata": {},
     "output_type": "execute_result"
    }
   ],
   "source": [
    "matrix_6t = expand_matrix_2d_with_token(matrix_5t, 'F')\n",
    "matrix_6t"
   ]
  },
  {
   "cell_type": "code",
   "execution_count": 7,
   "metadata": {},
   "outputs": [
    {
     "name": "stdout",
     "output_type": "stream",
     "text": [
      "24 4\n"
     ]
    }
   ],
   "source": [
    "import math\n",
    "\n",
    "array = np.arange(9, dtype=int).reshape(3,3)\n",
    "rows, cols = math.factorial(array.shape[-1]+1), array.shape[-1]+1\n",
    "print(rows, cols)"
   ]
  },
  {
   "cell_type": "code",
   "execution_count": 4,
   "metadata": {},
   "outputs": [
    {
     "data": {
      "text/plain": [
       "array(['A', 'A', 'A', 'A', 'A', 'A', 'A', 'A', 'A'], dtype=object)"
      ]
     },
     "execution_count": 4,
     "metadata": {},
     "output_type": "execute_result"
    }
   ],
   "source": [
    "import numpy as np\n",
    "\n",
    "np.full(9, 'A', dtype=object)"
   ]
  },
  {
   "cell_type": "code",
   "execution_count": 57,
   "metadata": {},
   "outputs": [
    {
     "data": {
      "text/plain": [
       "array([[9, 0, 1, 2],\n",
       "       [9, 3, 4, 5],\n",
       "       [9, 6, 7, 8]])"
      ]
     },
     "execution_count": 57,
     "metadata": {},
     "output_type": "execute_result"
    }
   ],
   "source": [
    "array = np.arange(9, dtype=int).reshape(3,3)\n",
    "array\n",
    "\n",
    "new_chunk = np.insert(array, 0, np.array([9,9,9]), axis=1)\n",
    "new_chunk"
   ]
  }
 ],
 "metadata": {
  "kernelspec": {
   "display_name": "Python 3",
   "language": "python",
   "name": "python3"
  },
  "language_info": {
   "codemirror_mode": {
    "name": "ipython",
    "version": 3
   },
   "file_extension": ".py",
   "mimetype": "text/x-python",
   "name": "python",
   "nbconvert_exporter": "python",
   "pygments_lexer": "ipython3",
   "version": "3.12.2"
  }
 },
 "nbformat": 4,
 "nbformat_minor": 2
}
