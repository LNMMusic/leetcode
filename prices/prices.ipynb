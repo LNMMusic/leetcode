{
 "cells": [
  {
   "cell_type": "markdown",
   "metadata": {},
   "source": [
    "### Price Purchase and Sell Detection\n",
    "StackHold Prices\n",
    "1, 3, 7, 2, 9, 8\n",
    "\n",
    "Restrictions\n",
    "- Pairs go between values without any decrement, otherwise it wouldn't make sense sell an action that we know it will keep increasing, is the same as keeping it. However if there is some drop on the price, we could think on selling before and see if buying chepear can actually give us more profit for future selling on the increments, which would make sense to cut.\n",
    "\n",
    "- Skip prices that are already on a previous profitable range on increments. Based on this, pairs should be registered but following, start from the last pair\n",
    "\n",
    "1° Day\n",
    "- (1,0), (7,2) = 6\t|\t1A\n",
    "\n",
    "2° Day\n",
    "- (3,1), (7,2) = 4\t|\t2A\t\t-> this case should be omitted\n",
    "\n",
    "3° Day\n",
    "- (7,2), (9,4) = 2\t|\t4\t\t-> this case neither\n",
    "\n",
    "4° Day\n",
    "- (2,3), (9,4) = 7\t|\t4A\n",
    "\n",
    "\n",
    "--- FILTERED\n",
    "based on the rules, there is no possible way to have multiple combinations or permutations on the possible purchase and sells, AS LONG AS THEY ARE NOT PARALLEL.\n",
    "\n",
    "1° Day: (1,0), (7,2)\n",
    "\n",
    "4° Day: (2,3), (9,4)"
   ]
  },
  {
   "cell_type": "code",
   "execution_count": 18,
   "metadata": {},
   "outputs": [],
   "source": [
    "from typing import List\n",
    "\n",
    "def maxProfit(prices:List[int]) -> int:\n",
    "    # base case\n",
    "    length = len(prices)\n",
    "    if length == 0:\n",
    "        return 0\n",
    "    \n",
    "    # iterator\n",
    "    price_pairs = []\n",
    "    ix = 0\n",
    "    while ix < length-1:\n",
    "        # find pair\n",
    "        # - prev ... no decremental ... last\n",
    "        prev = ix\n",
    "        decremental = False\n",
    "        for i in range(ix+1, length):\n",
    "            # decremental condition\n",
    "            decremental = prices[i] < prices[prev]\n",
    "            if decremental:\n",
    "                if ix != prev:\n",
    "                    # price_pairs.append([ix, prev])\n",
    "                    price_pairs.append([prices[ix], prices[prev]])\n",
    "                break\n",
    "            else:\n",
    "                prev = i\n",
    "        \n",
    "        if not decremental:\n",
    "            price_pairs.append([prices[ix], prices[prev]])\n",
    "\n",
    "        # update next pair search\n",
    "        ix = prev + 1\n",
    "\n",
    "    profits = []\n",
    "    for ix in range(len(price_pairs)):\n",
    "        purchase, sell = price_pairs[ix][0], price_pairs[ix][1]\n",
    "        profits.append(sell-purchase)\n",
    "    \n",
    "    return sum(profits)"
   ]
  },
  {
   "cell_type": "code",
   "execution_count": 20,
   "metadata": {},
   "outputs": [
    {
     "name": "stdout",
     "output_type": "stream",
     "text": [
      "0\n",
      "0\n",
      "0\n",
      "7\n",
      "0\n",
      "13\n"
     ]
    }
   ],
   "source": [
    "print(maxProfit([]))\n",
    "print(maxProfit([0]))\n",
    "print(maxProfit([6,5,4,3,2,1]))\n",
    "print(maxProfit([1,2,3,4,2,6]))\n",
    "print(maxProfit([1,1,1,1,1,1]))\n",
    "print(maxProfit([1,3,7,2,9,8]))"
   ]
  },
  {
   "cell_type": "markdown",
   "metadata": {},
   "source": [
    "## Simplified Algorithm - Greedy Algorithm"
   ]
  },
  {
   "cell_type": "code",
   "execution_count": 49,
   "metadata": {},
   "outputs": [],
   "source": [
    "from typing import Tuple, List\n",
    "\n",
    "def maxProfitGreedy(prices:List[int]) -> Tuple[int, List[List[int]]]:\n",
    "    transaction_register = []\n",
    "    profit=0\n",
    "\n",
    "    # base case\n",
    "    if len(prices) < 2:\n",
    "        return profit, transaction_register\n",
    "\n",
    "    # greedy\n",
    "    init = 0\n",
    "    decremental = False\n",
    "    incremental = False\n",
    "    for i in range(len(prices)-1):\n",
    "        s, l = prices[i], prices[i+1]\n",
    "\n",
    "        decremental = l < s\n",
    "        incremental = l > s\n",
    "        if decremental:\n",
    "            if init != i:\n",
    "                transaction_register.append([init, i])\n",
    "            init = i+1\n",
    "        else:\n",
    "            profit += l - s\n",
    "\n",
    "    if not decremental and incremental:\n",
    "        transaction_register.append([init, i+1])\n",
    "\n",
    "    return profit, transaction_register"
   ]
  },
  {
   "cell_type": "code",
   "execution_count": 50,
   "metadata": {},
   "outputs": [
    {
     "name": "stdout",
     "output_type": "stream",
     "text": [
      "(0, [])\n",
      "(0, [])\n",
      "(0, [])\n",
      "(5, [[0, 5]])\n",
      "(0, [])\n",
      "(13, [[0, 2], [3, 4]])\n"
     ]
    }
   ],
   "source": [
    "print(maxProfitGreedy([]))\n",
    "print(maxProfitGreedy([0]))\n",
    "print(maxProfitGreedy([6,5,4,3,2,1]))\n",
    "print(maxProfitGreedy([1,2,3,4,5,6]))\n",
    "print(maxProfitGreedy([1,1,1,1,1,1]))\n",
    "print(maxProfitGreedy([1,3,7,2,9]))"
   ]
  },
  {
   "cell_type": "code",
   "execution_count": 60,
   "metadata": {},
   "outputs": [],
   "source": [
    "def maxProfitGreedy(prices:List[int]) -> int:\n",
    "    profit = 0\n",
    "    for i in range(len(prices)-1):\n",
    "        s, l = prices[i], prices[i+1]\n",
    "        if l > s:\n",
    "            profit += l - s\n",
    "    return profit\n"
   ]
  },
  {
   "cell_type": "code",
   "execution_count": 61,
   "metadata": {},
   "outputs": [
    {
     "name": "stdout",
     "output_type": "stream",
     "text": [
      "0\n",
      "0\n",
      "0\n",
      "5\n",
      "0\n",
      "13\n"
     ]
    }
   ],
   "source": [
    "print(maxProfitGreedy([]))\n",
    "print(maxProfitGreedy([0]))\n",
    "print(maxProfitGreedy([6,5,4,3,2,1]))\n",
    "print(maxProfitGreedy([1,2,3,4,5,6]))\n",
    "print(maxProfitGreedy([1,1,1,1,1,1]))\n",
    "print(maxProfitGreedy([1,3,7,2,9]))"
   ]
  }
 ],
 "metadata": {
  "kernelspec": {
   "display_name": "Python 3",
   "language": "python",
   "name": "python3"
  },
  "language_info": {
   "codemirror_mode": {
    "name": "ipython",
    "version": 3
   },
   "file_extension": ".py",
   "mimetype": "text/x-python",
   "name": "python",
   "nbconvert_exporter": "python",
   "pygments_lexer": "ipython3",
   "version": "3.12.2"
  }
 },
 "nbformat": 4,
 "nbformat_minor": 2
}
