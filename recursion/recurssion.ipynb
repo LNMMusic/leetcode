{
 "cells": [
  {
   "cell_type": "code",
   "execution_count": 1,
   "metadata": {},
   "outputs": [
    {
     "name": "stdout",
     "output_type": "stream",
     "text": [
      "['D', 'D', 'D', 'R', 'R']\n",
      "['D', 'D', 'R', 'D', 'R']\n",
      "['D', 'D', 'R', 'R', 'D']\n",
      "['D', 'R', 'D', 'D', 'R']\n",
      "['D', 'R', 'D', 'R', 'D']\n",
      "['D', 'R', 'R', 'D', 'D']\n",
      "['R', 'D', 'D', 'D', 'R']\n",
      "['R', 'D', 'D', 'R', 'D']\n",
      "['R', 'D', 'R', 'D', 'D']\n",
      "['R', 'R', 'D', 'D', 'D']\n"
     ]
    }
   ],
   "source": [
    "def permute_unique(elements):\n",
    "    # Convert the element list to a dictionary of counts\n",
    "    counts = {element: elements.count(element) for element in set(elements)}\n",
    "    \n",
    "    def backtrack(path):\n",
    "        if len(path) == len(elements):\n",
    "            result.append(path[:])\n",
    "            return\n",
    "        for element in counts:\n",
    "            if counts[element] > 0:\n",
    "                path.append(element)\n",
    "                counts[element] -= 1\n",
    "                backtrack(path)\n",
    "                path.pop()\n",
    "                counts[element] += 1\n",
    "    \n",
    "    result = []\n",
    "    backtrack([])\n",
    "    return result\n",
    "\n",
    "# Example usage\n",
    "elements = ['D', 'D', 'D', 'R', 'R']  # D=3, R=2\n",
    "for perm in permute_unique(elements):\n",
    "    print(perm)"
   ]
  },
  {
   "cell_type": "code",
   "execution_count": null,
   "metadata": {},
   "outputs": [],
   "source": []
  }
 ],
 "metadata": {
  "kernelspec": {
   "display_name": "Python 3",
   "language": "python",
   "name": "python3"
  },
  "language_info": {
   "codemirror_mode": {
    "name": "ipython",
    "version": 3
   },
   "file_extension": ".py",
   "mimetype": "text/x-python",
   "name": "python",
   "nbconvert_exporter": "python",
   "pygments_lexer": "ipython3",
   "version": "3.12.2"
  }
 },
 "nbformat": 4,
 "nbformat_minor": 2
}
