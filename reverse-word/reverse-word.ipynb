{
 "cells": [
  {
   "cell_type": "code",
   "execution_count": 2,
   "metadata": {},
   "outputs": [],
   "source": [
    "from typing import List"
   ]
  },
  {
   "cell_type": "code",
   "execution_count": 3,
   "metadata": {},
   "outputs": [],
   "source": [
    "class Solution:\n",
    "    def reverseWords(self, s: str) -> str:\n",
    "        direction = 0\n",
    "        phrase = ''\n",
    "        word = ''\n",
    "        for char in s:\n",
    "            if not direction:\n",
    "                if char != ' ':\n",
    "                    word += char\n",
    "                    direction = 1\n",
    "            else:\n",
    "                if char != ' ':\n",
    "                    word += char\n",
    "                else:\n",
    "                    phrase = ' ' + word + phrase\n",
    "                    word = ''\n",
    "                    direction = 0\n",
    "\n",
    "        if word:\n",
    "            return word + phrase\n",
    "        else:\n",
    "            return phrase[1:]"
   ]
  },
  {
   "cell_type": "code",
   "execution_count": null,
   "metadata": {},
   "outputs": [],
   "source": [
    "class Solution:\n",
    "    def reverseWords(self, s: str) -> str:\n",
    "        words = []\n",
    "        word = []\n",
    "        for c in s:\n",
    "            if not word:\n",
    "                if c != ' ':\n",
    "                    word.append(c)\n",
    "            else:\n",
    "                if c != ' ':\n",
    "                    word.append(c)\n",
    "                else:\n",
    "                    words.append(''.join(word))\n",
    "                    word = []\n",
    "        \n",
    "        if word:\n",
    "            words.append(''.join(word))\n",
    "        \n",
    "        return ' '.join(reversed(words))"
   ]
  },
  {
   "cell_type": "code",
   "execution_count": null,
   "metadata": {},
   "outputs": [],
   "source": [
    "class Solution:\n",
    "    def reverseWords(self, s: str) -> str:\n",
    "        words = []\n",
    "        word = ''\n",
    "        for c in s[::-1]:\n",
    "            if not word:\n",
    "                if c != ' ':\n",
    "                    word = c + word\n",
    "            else:\n",
    "                if c != ' ':\n",
    "                    word = c + word\n",
    "                else:\n",
    "                    words.append(word)\n",
    "                    word = ''\n",
    "        \n",
    "        if word:\n",
    "            words.append(word)\n",
    "        \n",
    "        return ' '.join(words)"
   ]
  }
 ],
 "metadata": {
  "kernelspec": {
   "display_name": "Python 3",
   "language": "python",
   "name": "python3"
  },
  "language_info": {
   "codemirror_mode": {
    "name": "ipython",
    "version": 3
   },
   "file_extension": ".py",
   "mimetype": "text/x-python",
   "name": "python",
   "nbconvert_exporter": "python",
   "pygments_lexer": "ipython3",
   "version": "3.12.2"
  }
 },
 "nbformat": 4,
 "nbformat_minor": 2
}
