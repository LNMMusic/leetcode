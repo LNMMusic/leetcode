{
 "cells": [
  {
   "cell_type": "code",
   "execution_count": 9,
   "metadata": {},
   "outputs": [],
   "source": [
    "class Solution:\n",
    "    def intToRoman(self, num: int) -> str:\n",
    "        # dictionary\n",
    "        level = {\n",
    "            1: ['I','V','X'],\n",
    "            2: ['X','L','C']M\n",
    "        }\n",
    "        vocab = [\n",
    "            ['I', 1],\n",
    "            ['V', 5],\n",
    "            ['X', 10],\n",
    "            ['L', 50],\n",
    "            ['C', 100],\n",
    "            ['D', 500],\n",
    "            ['M', 1000]\n",
    "        ]\n",
    "\n",
    "        roman = ''\n",
    "        m = 1\n",
    "        d, r = -1, -1\n",
    "        while d and r:\n",
    "            # fetch\n",
    "            # - division and remanent\n",
    "            # - decimal: aproximated by m\n",
    "            d, r = num // 10, num % 10\n",
    "            decimal = r * m\n",
    "            # update next iter\n",
    "            num = d\n",
    "            m *= 10\n",
    "\n",
    "            # skip in case no decimal\n",
    "            if not decimal:\n",
    "                continue\n",
    "\n",
    "            # translate decimal to roman\n",
    "            for i in range(2, 7, 2):\n",
    "                # fetch 3 range numbers\n",
    "                unit_t, unit_n = vocab[i-2][0], vocab[i-2][1]\n",
    "                mid_t, mid_n   = vocab[i][0], vocab[i][1]\n",
    "                lim_t, lim_n   = vocab[i][0], vocab[i][1]\n",
    "\n",
    "                if decimal < unit_n or decimal >= lim_n:\n",
    "                    continue\n",
    "\n",
    "                # roman arrangement (inversed)\n",
    "                if decimal == mid_n-unit_n:\n",
    "                    roman = (unit_t + mid_t) + roman\n",
    "                elif decimal == lim_n-unit_n:\n",
    "                    roman = (unit_t + lim_t) + roman\n",
    "                elif decimal < mid_n:\n",
    "                    roman = (unit_t * r) + roman\n",
    "                elif decimal >= mid_n:\n",
    "                    roman = (mid_t + unit_t * ((decimal - mid_n)//m)) + roman\n",
    "                break\n",
    "        \n",
    "        return roman"
   ]
  },
  {
   "cell_type": "code",
   "execution_count": 28,
   "metadata": {},
   "outputs": [],
   "source": [
    "class Solution:\n",
    "    def intToRoman(self, num: int) -> str:\n",
    "        # roman vocab\n",
    "        vocab = [\n",
    "            ['I','V','X'],\n",
    "            ['X','L','C'],\n",
    "            ['C','D','M'],\n",
    "            ['M','-','-']\n",
    "        ]\n",
    "\n",
    "        roman = ''\n",
    "        n = 0\n",
    "        while num > 0:\n",
    "            # fetch\n",
    "            # - division and remanent\n",
    "            # - decimal: aproximated by n\n",
    "            # d, r = num // 10, num % 10\n",
    "            d, r = divmod(num, 10)\n",
    "            \n",
    "            # translate decimal to roman\n",
    "            if r:\n",
    "                tokens = vocab[n]\n",
    "                u, m, l= tokens[0], tokens[1], tokens[2]\n",
    "                # cases\n",
    "                if r == 4:\n",
    "                    roman = (u + m) + roman\n",
    "                elif r == 9:\n",
    "                    roman = (u + l) + roman\n",
    "                elif r < 5:\n",
    "                    roman = (u * r) + roman\n",
    "                else:\n",
    "                    roman = (m + u * (r - 5)) + roman\n",
    "            \n",
    "            # update next iter\n",
    "            num = d\n",
    "            n += 1\n",
    "\n",
    "        return roman"
   ]
  },
  {
   "cell_type": "code",
   "execution_count": 30,
   "metadata": {},
   "outputs": [
    {
     "data": {
      "text/plain": [
       "'MMMDLXVII'"
      ]
     },
     "execution_count": 30,
     "metadata": {},
     "output_type": "execute_result"
    }
   ],
   "source": [
    "s = Solution()\n",
    "s.intToRoman(3567)"
   ]
  },
  {
   "cell_type": "code",
   "execution_count": 16,
   "metadata": {},
   "outputs": [
    {
     "data": {
      "text/plain": [
       "'2'"
      ]
     },
     "execution_count": 16,
     "metadata": {},
     "output_type": "execute_result"
    }
   ],
   "source": [
    "h = {\n",
    "    1: '2'\n",
    "}\n",
    "h[1]"
   ]
  }
 ],
 "metadata": {
  "kernelspec": {
   "display_name": "Python 3",
   "language": "python",
   "name": "python3"
  },
  "language_info": {
   "codemirror_mode": {
    "name": "ipython",
    "version": 3
   },
   "file_extension": ".py",
   "mimetype": "text/x-python",
   "name": "python",
   "nbconvert_exporter": "python",
   "pygments_lexer": "ipython3",
   "version": "3.12.2"
  }
 },
 "nbformat": 4,
 "nbformat_minor": 2
}
