{
 "cells": [
  {
   "cell_type": "code",
   "execution_count": 1,
   "metadata": {},
   "outputs": [
    {
     "name": "stdout",
     "output_type": "stream",
     "text": [
      "[[ 1  2  3  4  5]\n",
      " [16 17 18 19  6]\n",
      " [15 24 25 20  7]\n",
      " [14 23 22 21  8]\n",
      " [13 12 11 10  9]]\n"
     ]
    }
   ],
   "source": [
    "import numpy as np\n",
    "\n",
    "def fill_spiral(n):\n",
    "    # Initialize the matrix and boundaries\n",
    "    matrix = np.zeros((n, n), dtype=int)\n",
    "    top, bottom = 0, n - 1\n",
    "    left, right = 0, n - 1\n",
    "    num = 1\n",
    "    \n",
    "    # Directions: right, down, left, up\n",
    "    directions = [(0, 1), (1, 0), (0, -1), (-1, 0)]\n",
    "    dir_index = 0  # Start with the 'right' direction\n",
    "    x, y = 0, 0  # Starting position\n",
    "    \n",
    "    while top <= bottom and left <= right:\n",
    "        if dir_index == 0:  # Fill from left to right\n",
    "            for y in range(left, right + 1):\n",
    "                matrix[top, y] = num\n",
    "                num += 1\n",
    "            top += 1\n",
    "        elif dir_index == 1:  # Fill from top to bottom\n",
    "            for x in range(top, bottom + 1):\n",
    "                matrix[x, right] = num\n",
    "                num += 1\n",
    "            right -= 1\n",
    "        elif dir_index == 2:  # Fill from right to left\n",
    "            for y in range(right, left - 1, -1):\n",
    "                matrix[bottom, y] = num\n",
    "                num += 1\n",
    "            bottom -= 1\n",
    "        elif dir_index == 3:  # Fill from bottom to top\n",
    "            for x in range(bottom, top - 1, -1):\n",
    "                matrix[x, left] = num\n",
    "                num += 1\n",
    "            left += 1\n",
    "        \n",
    "        # Move to the next direction\n",
    "        dir_index = (dir_index + 1) % 4\n",
    "    \n",
    "    return matrix\n",
    "\n",
    "# Example usage:\n",
    "n = 5\n",
    "result = fill_spiral(n)\n",
    "print(result)\n"
   ]
  },
  {
   "cell_type": "code",
   "execution_count": null,
   "metadata": {},
   "outputs": [],
   "source": []
  }
 ],
 "metadata": {
  "kernelspec": {
   "display_name": "Python 3",
   "language": "python",
   "name": "python3"
  },
  "language_info": {
   "codemirror_mode": {
    "name": "ipython",
    "version": 3
   },
   "file_extension": ".py",
   "mimetype": "text/x-python",
   "name": "python",
   "nbconvert_exporter": "python",
   "pygments_lexer": "ipython3",
   "version": "3.12.2"
  }
 },
 "nbformat": 4,
 "nbformat_minor": 2
}
