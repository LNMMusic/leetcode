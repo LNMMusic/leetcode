{
 "cells": [
  {
   "cell_type": "code",
   "execution_count": 5,
   "metadata": {},
   "outputs": [],
   "source": [
    "import numpy as np\n",
    "\n",
    "def fill_spiral(n:int) -> np.array:\n",
    "    # matrix\n",
    "    matrix = np.zeros((n,n), dtype=int)\n",
    "    row_min, row_max = 0, n-1\n",
    "    col_min, col_max = 0, n-1\n",
    "\n",
    "    num = 1\n",
    "    direction = 0\n",
    "    while row_min <= row_max and col_min <= col_max:\n",
    "        # directioner\n",
    "        if direction == 0:      # left to right (from top)\n",
    "            for x in range(col_min, col_max+1):\n",
    "                matrix[row_min, x] = num\n",
    "                num += 1\n",
    "            row_min += 1\n",
    "        elif direction == 1:    # top to bottom (from right)\n",
    "            for y in range(row_min, row_max+1):\n",
    "                matrix[y, col_max] = num\n",
    "                num += 1\n",
    "            col_max -= 1\n",
    "        elif direction == 2:    # right to left (from bottom)\n",
    "            for x in range(col_max, col_min-1, -1):\n",
    "                matrix[row_max, x] = num\n",
    "                num += 1\n",
    "            row_max -= 1\n",
    "        elif direction == 3:    # bottom to top (from left)\n",
    "            for y in range(row_max, row_min-1, -1):\n",
    "                matrix[y, col_min] = num\n",
    "                num += 1\n",
    "            col_min += 1\n",
    "        else:\n",
    "            raise ValueError(\"invalid direction\")\n",
    "\n",
    "        # switch direction\n",
    "        direction = (direction + 1) % 4\n",
    "\n",
    "    return matrix.tolist()"
   ]
  },
  {
   "cell_type": "code",
   "execution_count": 15,
   "metadata": {},
   "outputs": [
    {
     "data": {
      "text/plain": [
       "[[1]]"
      ]
     },
     "execution_count": 15,
     "metadata": {},
     "output_type": "execute_result"
    }
   ],
   "source": [
    "array = fill_spiral(1)\n",
    "array.tolist()"
   ]
  },
  {
   "cell_type": "code",
   "execution_count": 16,
   "metadata": {},
   "outputs": [],
   "source": [
    "def fill_spiral_normal(n:int) -> np.array:\n",
    "    # matrix\n",
    "    matrix = [[0]*n for _ in range(0, n)]\n",
    "    row_min, row_max = 0, n-1\n",
    "    col_min, col_max = 0, n-1\n",
    "\n",
    "    num = 1\n",
    "    direction = 0\n",
    "    while row_min <= row_max and col_min <= col_max:\n",
    "        # directioner\n",
    "        if direction == 0:      # left to right (from top)\n",
    "            for x in range(col_min, col_max+1):\n",
    "                matrix[row_min][x] = num\n",
    "                num += 1\n",
    "            row_min += 1\n",
    "        elif direction == 1:    # top to bottom (from right)\n",
    "            for y in range(row_min, row_max+1):\n",
    "                matrix[y][col_max] = num\n",
    "                num += 1\n",
    "            col_max -= 1\n",
    "        elif direction == 2:    # right to left (from bottom)\n",
    "            for x in range(col_max, col_min-1, -1):\n",
    "                matrix[row_max][x] = num\n",
    "                num += 1\n",
    "            row_max -= 1\n",
    "        elif direction == 3:    # bottom to top (from left)\n",
    "            for y in range(row_max, row_min-1, -1):\n",
    "                matrix[y][col_min] = num\n",
    "                num += 1\n",
    "            col_min += 1\n",
    "\n",
    "        # switch direction\n",
    "        direction = (direction + 1) % 4\n",
    "\n",
    "    return matrix"
   ]
  },
  {
   "cell_type": "code",
   "execution_count": 17,
   "metadata": {},
   "outputs": [
    {
     "data": {
      "text/plain": [
       "[[1, 2, 3], [8, 9, 4], [7, 6, 5]]"
      ]
     },
     "execution_count": 17,
     "metadata": {},
     "output_type": "execute_result"
    }
   ],
   "source": [
    "fill_spiral_normal(3)"
   ]
  }
 ],
 "metadata": {
  "kernelspec": {
   "display_name": "Python 3",
   "language": "python",
   "name": "python3"
  },
  "language_info": {
   "codemirror_mode": {
    "name": "ipython",
    "version": 3
   },
   "file_extension": ".py",
   "mimetype": "text/x-python",
   "name": "python",
   "nbconvert_exporter": "python",
   "pygments_lexer": "ipython3",
   "version": "3.12.2"
  }
 },
 "nbformat": 4,
 "nbformat_minor": 2
}
