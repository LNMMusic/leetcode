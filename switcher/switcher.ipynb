{
 "cells": [
  {
   "cell_type": "markdown",
   "metadata": {},
   "source": [
    "Given a linked list, swap every two adjacent nodes and return its head. You must solve the problem without modifying the values in the list's nodes (i.e., only nodes themselves may be changed.)\n",
    "\n",
    "Example 1:\n",
    "Input: head = [1,2,3,4]\n",
    "Output: [2,1,4,3]\n",
    "\n",
    "Example 2:\n",
    "Input: head = []\n",
    "Output: []\n",
    "\n",
    "Example 3:\n",
    "Input: head = [1]\n",
    "Output: [1]"
   ]
  },
  {
   "cell_type": "code",
   "execution_count": 1,
   "metadata": {},
   "outputs": [],
   "source": [
    "def switcher(values:list)->list:\n",
    "    cp = values.copy()\n",
    "    length = len(cp)\n",
    "\n",
    "    # base cases\n",
    "    if length == 0 or length == 1:\n",
    "        return values\n",
    "\n",
    "    # default behaviour\n",
    "    limit = length\n",
    "    if length%2 != 0:\n",
    "        limit = length-1\n",
    "    \n",
    "    for i in range(0, limit, 2):\n",
    "        cp[i], cp[i+1] = cp[i+1], cp[i]\n",
    "    \n",
    "    return cp"
   ]
  },
  {
   "cell_type": "code",
   "execution_count": 2,
   "metadata": {},
   "outputs": [
    {
     "data": {
      "text/plain": [
       "{'empty': [],\n",
       " 'single': [1],\n",
       " 'double': [2, 1],\n",
       " 'triple': [2, 1, 3],\n",
       " 'quad': [2, 1, 4, 3]}"
      ]
     },
     "execution_count": 2,
     "metadata": {},
     "output_type": "execute_result"
    }
   ],
   "source": [
    "'''\n",
    "Table Cases\n",
    "Input           | Output\n",
    "----------------|-------\n",
    "[]              | []\n",
    "[1]             | [1]\n",
    "[1,2]           | [2,1]\n",
    "[1,2,3]         | [2,1,3]\n",
    "[1,2,3,4]       | [2,1,4,3]\n",
    "'''\n",
    "results = {}\n",
    "results['empty'] = switcher([])\n",
    "results['single'] = switcher([1])\n",
    "results['double'] = switcher([1,2])\n",
    "results['triple'] = switcher([1,2,3])\n",
    "results['quad'] = switcher([1,2,3,4])\n",
    "results"
   ]
  },
  {
   "cell_type": "code",
   "execution_count": 5,
   "metadata": {},
   "outputs": [
    {
     "name": "stdout",
     "output_type": "stream",
     "text": [
      "False\n"
     ]
    }
   ],
   "source": [
    "val = None\n",
    "\n",
    "print(val is not None)"
   ]
  },
  {
   "cell_type": "code",
   "execution_count": null,
   "metadata": {},
   "outputs": [],
   "source": [
    "class Solution:\n",
    "    def swapPairs(self, head: Optional[ListNode]) -> Optional[ListNode]:\n",
    "        linked_list = ListNode()\n",
    "\n",
    "        # base case\n",
    "        if head.next is None:\n",
    "            linked_list.val = head.val\n",
    "            return linked_list\n",
    "        else:\n",
    "            linked_list.next = ListNode()\n",
    "        \n",
    "        # default case\n",
    "        current_node = linked_list\n",
    "        while current_node is not None:\n",
    "            # swap\n",
    "            linked_list.val = next_node.val\n",
    "            linked_list.next = ListNode(val=current_node.val)\n",
    "            \n",
    "            # update\n",
    "            current_node = linked_list.next\n",
    "    \n",
    "        return linked_list"
   ]
  },
  {
   "cell_type": "code",
   "execution_count": 36,
   "metadata": {},
   "outputs": [],
   "source": [
    "# Definition for singly-linked list.\n",
    "class ListNode:\n",
    "    def __init__(self, val=0, next=None):\n",
    "        self.val = val\n",
    "        self.next = next\n",
    "    \n",
    "def swapPairs(head: ListNode) -> ListNode:\n",
    "    # result\n",
    "    if head is None:\n",
    "        return None\n",
    "\n",
    "    copy = ListNode()\n",
    "    \n",
    "    # tracking\n",
    "    head_node = head\n",
    "    copy_node = copy\n",
    "    while head_node is not None:\n",
    "        # boundaries\n",
    "        if head_node.next is None:\n",
    "            copy_node.val = head_node.val\n",
    "            copy_node.next= None\n",
    "            # update node\n",
    "            head_node = head_node.next\n",
    "        else:\n",
    "            # swap\n",
    "            copy_node.val = head_node.next.val\n",
    "            copy_node.next= ListNode(val=head_node.val)\n",
    "\n",
    "            # update nodes\n",
    "            head_node = head_node.next.next\n",
    "            if head_node is not None:\n",
    "                new_node = ListNode()\n",
    "                copy_node.next.next = new_node\n",
    "                copy_node = new_node\n",
    "\n",
    "    return copy"
   ]
  },
  {
   "cell_type": "code",
   "execution_count": 32,
   "metadata": {},
   "outputs": [
    {
     "name": "stdout",
     "output_type": "stream",
     "text": [
      "1\n",
      "2\n",
      "3\n",
      "4\n"
     ]
    }
   ],
   "source": [
    "head = ListNode(\n",
    "    val=1,\n",
    "    next=ListNode(\n",
    "        val=2,\n",
    "        next=ListNode(\n",
    "            val=3,\n",
    "            next=ListNode(\n",
    "                val=4,\n",
    "            )\n",
    "        )\n",
    "    )\n",
    ")\n",
    "print(head.val)\n",
    "print(head.next.val)\n",
    "print(head.next.next.val)\n",
    "print(head.next.next.next.val)"
   ]
  },
  {
   "cell_type": "code",
   "execution_count": 33,
   "metadata": {},
   "outputs": [],
   "source": [
    "copy = swapPairs(head)"
   ]
  },
  {
   "cell_type": "code",
   "execution_count": 34,
   "metadata": {},
   "outputs": [
    {
     "name": "stdout",
     "output_type": "stream",
     "text": [
      "2\n",
      "1\n",
      "4\n",
      "3\n"
     ]
    }
   ],
   "source": [
    "print(copy.val)\n",
    "print(copy.next.val)\n",
    "print(copy.next.next.val)\n",
    "print(copy.next.next.next.val)"
   ]
  },
  {
   "cell_type": "code",
   "execution_count": 37,
   "metadata": {},
   "outputs": [
    {
     "name": "stdout",
     "output_type": "stream",
     "text": [
      "None\n"
     ]
    }
   ],
   "source": [
    "print(swapPairs(None))"
   ]
  },
  {
   "cell_type": "code",
   "execution_count": 38,
   "metadata": {},
   "outputs": [
    {
     "name": "stdout",
     "output_type": "stream",
     "text": [
      "1\n"
     ]
    }
   ],
   "source": [
    "result = swapPairs(ListNode(val=1))\n",
    "print(result.val)"
   ]
  },
  {
   "cell_type": "markdown",
   "metadata": {},
   "source": [
    "---"
   ]
  },
  {
   "cell_type": "code",
   "execution_count": null,
   "metadata": {},
   "outputs": [],
   "source": [
    "def swapPairsOptimized(head:ListNode) -> ListNode:\n",
    "    # origin\n",
    "    origin = ListNode(val=0, next=head)     # dummy node: we won't return this, but the next one\n",
    "\n",
    "    # tracking\n",
    "    current = origin\n",
    "    while head and head.next:\n",
    "        # identify and swap\n",
    "        first_node = head\n",
    "        second_node = head.next\n",
    "        first_node.next = second_node.next\n",
    "        second_node.next = first_node\n",
    "\n",
    "        # update current next\n",
    "        current.next = second_node\n",
    "\n",
    "        # update tracking\n",
    "        current = first_node\n",
    "        head = first_node.next\n",
    "\n",
    "    return origin.next"
   ]
  }
 ],
 "metadata": {
  "kernelspec": {
   "display_name": "Python 3",
   "language": "python",
   "name": "python3"
  },
  "language_info": {
   "codemirror_mode": {
    "name": "ipython",
    "version": 3
   },
   "file_extension": ".py",
   "mimetype": "text/x-python",
   "name": "python",
   "nbconvert_exporter": "python",
   "pygments_lexer": "ipython3",
   "version": "3.12.2"
  }
 },
 "nbformat": 4,
 "nbformat_minor": 2
}
