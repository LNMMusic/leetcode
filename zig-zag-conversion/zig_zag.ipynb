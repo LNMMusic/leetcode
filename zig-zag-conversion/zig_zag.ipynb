{
 "cells": [
  {
   "cell_type": "code",
   "execution_count": 6,
   "metadata": {},
   "outputs": [],
   "source": [
    "class Solution:\n",
    "    def convert(self, s: str, numRows: int) -> str:\n",
    "        words = ['' for _ in range(numRows)]\n",
    "        words[0] += s[0]\n",
    "\n",
    "        limit = numRows - 1\n",
    "        direction = 0           # 0: down | 1: up\n",
    "        current = 0; moves = 0\n",
    "        for c in s[1:]:\n",
    "            # update move\n",
    "            if direction == 0:\n",
    "                current += 1\n",
    "            elif direction == 1:\n",
    "                current -= 1\n",
    "            moves += 1\n",
    "\n",
    "            # add char\n",
    "            words[current] += c\n",
    "\n",
    "            # direction swap\n",
    "            if moves >= limit:\n",
    "                direction = (direction + 1) % 2\n",
    "                moves = 0\n",
    "        \n",
    "        return ''.join(words)"
   ]
  },
  {
   "cell_type": "code",
   "execution_count": 11,
   "metadata": {},
   "outputs": [],
   "source": [
    "class Solution:\n",
    "    def convert(self, s: str, numRowns: int) -> str:\n",
    "        if numRowns == 1:\n",
    "            return s\n",
    "        \n",
    "        words = ['' for _ in range(numRowns)]\n",
    "\n",
    "        limit_min = 0; limit_max = numRowns - 1\n",
    "        row = 0; direction = 0\n",
    "        for char in s:\n",
    "            words[row] += char\n",
    "\n",
    "            if direction == 0:\n",
    "                row += 1\n",
    "            else:\n",
    "                row -= 1\n",
    "            \n",
    "            if row == limit_min or row == limit_max:\n",
    "                direction = (direction + 1) % 2 \n",
    "        \n",
    "        return ''.join(words)"
   ]
  },
  {
   "cell_type": "code",
   "execution_count": 13,
   "metadata": {},
   "outputs": [
    {
     "data": {
      "text/plain": [
       "'PAYPALISHIRING'"
      ]
     },
     "execution_count": 13,
     "metadata": {},
     "output_type": "execute_result"
    }
   ],
   "source": [
    "s = Solution()\n",
    "s.convert(\"PAYPALISHIRING\", 1)"
   ]
  }
 ],
 "metadata": {
  "kernelspec": {
   "display_name": "Python 3",
   "language": "python",
   "name": "python3"
  },
  "language_info": {
   "codemirror_mode": {
    "name": "ipython",
    "version": 3
   },
   "file_extension": ".py",
   "mimetype": "text/x-python",
   "name": "python",
   "nbconvert_exporter": "python",
   "pygments_lexer": "ipython3",
   "version": "3.12.2"
  }
 },
 "nbformat": 4,
 "nbformat_minor": 2
}
